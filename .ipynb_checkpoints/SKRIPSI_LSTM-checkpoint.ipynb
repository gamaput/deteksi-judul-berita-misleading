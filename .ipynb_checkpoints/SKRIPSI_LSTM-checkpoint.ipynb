{
 "cells": [
  {
   "cell_type": "code",
   "execution_count": 1,
   "metadata": {},
   "outputs": [
    {
     "name": "stdout",
     "output_type": "stream",
     "text": [
      "Requirement already satisfied: Sastrawi in c:\\users\\aprilia\\anaconda3\\lib\\site-packages (1.0.1)\n"
     ]
    }
   ],
   "source": [
    "! pip install Sastrawi"
   ]
  },
  {
   "cell_type": "markdown",
   "metadata": {
    "id": "Zuu7oJ4u9M5w"
   },
   "source": [
    "## Import Libraries"
   ]
  },
  {
   "cell_type": "code",
   "execution_count": 2,
   "metadata": {
    "executionInfo": {
     "elapsed": 6465,
     "status": "ok",
     "timestamp": 1675496219935,
     "user": {
      "displayName": "Gama Putra Adi Susilo",
      "userId": "11761602289089114790"
     },
     "user_tz": -420
    },
    "id": "ZBS1bYoBqJZj"
   },
   "outputs": [],
   "source": [
    "# Import Libraries\n",
    "\n",
    "import numpy as np\n",
    "import pandas as pd\n",
    "import tensorflow as tf\n",
    "from tensorflow import keras\n",
    "from keras import models, layers\n",
    "import matplotlib.pyplot as plt"
   ]
  },
  {
   "cell_type": "markdown",
   "metadata": {
    "id": "I3co-M4p9jpH"
   },
   "source": [
    "## Load Dataset"
   ]
  },
  {
   "cell_type": "code",
   "execution_count": 3,
   "metadata": {
    "colab": {
     "base_uri": "https://localhost:8080/",
     "height": 337
    },
    "executionInfo": {
     "elapsed": 45,
     "status": "ok",
     "timestamp": 1675496223078,
     "user": {
      "displayName": "Gama Putra Adi Susilo",
      "userId": "11761602289089114790"
     },
     "user_tz": -420
    },
    "id": "hRXk87E0m8va",
    "outputId": "ba036cfe-6bd7-4d61-b3b7-7f74ea3ae124"
   },
   "outputs": [
    {
     "data": {
      "text/html": [
       "<div>\n",
       "<style scoped>\n",
       "    .dataframe tbody tr th:only-of-type {\n",
       "        vertical-align: middle;\n",
       "    }\n",
       "\n",
       "    .dataframe tbody tr th {\n",
       "        vertical-align: top;\n",
       "    }\n",
       "\n",
       "    .dataframe thead th {\n",
       "        text-align: right;\n",
       "    }\n",
       "</style>\n",
       "<table border=\"1\" class=\"dataframe\">\n",
       "  <thead>\n",
       "    <tr style=\"text-align: right;\">\n",
       "      <th></th>\n",
       "      <th>content</th>\n",
       "      <th>date</th>\n",
       "      <th>title</th>\n",
       "      <th>label</th>\n",
       "    </tr>\n",
       "  </thead>\n",
       "  <tbody>\n",
       "    <tr>\n",
       "      <th>0</th>\n",
       "      <td>Berita SurabayaSURYA.co.id | SURABAYA - Pengem...</td>\n",
       "      <td>Jumat, 10 Juni 2022 01:08</td>\n",
       "      <td>PT Intiland Development Kembangkan Kawasan Ind...</td>\n",
       "      <td>noclickbait</td>\n",
       "    </tr>\n",
       "    <tr>\n",
       "      <th>1</th>\n",
       "      <td>Berita SurabayaSURYA.co.id | SURABAYA - Brand ...</td>\n",
       "      <td>Jumat, 10 Juni 2022 01:16</td>\n",
       "      <td>ANKER Menangkan Penghargaan Nobel Prize di Aja...</td>\n",
       "      <td>noclickbait</td>\n",
       "    </tr>\n",
       "    <tr>\n",
       "      <th>2</th>\n",
       "      <td>Berita SurabayaSURYA.co.id | SURABAYA - PT Har...</td>\n",
       "      <td>Jumat, 10 Juni 2022 01:27</td>\n",
       "      <td>Perluas Bisnis, Hartadinata Abadi Store Buka G...</td>\n",
       "      <td>noclickbait</td>\n",
       "    </tr>\n",
       "    <tr>\n",
       "      <th>3</th>\n",
       "      <td>Berita SurabayaSURYA.co.id | SURABAYA – Peneri...</td>\n",
       "      <td>Jumat, 10 Juni 2022 01:34</td>\n",
       "      <td>PPDB SMP Dibuka Hari Ini, Dindik Surabaya Mint...</td>\n",
       "      <td>clickbait</td>\n",
       "    </tr>\n",
       "    <tr>\n",
       "      <th>4</th>\n",
       "      <td>SURYA.co.id I Masih ingat Ronaldo Nazario, san...</td>\n",
       "      <td>Jumat, 10 Juni 2022 01:51</td>\n",
       "      <td>Liga Spanyol, Ronaldo Legenda Real Madrid, Jad...</td>\n",
       "      <td>clickbait</td>\n",
       "    </tr>\n",
       "  </tbody>\n",
       "</table>\n",
       "</div>"
      ],
      "text/plain": [
       "                                             content  \\\n",
       "0  Berita SurabayaSURYA.co.id | SURABAYA - Pengem...   \n",
       "1  Berita SurabayaSURYA.co.id | SURABAYA - Brand ...   \n",
       "2  Berita SurabayaSURYA.co.id | SURABAYA - PT Har...   \n",
       "3  Berita SurabayaSURYA.co.id | SURABAYA – Peneri...   \n",
       "4  SURYA.co.id I Masih ingat Ronaldo Nazario, san...   \n",
       "\n",
       "                        date  \\\n",
       "0  Jumat, 10 Juni 2022 01:08   \n",
       "1  Jumat, 10 Juni 2022 01:16   \n",
       "2  Jumat, 10 Juni 2022 01:27   \n",
       "3  Jumat, 10 Juni 2022 01:34   \n",
       "4  Jumat, 10 Juni 2022 01:51   \n",
       "\n",
       "                                               title        label  \n",
       "0  PT Intiland Development Kembangkan Kawasan Ind...  noclickbait  \n",
       "1  ANKER Menangkan Penghargaan Nobel Prize di Aja...  noclickbait  \n",
       "2  Perluas Bisnis, Hartadinata Abadi Store Buka G...  noclickbait  \n",
       "3  PPDB SMP Dibuka Hari Ini, Dindik Surabaya Mint...    clickbait  \n",
       "4  Liga Spanyol, Ronaldo Legenda Real Madrid, Jad...    clickbait  "
      ]
     },
     "execution_count": 3,
     "metadata": {},
     "output_type": "execute_result"
    }
   ],
   "source": [
    "# Read Dataset\n",
    "data = pd.read_csv('dataset.csv')\n",
    "\n",
    "data.head()"
   ]
  },
  {
   "cell_type": "code",
   "execution_count": 4,
   "metadata": {
    "colab": {
     "base_uri": "https://localhost:8080/",
     "height": 236
    },
    "executionInfo": {
     "elapsed": 47,
     "status": "ok",
     "timestamp": 1675496223081,
     "user": {
      "displayName": "Gama Putra Adi Susilo",
      "userId": "11761602289089114790"
     },
     "user_tz": -420
    },
    "id": "LPk68TA3s38k",
    "outputId": "a5ab6398-f1f2-4468-9eac-49454bd84a85",
    "scrolled": true
   },
   "outputs": [
    {
     "data": {
      "text/html": [
       "<div>\n",
       "<style scoped>\n",
       "    .dataframe tbody tr th:only-of-type {\n",
       "        vertical-align: middle;\n",
       "    }\n",
       "\n",
       "    .dataframe tbody tr th {\n",
       "        vertical-align: top;\n",
       "    }\n",
       "\n",
       "    .dataframe thead th {\n",
       "        text-align: right;\n",
       "    }\n",
       "</style>\n",
       "<table border=\"1\" class=\"dataframe\">\n",
       "  <thead>\n",
       "    <tr style=\"text-align: right;\">\n",
       "      <th></th>\n",
       "      <th>content</th>\n",
       "      <th>date</th>\n",
       "      <th>title</th>\n",
       "      <th>label</th>\n",
       "    </tr>\n",
       "  </thead>\n",
       "  <tbody>\n",
       "    <tr>\n",
       "      <th>count</th>\n",
       "      <td>3226</td>\n",
       "      <td>3226</td>\n",
       "      <td>3226</td>\n",
       "      <td>3226</td>\n",
       "    </tr>\n",
       "    <tr>\n",
       "      <th>unique</th>\n",
       "      <td>3220</td>\n",
       "      <td>3074</td>\n",
       "      <td>3220</td>\n",
       "      <td>2</td>\n",
       "    </tr>\n",
       "    <tr>\n",
       "      <th>top</th>\n",
       "      <td>Menunjuk Pengumuman Lelang Pertama Eksekusi Ha...</td>\n",
       "      <td>Kamis, 20 Oktober 2022 09:15</td>\n",
       "      <td>Hari Pangan Sedunia, Bupati Gresik Gus Yani Ra...</td>\n",
       "      <td>noclickbait</td>\n",
       "    </tr>\n",
       "    <tr>\n",
       "      <th>freq</th>\n",
       "      <td>3</td>\n",
       "      <td>3</td>\n",
       "      <td>2</td>\n",
       "      <td>2422</td>\n",
       "    </tr>\n",
       "  </tbody>\n",
       "</table>\n",
       "</div>"
      ],
      "text/plain": [
       "                                                  content  \\\n",
       "count                                                3226   \n",
       "unique                                               3220   \n",
       "top     Menunjuk Pengumuman Lelang Pertama Eksekusi Ha...   \n",
       "freq                                                    3   \n",
       "\n",
       "                                date  \\\n",
       "count                           3226   \n",
       "unique                          3074   \n",
       "top     Kamis, 20 Oktober 2022 09:15   \n",
       "freq                               3   \n",
       "\n",
       "                                                    title        label  \n",
       "count                                                3226         3226  \n",
       "unique                                               3220            2  \n",
       "top     Hari Pangan Sedunia, Bupati Gresik Gus Yani Ra...  noclickbait  \n",
       "freq                                                    2         2422  "
      ]
     },
     "execution_count": 4,
     "metadata": {},
     "output_type": "execute_result"
    }
   ],
   "source": [
    "data.describe(include='all')"
   ]
  },
  {
   "cell_type": "code",
   "execution_count": null,
   "metadata": {},
   "outputs": [],
   "source": []
  },
  {
   "cell_type": "code",
   "execution_count": 5,
   "metadata": {
    "colab": {
     "base_uri": "https://localhost:8080/",
     "height": 337
    },
    "executionInfo": {
     "elapsed": 48,
     "status": "ok",
     "timestamp": 1675496223084,
     "user": {
      "displayName": "Gama Putra Adi Susilo",
      "userId": "11761602289089114790"
     },
     "user_tz": -420
    },
    "id": "Y5GSGqZwA6P_",
    "outputId": "b860b073-5a95-4cdc-8f4a-ab0aec08f38b"
   },
   "outputs": [
    {
     "data": {
      "text/html": [
       "<div>\n",
       "<style scoped>\n",
       "    .dataframe tbody tr th:only-of-type {\n",
       "        vertical-align: middle;\n",
       "    }\n",
       "\n",
       "    .dataframe tbody tr th {\n",
       "        vertical-align: top;\n",
       "    }\n",
       "\n",
       "    .dataframe thead th {\n",
       "        text-align: right;\n",
       "    }\n",
       "</style>\n",
       "<table border=\"1\" class=\"dataframe\">\n",
       "  <thead>\n",
       "    <tr style=\"text-align: right;\">\n",
       "      <th></th>\n",
       "      <th>content</th>\n",
       "      <th>date</th>\n",
       "      <th>title</th>\n",
       "      <th>label</th>\n",
       "      <th>binary_label</th>\n",
       "    </tr>\n",
       "  </thead>\n",
       "  <tbody>\n",
       "    <tr>\n",
       "      <th>0</th>\n",
       "      <td>Berita SurabayaSURYA.co.id | SURABAYA - Pengem...</td>\n",
       "      <td>Jumat, 10 Juni 2022 01:08</td>\n",
       "      <td>PT Intiland Development Kembangkan Kawasan Ind...</td>\n",
       "      <td>noclickbait</td>\n",
       "      <td>0</td>\n",
       "    </tr>\n",
       "    <tr>\n",
       "      <th>1</th>\n",
       "      <td>Berita SurabayaSURYA.co.id | SURABAYA - Brand ...</td>\n",
       "      <td>Jumat, 10 Juni 2022 01:16</td>\n",
       "      <td>ANKER Menangkan Penghargaan Nobel Prize di Aja...</td>\n",
       "      <td>noclickbait</td>\n",
       "      <td>0</td>\n",
       "    </tr>\n",
       "    <tr>\n",
       "      <th>2</th>\n",
       "      <td>Berita SurabayaSURYA.co.id | SURABAYA - PT Har...</td>\n",
       "      <td>Jumat, 10 Juni 2022 01:27</td>\n",
       "      <td>Perluas Bisnis, Hartadinata Abadi Store Buka G...</td>\n",
       "      <td>noclickbait</td>\n",
       "      <td>0</td>\n",
       "    </tr>\n",
       "    <tr>\n",
       "      <th>3</th>\n",
       "      <td>Berita SurabayaSURYA.co.id | SURABAYA – Peneri...</td>\n",
       "      <td>Jumat, 10 Juni 2022 01:34</td>\n",
       "      <td>PPDB SMP Dibuka Hari Ini, Dindik Surabaya Mint...</td>\n",
       "      <td>clickbait</td>\n",
       "      <td>1</td>\n",
       "    </tr>\n",
       "    <tr>\n",
       "      <th>4</th>\n",
       "      <td>SURYA.co.id I Masih ingat Ronaldo Nazario, san...</td>\n",
       "      <td>Jumat, 10 Juni 2022 01:51</td>\n",
       "      <td>Liga Spanyol, Ronaldo Legenda Real Madrid, Jad...</td>\n",
       "      <td>clickbait</td>\n",
       "      <td>1</td>\n",
       "    </tr>\n",
       "  </tbody>\n",
       "</table>\n",
       "</div>"
      ],
      "text/plain": [
       "                                             content  \\\n",
       "0  Berita SurabayaSURYA.co.id | SURABAYA - Pengem...   \n",
       "1  Berita SurabayaSURYA.co.id | SURABAYA - Brand ...   \n",
       "2  Berita SurabayaSURYA.co.id | SURABAYA - PT Har...   \n",
       "3  Berita SurabayaSURYA.co.id | SURABAYA – Peneri...   \n",
       "4  SURYA.co.id I Masih ingat Ronaldo Nazario, san...   \n",
       "\n",
       "                        date  \\\n",
       "0  Jumat, 10 Juni 2022 01:08   \n",
       "1  Jumat, 10 Juni 2022 01:16   \n",
       "2  Jumat, 10 Juni 2022 01:27   \n",
       "3  Jumat, 10 Juni 2022 01:34   \n",
       "4  Jumat, 10 Juni 2022 01:51   \n",
       "\n",
       "                                               title        label  \\\n",
       "0  PT Intiland Development Kembangkan Kawasan Ind...  noclickbait   \n",
       "1  ANKER Menangkan Penghargaan Nobel Prize di Aja...  noclickbait   \n",
       "2  Perluas Bisnis, Hartadinata Abadi Store Buka G...  noclickbait   \n",
       "3  PPDB SMP Dibuka Hari Ini, Dindik Surabaya Mint...    clickbait   \n",
       "4  Liga Spanyol, Ronaldo Legenda Real Madrid, Jad...    clickbait   \n",
       "\n",
       "   binary_label  \n",
       "0             0  \n",
       "1             0  \n",
       "2             0  \n",
       "3             1  \n",
       "4             1  "
      ]
     },
     "execution_count": 5,
     "metadata": {},
     "output_type": "execute_result"
    }
   ],
   "source": [
    "# Target column is made of string values True/Fake, let's change it to numbers 0/1 (clickbait=1) \n",
    "data['binary_label'] = pd.get_dummies(data.label)['clickbait']\n",
    "data.head()"
   ]
  },
  {
   "cell_type": "code",
   "execution_count": 6,
   "metadata": {
    "colab": {
     "base_uri": "https://localhost:8080/"
    },
    "executionInfo": {
     "elapsed": 48,
     "status": "ok",
     "timestamp": 1675496223085,
     "user": {
      "displayName": "Gama Putra Adi Susilo",
      "userId": "11761602289089114790"
     },
     "user_tz": -420
    },
    "id": "W_h2dF4oBiel",
    "outputId": "2706f48f-67cb-456b-9a60-7b3f3b2b2c37"
   },
   "outputs": [
    {
     "data": {
      "text/plain": [
       "0    2422\n",
       "1     804\n",
       "Name: binary_label, dtype: int64"
      ]
     },
     "execution_count": 6,
     "metadata": {},
     "output_type": "execute_result"
    }
   ],
   "source": [
    "data['binary_label'].value_counts()"
   ]
  },
  {
   "cell_type": "code",
   "execution_count": 7,
   "metadata": {
    "colab": {
     "base_uri": "https://localhost:8080/",
     "height": 352
    },
    "executionInfo": {
     "elapsed": 47,
     "status": "ok",
     "timestamp": 1675496223088,
     "user": {
      "displayName": "Gama Putra Adi Susilo",
      "userId": "11761602289089114790"
     },
     "user_tz": -420
    },
    "id": "WYoVJANoXXZg",
    "outputId": "35b5b391-8eb5-43a9-8d13-635b6f92ec3a",
    "scrolled": true
   },
   "outputs": [
    {
     "data": {
      "text/plain": [
       "([<matplotlib.patches.Wedge at 0x22e820a65e0>,\n",
       "  <matplotlib.patches.Wedge at 0x22e820a6f70>],\n",
       " [Text(-0.8464598180661049, 0.8505914274194731, 'clickbait'),\n",
       "  Text(0.846459897704218, -0.8505913481681817, 'noclickbait')],\n",
       " [Text(-0.49376822720522784, 0.49617833266135924, '24.9%'),\n",
       "  Text(0.4937682736607938, -0.4961782864314393, '75.1%')])"
      ]
     },
     "execution_count": 7,
     "metadata": {},
     "output_type": "execute_result"
    },
    {
     "data": {
      "image/png": "[encoded data removed]",
      "text/plain": [
       "<Figure size 640x480 with 1 Axes>"
      ]
     },
     "metadata": {},
     "output_type": "display_data"
    }
   ],
   "source": [
    "# Checking if our data\n",
    "label_size = [data['binary_label'].sum(),len(data['binary_label'])-data['binary_label'].sum()]\n",
    "plt.pie(label_size,explode=[0.1,0.1],colors=['firebrick','navy'],startangle=90,shadow=True,labels=['clickbait','noclickbait'],autopct='%1.1f%%')"
   ]
  },
  {
   "cell_type": "markdown",
   "metadata": {
    "id": "dIJ_pshzCdT0"
   },
   "source": [
    "## Balancing data"
   ]
  },
  {
   "cell_type": "code",
   "execution_count": null,
   "metadata": {},
   "outputs": [],
   "source": [
    "# downsample "
   ]
  },
  {
   "cell_type": "code",
   "execution_count": null,
   "metadata": {},
   "outputs": [],
   "source": []
  },
  {
   "cell_type": "code",
   "execution_count": null,
   "metadata": {},
   "outputs": [],
   "source": []
  },
  {
   "cell_type": "code",
   "execution_count": null,
   "metadata": {},
   "outputs": [],
   "source": []
  },
  {
   "cell_type": "code",
   "execution_count": null,
   "metadata": {},
   "outputs": [],
   "source": []
  },
  {
   "cell_type": "code",
   "execution_count": null,
   "metadata": {},
   "outputs": [],
   "source": []
  },
  {
   "cell_type": "code",
   "execution_count": null,
   "metadata": {},
   "outputs": [],
   "source": []
  },
  {
   "cell_type": "markdown",
   "metadata": {
    "id": "dIJ_pshzCdT0"
   },
   "source": [
    "## Train-test-split"
   ]
  },
  {
   "cell_type": "code",
   "execution_count": 8,
   "metadata": {
    "colab": {
     "base_uri": "https://localhost:8080/"
    },
    "executionInfo": {
     "elapsed": 44,
     "status": "ok",
     "timestamp": 1675496223090,
     "user": {
      "displayName": "Gama Putra Adi Susilo",
      "userId": "11761602289089114790"
     },
     "user_tz": -420
    },
    "id": "Sea77N3UZKsX",
    "outputId": "d1c6f27a-468f-4953-9be5-67226c029a88",
    "scrolled": true
   },
   "outputs": [
    {
     "name": "stdout",
     "output_type": "stream",
     "text": [
      "<class 'pandas.core.frame.DataFrame'>\n",
      "RangeIndex: 3226 entries, 0 to 3225\n",
      "Data columns (total 5 columns):\n",
      " #   Column        Non-Null Count  Dtype \n",
      "---  ------        --------------  ----- \n",
      " 0   content       3226 non-null   object\n",
      " 1   date          3226 non-null   object\n",
      " 2   title         3226 non-null   object\n",
      " 3   label         3226 non-null   object\n",
      " 4   binary_label  3226 non-null   uint8 \n",
      "dtypes: object(4), uint8(1)\n",
      "memory usage: 104.1+ KB\n"
     ]
    }
   ],
   "source": [
    "# Data info\n",
    "\n",
    "data.info()"
   ]
  },
  {
   "cell_type": "code",
   "execution_count": 9,
   "metadata": {
    "scrolled": false
   },
   "outputs": [
    {
     "name": "stdout",
     "output_type": "stream",
     "text": [
      "Anggota KKB Papua Ceroboh, Perannya Sebagai Pemasok Amunisi Terbongkar Gara-gara Bacok Warga Sipil \n",
      "\n",
      "SURYA.co.id - Gara-gara kecerobohannya sendiri, seorang anggota KKB Papua berhasil ditangkap aparat TNI -Polri.Tak hanya itu, perannya sebagai pemasok amunisi untuk KKB Papua juga ikut terbongkar.Penyebab awalnya adalah ia nekat membacok warga sipil di Intan Jaya pada April 2021 lalu.Polisi langsung menangkapnya dan akhirnya terbongkar perannya sebagai anggota KKB Papua yang bertugas memasok amunisi.Melansir dari laman tribratanews.polri.go.id, berdasarkan Informasi adanya keberadaan Tersangka Pembacokan Warga Intan Jaya pada April 2021 di Pertigaan Pasar Yokatapang, Tim Aparat Gabungan Ops Damai Cartenz 2020 melakukan pegecekan dan penyelidikan. Dari hasil pengecekan, tersangka terlihat di Kali Wabu, Rabu (08/06/2022).Selanjutnya, tim bergerak dan berhasil mengamankan tersangka yang diketahui berinisial FS.Dari hasil pemeriksaan sementara, tersangka FS ini juga merupakan anggota KKB Papua Aktif.Hal ini dibenarkan oleh Kabid Humas Polda Papua Kombes Pol A. Mustofa Kamal, SH saat dikonfirmasi. Pihaknya menyebutkan penangkanapan FS berawal dari penyeledikan kasus pembacokan Asep Saputra pada April 2021 lalu.“Setelah mendapat informasi, kita berhasil mengamankan tersangka dan selanjutnya kita lakukan pengembangan,” ujarnya.Dari Hasil pengembangan, Lanjut Kasatgas bahwa Tersangka FS ini diketahui merupakan jaringan pengadaan amunisi untuk KKB Papua.Hal ini terbukti saat mengamankan tersangka petugas menemukan 10 butir amunisi Cal 5,56 MM.“Selain terkait kasus pembacokan, tersangka FS juga jaringan Pengadaan Amunisi untuk KKB Papua.Selanjutnya kita akan lakukan pengembangan dan kita informasikan kembali,”pungkas Kabid Humas Polda Papua.Terungkap sosok Praka AKG \n",
      "\n"
     ]
    }
   ],
   "source": [
    "#contoh data yang sudah di combine\n",
    "for i in data.loc[8][['title', 'content']]:\n",
    "    print(i,'\\n')"
   ]
  },
  {
   "cell_type": "markdown",
   "metadata": {},
   "source": [
    "Preprocessing"
   ]
  },
  {
   "cell_type": "code",
   "execution_count": 10,
   "metadata": {},
   "outputs": [],
   "source": [
    "import re\n",
    "\n",
    "import nltk\n",
    "\n",
    "from nltk import punkt\n",
    "from nltk import word_tokenize, FreqDist\n",
    "from nltk.corpus import stopwords\n",
    "from nltk.stem import WordNetLemmatizer\n",
    "from Sastrawi.Stemmer.StemmerFactory import StemmerFactory\n",
    "from Sastrawi.StopWordRemover.StopWordRemoverFactory import StopWordRemoverFactory\n",
    "\n",
    "from sklearn import model_selection, preprocessing, linear_model, naive_bayes, metrics\n",
    "from sklearn.feature_extraction.text import TfidfVectorizer, CountVectorizer,HashingVectorizer\n",
    "\n",
    "import pickle\n",
    "\n",
    "import warnings\n",
    "warnings.filterwarnings('ignore')"
   ]
  },
  {
   "cell_type": "code",
   "execution_count": 11,
   "metadata": {},
   "outputs": [],
   "source": [
    "#membersihkan data\n",
    "def cleaning(text):\n",
    "    #remove url\n",
    "    text = re.sub(r\"http\\S+\", \"\", str(text))\n",
    "    #remove hex characters\n",
    "    text = re.sub(r'(\\\\x(.){2})', '', text)\n",
    "    #menghapus spasi awal teks\n",
    "    text = text.lstrip()\n",
    "    #remove newlines\n",
    "    text = re.sub(r'\\s+|\\\\n', ' ', text)\n",
    "    #remove hashtags\n",
    "    text = re.sub(r'\\B#\\w*[a-zA-Z]+\\w*','', text)\n",
    "    #remove single char\n",
    "    text = re.sub(r'\\b[a-zA-Z]\\b','', text)\n",
    "    #remove number\n",
    "    text = re.sub(r'\\d+','', text)\n",
    "    #remove punctuation / tanda baca\n",
    "    text = re.sub(r'[^\\w\\s]+', ' ', text)\n",
    "    #remove spasi dari awal teks\n",
    "    text = re.sub(r\"/^\\\\s+/m\", '', text)\n",
    "    #remove character yang memilliki kurang dari 4 huruf\n",
    "    text = re.sub(r'\\b\\w{1,3}\\b', '', text)\n",
    "    #remove spasi berlebih\n",
    "    text = re.sub(r'\\s+', ' ', text)\n",
    "    #remove non-ascii character\n",
    "    text = re.sub('[^\\x00-\\x7F]+', '', text)\n",
    "    return text\n",
    "\n",
    "data['Judul_clean'] = data['title'].apply(cleaning)\n",
    "data['Content_clean'] = data['content'].apply(cleaning)"
   ]
  },
  {
   "cell_type": "code",
   "execution_count": 12,
   "metadata": {},
   "outputs": [
    {
     "name": "stdout",
     "output_type": "stream",
     "text": [
      "Anggota Papua Ceroboh Perannya Sebagai Pemasok Amunisi Terbongkar Gara gara Bacok Warga Sipil \n",
      "\n",
      "SURYA Gara gara kecerobohannya sendiri seorang anggota Papua berhasil ditangkap aparat Polri hanya perannya sebagai pemasok amunisi untuk Papua juga ikut terbongkar Penyebab awalnya adalah nekat membacok warga sipil Intan Jaya pada April lalu Polisi langsung menangkapnya akhirnya terbongkar perannya sebagai anggota Papua yang bertugas memasok amunisi Melansir dari laman tribratanews polri berdasarkan Informasi adanya keberadaan Tersangka Pembacokan Warga Intan Jaya pada April Pertigaan Pasar Yokatapang Aparat Gabungan Damai Cartenz melakukan pegecekan penyelidikan Dari hasil pengecekan tersangka terlihat Kali Wabu Rabu Selanjutnya bergerak berhasil mengamankan tersangka yang diketahui berinisial Dari hasil pemeriksaan sementara tersangka juga merupakan anggota Papua Aktif dibenarkan oleh Kabid Humas Polda Papua Kombes Mustofa Kamal saat dikonfirmasi Pihaknya menyebutkan penangkanapan berawal dari penyeledikan kasus pembacokan Asep Saputra pada April lalu Setelah mendapat informasi kita berhasil mengamankan tersangka selanjutnya kita lakukan pengembangan ujarnya Dari Hasil pengembangan Lanjut Kasatgas bahwa Tersangka diketahui merupakan jaringan pengadaan amunisi untuk Papua terbukti saat mengamankan tersangka petugas menemukan butir amunisi Selain terkait kasus pembacokan tersangka juga jaringan Pengadaan Amunisi untuk Papua Selanjutnya kita akan lakukan pengembangan kita informasikan kembali pungkas Kabid Humas Polda Papua Terungkap sosok Praka  \n",
      "\n"
     ]
    }
   ],
   "source": [
    "#contoh data yang sudah dibersihkan\n",
    "for i in data.loc[8][['Judul_clean','Content_clean']]:\n",
    "    print(i,'\\n')"
   ]
  },
  {
   "cell_type": "code",
   "execution_count": 13,
   "metadata": {},
   "outputs": [],
   "source": [
    "# Case folding"
   ]
  },
  {
   "cell_type": "code",
   "execution_count": 14,
   "metadata": {},
   "outputs": [],
   "source": [
    "#mengubah huruf kapital menjadi huruf kecil\n",
    "data['Judul_case'] = data['Judul_clean'].str.lower()\n",
    "data['Content_case'] = data['Content_clean'].str.lower()"
   ]
  },
  {
   "cell_type": "code",
   "execution_count": 15,
   "metadata": {
    "scrolled": false
   },
   "outputs": [
    {
     "name": "stdout",
     "output_type": "stream",
     "text": [
      "anggota papua ceroboh perannya sebagai pemasok amunisi terbongkar gara gara bacok warga sipil \n",
      "\n",
      "surya gara gara kecerobohannya sendiri seorang anggota papua berhasil ditangkap aparat polri hanya perannya sebagai pemasok amunisi untuk papua juga ikut terbongkar penyebab awalnya adalah nekat membacok warga sipil intan jaya pada april lalu polisi langsung menangkapnya akhirnya terbongkar perannya sebagai anggota papua yang bertugas memasok amunisi melansir dari laman tribratanews polri berdasarkan informasi adanya keberadaan tersangka pembacokan warga intan jaya pada april pertigaan pasar yokatapang aparat gabungan damai cartenz melakukan pegecekan penyelidikan dari hasil pengecekan tersangka terlihat kali wabu rabu selanjutnya bergerak berhasil mengamankan tersangka yang diketahui berinisial dari hasil pemeriksaan sementara tersangka juga merupakan anggota papua aktif dibenarkan oleh kabid humas polda papua kombes mustofa kamal saat dikonfirmasi pihaknya menyebutkan penangkanapan berawal dari penyeledikan kasus pembacokan asep saputra pada april lalu setelah mendapat informasi kita berhasil mengamankan tersangka selanjutnya kita lakukan pengembangan ujarnya dari hasil pengembangan lanjut kasatgas bahwa tersangka diketahui merupakan jaringan pengadaan amunisi untuk papua terbukti saat mengamankan tersangka petugas menemukan butir amunisi selain terkait kasus pembacokan tersangka juga jaringan pengadaan amunisi untuk papua selanjutnya kita akan lakukan pengembangan kita informasikan kembali pungkas kabid humas polda papua terungkap sosok praka  \n",
      "\n"
     ]
    }
   ],
   "source": [
    "#contoh data yang sudah di casefolding\n",
    "for i in data.loc[8][['Judul_case','Content_case']]:\n",
    "    print(i,'\\n')"
   ]
  },
  {
   "cell_type": "code",
   "execution_count": 16,
   "metadata": {
    "scrolled": true
   },
   "outputs": [],
   "source": [
    "def token(text):\n",
    "    nstr = text.split(' ')\n",
    "    dat= []\n",
    "    a = -1\n",
    "    for hu in nstr:\n",
    "        a = a + 1\n",
    "        if hu == '':\n",
    "            dat.append(a)\n",
    "        p = 0\n",
    "        b = 0\n",
    "        for q in dat:\n",
    "            b = q - p\n",
    "            del nstr[b]\n",
    "            p = p + 1\n",
    "    return nstr"
   ]
  },
  {
   "cell_type": "code",
   "execution_count": 17,
   "metadata": {
    "scrolled": true
   },
   "outputs": [],
   "source": [
    "#memisahkan kalimat menjadi potongan kata\n",
    "data['Judul_tok'] = data['Judul_case'].apply(token)\n",
    "data['Content_tok'] = data['Content_case'].apply(token)"
   ]
  },
  {
   "cell_type": "code",
   "execution_count": 18,
   "metadata": {
    "scrolled": true
   },
   "outputs": [
    {
     "name": "stdout",
     "output_type": "stream",
     "text": [
      "['anggota', 'papua', 'ceroboh', 'perannya', 'sebagai', 'pemasok', 'amunisi', 'terbongkar', 'gara', 'gara', 'bacok', 'warga', 'sipil'] \n",
      "\n",
      "['surya', 'gara', 'gara', 'kecerobohannya', 'sendiri', 'seorang', 'anggota', 'papua', 'berhasil', 'ditangkap', 'aparat', 'polri', 'hanya', 'perannya', 'sebagai', 'pemasok', 'amunisi', 'untuk', 'papua', 'juga', 'ikut', 'terbongkar', 'penyebab', 'awalnya', 'adalah', 'nekat', 'membacok', 'warga', 'sipil', 'intan', 'jaya', 'pada', 'april', 'lalu', 'polisi', 'langsung', 'menangkapnya', 'akhirnya', 'terbongkar', 'perannya', 'sebagai', 'anggota', 'papua', 'yang', 'bertugas', 'memasok', 'amunisi', 'melansir', 'dari', 'laman', 'tribratanews', 'polri', 'berdasarkan', 'informasi', 'adanya', 'keberadaan', 'tersangka', 'pembacokan', 'warga', 'intan', 'jaya', 'pada', 'april', 'pertigaan', 'pasar', 'yokatapang', 'aparat', 'gabungan', 'damai', 'cartenz', 'melakukan', 'pegecekan', 'penyelidikan', 'dari', 'hasil', 'pengecekan', 'tersangka', 'terlihat', 'kali', 'wabu', 'rabu', 'selanjutnya', 'bergerak', 'berhasil', 'mengamankan', 'tersangka', 'yang', 'diketahui', 'berinisial', 'dari', 'hasil', 'pemeriksaan', 'sementara', 'tersangka', 'juga', 'merupakan', 'anggota', 'papua', 'aktif', 'dibenarkan', 'oleh', 'kabid', 'humas', 'polda', 'papua', 'kombes', 'mustofa', 'kamal', 'saat', 'dikonfirmasi', 'pihaknya', 'menyebutkan', 'penangkanapan', 'berawal', 'dari', 'penyeledikan', 'kasus', 'pembacokan', 'asep', 'saputra', 'pada', 'april', 'lalu', 'setelah', 'mendapat', 'informasi', 'kita', 'berhasil', 'mengamankan', 'tersangka', 'selanjutnya', 'kita', 'lakukan', 'pengembangan', 'ujarnya', 'dari', 'hasil', 'pengembangan', 'lanjut', 'kasatgas', 'bahwa', 'tersangka', 'diketahui', 'merupakan', 'jaringan', 'pengadaan', 'amunisi', 'untuk', 'papua', 'terbukti', 'saat', 'mengamankan', 'tersangka', 'petugas', 'menemukan', 'butir', 'amunisi', 'selain', 'terkait', 'kasus', 'pembacokan', 'tersangka', 'juga', 'jaringan', 'pengadaan', 'amunisi', 'untuk', 'papua', 'selanjutnya', 'kita', 'akan', 'lakukan', 'pengembangan', 'kita', 'informasikan', 'kembali', 'pungkas', 'kabid', 'humas', 'polda', 'papua', 'terungkap', 'sosok', 'praka'] \n",
      "\n"
     ]
    }
   ],
   "source": [
    "for i in data.loc[8][['Judul_tok','Content_tok']]:\n",
    "    print(i,'\\n')"
   ]
  },
  {
   "cell_type": "code",
   "execution_count": 19,
   "metadata": {},
   "outputs": [
    {
     "name": "stderr",
     "output_type": "stream",
     "text": [
      "[nltk_data] Downloading package stopwords to\n",
      "[nltk_data]     C:\\Users\\Aprilia\\AppData\\Roaming\\nltk_data...\n",
      "[nltk_data]   Package stopwords is already up-to-date!\n"
     ]
    }
   ],
   "source": [
    "#menghapus kata yang kurang penting, namun sering muncul (stopword) seperti kata penghubung\n",
    "#mengambil stopword dari library python sastrawi\n",
    "import nltk\n",
    "nltk.download('stopwords')\n",
    "\n",
    "listStopword = set(stopwords.words('indonesian'))\n",
    "listStopword.update(set(stopwords.words('english')))\n",
    "\n",
    "def stopwords_removal(words):\n",
    "    return [word for word in words if word not in listStopword]\n",
    "\n",
    "data['Judul_Stopwords'] = data['Judul_tok'].apply(stopwords_removal)\n",
    "data['Content_Stopwords'] = data['Content_tok'].apply(stopwords_removal)"
   ]
  },
  {
   "cell_type": "code",
   "execution_count": 20,
   "metadata": {},
   "outputs": [
    {
     "name": "stdout",
     "output_type": "stream",
     "text": [
      "['anggota', 'papua', 'ceroboh', 'perannya', 'pemasok', 'amunisi', 'terbongkar', 'gara', 'gara', 'bacok', 'warga', 'sipil'] \n",
      "\n",
      "['surya', 'gara', 'gara', 'kecerobohannya', 'anggota', 'papua', 'berhasil', 'ditangkap', 'aparat', 'polri', 'perannya', 'pemasok', 'amunisi', 'papua', 'terbongkar', 'penyebab', 'nekat', 'membacok', 'warga', 'sipil', 'intan', 'jaya', 'april', 'polisi', 'langsung', 'menangkapnya', 'terbongkar', 'perannya', 'anggota', 'papua', 'bertugas', 'memasok', 'amunisi', 'melansir', 'laman', 'tribratanews', 'polri', 'berdasarkan', 'informasi', 'keberadaan', 'tersangka', 'pembacokan', 'warga', 'intan', 'jaya', 'april', 'pertigaan', 'pasar', 'yokatapang', 'aparat', 'gabungan', 'damai', 'cartenz', 'pegecekan', 'penyelidikan', 'hasil', 'pengecekan', 'tersangka', 'kali', 'wabu', 'rabu', 'bergerak', 'berhasil', 'mengamankan', 'tersangka', 'berinisial', 'hasil', 'pemeriksaan', 'tersangka', 'anggota', 'papua', 'aktif', 'dibenarkan', 'kabid', 'humas', 'polda', 'papua', 'kombes', 'mustofa', 'kamal', 'dikonfirmasi', 'penangkanapan', 'penyeledikan', 'pembacokan', 'asep', 'saputra', 'april', 'informasi', 'berhasil', 'mengamankan', 'tersangka', 'lakukan', 'pengembangan', 'hasil', 'pengembangan', 'kasatgas', 'tersangka', 'jaringan', 'pengadaan', 'amunisi', 'papua', 'terbukti', 'mengamankan', 'tersangka', 'petugas', 'menemukan', 'butir', 'amunisi', 'terkait', 'pembacokan', 'tersangka', 'jaringan', 'pengadaan', 'amunisi', 'papua', 'lakukan', 'pengembangan', 'informasikan', 'pungkas', 'kabid', 'humas', 'polda', 'papua', 'terungkap', 'sosok', 'praka'] \n",
      "\n"
     ]
    }
   ],
   "source": [
    "for i in data.loc[8][['Judul_Stopwords','Content_Stopwords']]:\n",
    "    print(i,'\\n')"
   ]
  },
  {
   "cell_type": "code",
   "execution_count": 21,
   "metadata": {},
   "outputs": [],
   "source": [
    "#mengembalikan token menjadi string tunggal kembali untuk stemming\n",
    "def untokenize(text):\n",
    "    \n",
    "    text = ' '.join(text)\n",
    "    step1 = text.replace(\"`` \", '\"').replace(\" ''\", '\"').replace('. . .',  '...')\n",
    "    step2 = step1.replace(\" ( \", \" (\").replace(\" ) \", \") \")\n",
    "    step3 = re.sub(r' ([.,:;?!%]+)([ \\'\"`])', r\"\\1\\2\", step2)\n",
    "    step4 = re.sub(r' ([.,:;?!%]+)$', r\"\\1\", step3)\n",
    "    step5 = step4.replace(\" '\", \"'\").replace(\" n't\", \"n't\").replace(\n",
    "         \"can not\", \"cannot\")\n",
    "    step6 = step5.replace(\" ` \", \" '\")\n",
    "    return step6.strip()\n",
    "\n",
    "data['Untokenized_judul'] = data['Judul_Stopwords'].apply(untokenize)\n",
    "data['Untokenized_content'] = data['Content_Stopwords'].apply(untokenize)"
   ]
  },
  {
   "cell_type": "code",
   "execution_count": 22,
   "metadata": {},
   "outputs": [
    {
     "name": "stdout",
     "output_type": "stream",
     "text": [
      "anggota papua ceroboh perannya pemasok amunisi terbongkar gara gara bacok warga sipil \n",
      "\n",
      "surya gara gara kecerobohannya anggota papua berhasil ditangkap aparat polri perannya pemasok amunisi papua terbongkar penyebab nekat membacok warga sipil intan jaya april polisi langsung menangkapnya terbongkar perannya anggota papua bertugas memasok amunisi melansir laman tribratanews polri berdasarkan informasi keberadaan tersangka pembacokan warga intan jaya april pertigaan pasar yokatapang aparat gabungan damai cartenz pegecekan penyelidikan hasil pengecekan tersangka kali wabu rabu bergerak berhasil mengamankan tersangka berinisial hasil pemeriksaan tersangka anggota papua aktif dibenarkan kabid humas polda papua kombes mustofa kamal dikonfirmasi penangkanapan penyeledikan pembacokan asep saputra april informasi berhasil mengamankan tersangka lakukan pengembangan hasil pengembangan kasatgas tersangka jaringan pengadaan amunisi papua terbukti mengamankan tersangka petugas menemukan butir amunisi terkait pembacokan tersangka jaringan pengadaan amunisi papua lakukan pengembangan informasikan pungkas kabid humas polda papua terungkap sosok praka \n",
      "\n"
     ]
    }
   ],
   "source": [
    "for i in data.loc[8][['Untokenized_judul','Untokenized_content']]:\n",
    "    print(i,'\\n')"
   ]
  },
  {
   "cell_type": "code",
   "execution_count": 23,
   "metadata": {
    "scrolled": true
   },
   "outputs": [
    {
     "data": {
      "text/html": [
       "<div>\n",
       "<style scoped>\n",
       "    .dataframe tbody tr th:only-of-type {\n",
       "        vertical-align: middle;\n",
       "    }\n",
       "\n",
       "    .dataframe tbody tr th {\n",
       "        vertical-align: top;\n",
       "    }\n",
       "\n",
       "    .dataframe thead th {\n",
       "        text-align: right;\n",
       "    }\n",
       "</style>\n",
       "<table border=\"1\" class=\"dataframe\">\n",
       "  <thead>\n",
       "    <tr style=\"text-align: right;\">\n",
       "      <th></th>\n",
       "      <th>content</th>\n",
       "      <th>date</th>\n",
       "      <th>title</th>\n",
       "      <th>label</th>\n",
       "      <th>binary_label</th>\n",
       "      <th>Judul_clean</th>\n",
       "      <th>Content_clean</th>\n",
       "      <th>Judul_case</th>\n",
       "      <th>Content_case</th>\n",
       "      <th>Judul_tok</th>\n",
       "      <th>Content_tok</th>\n",
       "      <th>Judul_Stopwords</th>\n",
       "      <th>Content_Stopwords</th>\n",
       "      <th>Untokenized_judul</th>\n",
       "      <th>Untokenized_content</th>\n",
       "    </tr>\n",
       "  </thead>\n",
       "  <tbody>\n",
       "    <tr>\n",
       "      <th>0</th>\n",
       "      <td>Berita SurabayaSURYA.co.id | SURABAYA - Pengem...</td>\n",
       "      <td>Jumat, 10 Juni 2022 01:08</td>\n",
       "      <td>PT Intiland Development Kembangkan Kawasan Ind...</td>\n",
       "      <td>noclickbait</td>\n",
       "      <td>0</td>\n",
       "      <td>Intiland Development Kembangkan Kawasan Indus...</td>\n",
       "      <td>Berita SurabayaSURYA SURABAYA Pengembang prope...</td>\n",
       "      <td>intiland development kembangkan kawasan indus...</td>\n",
       "      <td>berita surabayasurya surabaya pengembang prope...</td>\n",
       "      <td>[industri, baru, batang, industrial, park]</td>\n",
       "      <td>[berita, surabayasurya, surabaya, pengembang, ...</td>\n",
       "      <td>[industri, batang, industrial, park]</td>\n",
       "      <td>[berita, surabayasurya, surabaya, pengembang, ...</td>\n",
       "      <td>industri batang industrial park</td>\n",
       "      <td>berita surabayasurya surabaya pengembang prope...</td>\n",
       "    </tr>\n",
       "    <tr>\n",
       "      <th>1</th>\n",
       "      <td>Berita SurabayaSURYA.co.id | SURABAYA - Brand ...</td>\n",
       "      <td>Jumat, 10 Juni 2022 01:16</td>\n",
       "      <td>ANKER Menangkan Penghargaan Nobel Prize di Aja...</td>\n",
       "      <td>noclickbait</td>\n",
       "      <td>0</td>\n",
       "      <td>ANKER Menangkan Penghargaan Nobel Prize Ajang ...</td>\n",
       "      <td>Berita SurabayaSURYA SURABAYA Brand ANKER sema...</td>\n",
       "      <td>anker menangkan penghargaan nobel prize ajang ...</td>\n",
       "      <td>berita surabayasurya surabaya brand anker sema...</td>\n",
       "      <td>[anker, menangkan, penghargaan, nobel, prize, ...</td>\n",
       "      <td>[berita, surabayasurya, surabaya, brand, anker...</td>\n",
       "      <td>[anker, menangkan, penghargaan, nobel, prize, ...</td>\n",
       "      <td>[berita, surabayasurya, surabaya, brand, anker...</td>\n",
       "      <td>anker menangkan penghargaan nobel prize ajang ...</td>\n",
       "      <td>berita surabayasurya surabaya brand anker posi...</td>\n",
       "    </tr>\n",
       "    <tr>\n",
       "      <th>2</th>\n",
       "      <td>Berita SurabayaSURYA.co.id | SURABAYA - PT Har...</td>\n",
       "      <td>Jumat, 10 Juni 2022 01:27</td>\n",
       "      <td>Perluas Bisnis, Hartadinata Abadi Store Buka G...</td>\n",
       "      <td>noclickbait</td>\n",
       "      <td>0</td>\n",
       "      <td>Perluas Bisnis Hartadinata Abadi Store Buka Ge...</td>\n",
       "      <td>Berita SurabayaSURYA SURABAYA Hartadinata Abad...</td>\n",
       "      <td>perluas bisnis hartadinata abadi store buka ge...</td>\n",
       "      <td>berita surabayasurya surabaya hartadinata abad...</td>\n",
       "      <td>[perluas, bisnis, hartadinata, abadi, store, b...</td>\n",
       "      <td>[berita, surabayasurya, surabaya, hartadinata,...</td>\n",
       "      <td>[perluas, bisnis, hartadinata, abadi, store, b...</td>\n",
       "      <td>[berita, surabayasurya, surabaya, hartadinata,...</td>\n",
       "      <td>perluas bisnis hartadinata abadi store buka ge...</td>\n",
       "      <td>berita surabayasurya surabaya hartadinata abad...</td>\n",
       "    </tr>\n",
       "    <tr>\n",
       "      <th>3</th>\n",
       "      <td>Berita SurabayaSURYA.co.id | SURABAYA – Peneri...</td>\n",
       "      <td>Jumat, 10 Juni 2022 01:34</td>\n",
       "      <td>PPDB SMP Dibuka Hari Ini, Dindik Surabaya Mint...</td>\n",
       "      <td>clickbait</td>\n",
       "      <td>1</td>\n",
       "      <td>PPDB Dibuka Hari Dindik Surabaya Minta Wali Mu...</td>\n",
       "      <td>Berita SurabayaSURYA SURABAYA Penerimaan Peser...</td>\n",
       "      <td>ppdb dibuka hari dindik surabaya minta wali mu...</td>\n",
       "      <td>berita surabayasurya surabaya penerimaan peser...</td>\n",
       "      <td>[ppdb, dibuka, hari, dindik, surabaya, minta, ...</td>\n",
       "      <td>[berita, surabayasurya, surabaya, penerimaan, ...</td>\n",
       "      <td>[ppdb, dibuka, dindik, surabaya, wali, murid, ...</td>\n",
       "      <td>[berita, surabayasurya, surabaya, penerimaan, ...</td>\n",
       "      <td>ppdb dibuka dindik surabaya wali murid percaya...</td>\n",
       "      <td>berita surabayasurya surabaya penerimaan peser...</td>\n",
       "    </tr>\n",
       "    <tr>\n",
       "      <th>4</th>\n",
       "      <td>SURYA.co.id I Masih ingat Ronaldo Nazario, san...</td>\n",
       "      <td>Jumat, 10 Juni 2022 01:51</td>\n",
       "      <td>Liga Spanyol, Ronaldo Legenda Real Madrid, Jad...</td>\n",
       "      <td>clickbait</td>\n",
       "      <td>1</td>\n",
       "      <td>Liga Spanyol Ronaldo Legenda Real Madrid Jadi ...</td>\n",
       "      <td>SURYA Masih ingat Ronaldo Nazario sang legenda...</td>\n",
       "      <td>liga spanyol ronaldo legenda real madrid jadi ...</td>\n",
       "      <td>surya masih ingat ronaldo nazario sang legenda...</td>\n",
       "      <td>[liga, spanyol, ronaldo, legenda, real, madrid...</td>\n",
       "      <td>[surya, masih, ingat, ronaldo, nazario, sang, ...</td>\n",
       "      <td>[liga, spanyol, ronaldo, legenda, real, madrid...</td>\n",
       "      <td>[surya, ronaldo, nazario, sang, legenda, real,...</td>\n",
       "      <td>liga spanyol ronaldo legenda real madrid presi...</td>\n",
       "      <td>surya ronaldo nazario sang legenda real madrid...</td>\n",
       "    </tr>\n",
       "  </tbody>\n",
       "</table>\n",
       "</div>"
      ],
      "text/plain": [
       "                                             content  \\\n",
       "0  Berita SurabayaSURYA.co.id | SURABAYA - Pengem...   \n",
       "1  Berita SurabayaSURYA.co.id | SURABAYA - Brand ...   \n",
       "2  Berita SurabayaSURYA.co.id | SURABAYA - PT Har...   \n",
       "3  Berita SurabayaSURYA.co.id | SURABAYA – Peneri...   \n",
       "4  SURYA.co.id I Masih ingat Ronaldo Nazario, san...   \n",
       "\n",
       "                        date  \\\n",
       "0  Jumat, 10 Juni 2022 01:08   \n",
       "1  Jumat, 10 Juni 2022 01:16   \n",
       "2  Jumat, 10 Juni 2022 01:27   \n",
       "3  Jumat, 10 Juni 2022 01:34   \n",
       "4  Jumat, 10 Juni 2022 01:51   \n",
       "\n",
       "                                               title        label  \\\n",
       "0  PT Intiland Development Kembangkan Kawasan Ind...  noclickbait   \n",
       "1  ANKER Menangkan Penghargaan Nobel Prize di Aja...  noclickbait   \n",
       "2  Perluas Bisnis, Hartadinata Abadi Store Buka G...  noclickbait   \n",
       "3  PPDB SMP Dibuka Hari Ini, Dindik Surabaya Mint...    clickbait   \n",
       "4  Liga Spanyol, Ronaldo Legenda Real Madrid, Jad...    clickbait   \n",
       "\n",
       "   binary_label                                        Judul_clean  \\\n",
       "0             0   Intiland Development Kembangkan Kawasan Indus...   \n",
       "1             0  ANKER Menangkan Penghargaan Nobel Prize Ajang ...   \n",
       "2             0  Perluas Bisnis Hartadinata Abadi Store Buka Ge...   \n",
       "3             1  PPDB Dibuka Hari Dindik Surabaya Minta Wali Mu...   \n",
       "4             1  Liga Spanyol Ronaldo Legenda Real Madrid Jadi ...   \n",
       "\n",
       "                                       Content_clean  \\\n",
       "0  Berita SurabayaSURYA SURABAYA Pengembang prope...   \n",
       "1  Berita SurabayaSURYA SURABAYA Brand ANKER sema...   \n",
       "2  Berita SurabayaSURYA SURABAYA Hartadinata Abad...   \n",
       "3  Berita SurabayaSURYA SURABAYA Penerimaan Peser...   \n",
       "4  SURYA Masih ingat Ronaldo Nazario sang legenda...   \n",
       "\n",
       "                                          Judul_case  \\\n",
       "0   intiland development kembangkan kawasan indus...   \n",
       "1  anker menangkan penghargaan nobel prize ajang ...   \n",
       "2  perluas bisnis hartadinata abadi store buka ge...   \n",
       "3  ppdb dibuka hari dindik surabaya minta wali mu...   \n",
       "4  liga spanyol ronaldo legenda real madrid jadi ...   \n",
       "\n",
       "                                        Content_case  \\\n",
       "0  berita surabayasurya surabaya pengembang prope...   \n",
       "1  berita surabayasurya surabaya brand anker sema...   \n",
       "2  berita surabayasurya surabaya hartadinata abad...   \n",
       "3  berita surabayasurya surabaya penerimaan peser...   \n",
       "4  surya masih ingat ronaldo nazario sang legenda...   \n",
       "\n",
       "                                           Judul_tok  \\\n",
       "0         [industri, baru, batang, industrial, park]   \n",
       "1  [anker, menangkan, penghargaan, nobel, prize, ...   \n",
       "2  [perluas, bisnis, hartadinata, abadi, store, b...   \n",
       "3  [ppdb, dibuka, hari, dindik, surabaya, minta, ...   \n",
       "4  [liga, spanyol, ronaldo, legenda, real, madrid...   \n",
       "\n",
       "                                         Content_tok  \\\n",
       "0  [berita, surabayasurya, surabaya, pengembang, ...   \n",
       "1  [berita, surabayasurya, surabaya, brand, anker...   \n",
       "2  [berita, surabayasurya, surabaya, hartadinata,...   \n",
       "3  [berita, surabayasurya, surabaya, penerimaan, ...   \n",
       "4  [surya, masih, ingat, ronaldo, nazario, sang, ...   \n",
       "\n",
       "                                     Judul_Stopwords  \\\n",
       "0               [industri, batang, industrial, park]   \n",
       "1  [anker, menangkan, penghargaan, nobel, prize, ...   \n",
       "2  [perluas, bisnis, hartadinata, abadi, store, b...   \n",
       "3  [ppdb, dibuka, dindik, surabaya, wali, murid, ...   \n",
       "4  [liga, spanyol, ronaldo, legenda, real, madrid...   \n",
       "\n",
       "                                   Content_Stopwords  \\\n",
       "0  [berita, surabayasurya, surabaya, pengembang, ...   \n",
       "1  [berita, surabayasurya, surabaya, brand, anker...   \n",
       "2  [berita, surabayasurya, surabaya, hartadinata,...   \n",
       "3  [berita, surabayasurya, surabaya, penerimaan, ...   \n",
       "4  [surya, ronaldo, nazario, sang, legenda, real,...   \n",
       "\n",
       "                                   Untokenized_judul  \\\n",
       "0                    industri batang industrial park   \n",
       "1  anker menangkan penghargaan nobel prize ajang ...   \n",
       "2  perluas bisnis hartadinata abadi store buka ge...   \n",
       "3  ppdb dibuka dindik surabaya wali murid percaya...   \n",
       "4  liga spanyol ronaldo legenda real madrid presi...   \n",
       "\n",
       "                                 Untokenized_content  \n",
       "0  berita surabayasurya surabaya pengembang prope...  \n",
       "1  berita surabayasurya surabaya brand anker posi...  \n",
       "2  berita surabayasurya surabaya hartadinata abad...  \n",
       "3  berita surabayasurya surabaya penerimaan peser...  \n",
       "4  surya ronaldo nazario sang legenda real madrid...  "
      ]
     },
     "execution_count": 23,
     "metadata": {},
     "output_type": "execute_result"
    }
   ],
   "source": [
    "data.head(5)"
   ]
  },
  {
   "cell_type": "code",
   "execution_count": 24,
   "metadata": {
    "colab": {
     "base_uri": "https://localhost:8080/"
    },
    "executionInfo": {
     "elapsed": 747,
     "status": "ok",
     "timestamp": 1675496223798,
     "user": {
      "displayName": "Gama Putra Adi Susilo",
      "userId": "11761602289089114790"
     },
     "user_tz": -420
    },
    "id": "zKX6ovcCVQHH",
    "outputId": "04ccef85-1b14-4313-b05d-77299c411751"
   },
   "outputs": [],
   "source": [
    "# Process Dataset\n",
    "from sklearn.preprocessing import LabelBinarizer\n",
    "\n",
    "X = data[['Untokenized_judul', 'Untokenized_content']].values\n",
    "y = data['label'].values\n",
    "\n",
    "# Fit transform train validation\n",
    "lb = LabelBinarizer()\n",
    "y = lb.fit_transform(y).ravel()\n",
    "lb.classes_\n",
    "\n",
    "# Train-validation-Test set split 80:20 ratio\n",
    "from sklearn.model_selection import train_test_split\n",
    "\n",
    "X_train, X_test, y_train, y_test = train_test_split(\n",
    "    X, y, test_size=0.2, random_state=0\n",
    ")\n",
    "# print(X_train, '\\n')\n",
    "# print(y_train)"
   ]
  },
  {
   "cell_type": "code",
   "execution_count": 25,
   "metadata": {
    "colab": {
     "base_uri": "https://localhost:8080/"
    },
    "executionInfo": {
     "elapsed": 14,
     "status": "ok",
     "timestamp": 1675496223798,
     "user": {
      "displayName": "Gama Putra Adi Susilo",
      "userId": "11761602289089114790"
     },
     "user_tz": -420
    },
    "id": "Q69vpM8vq2o0",
    "outputId": "64533753-ba06-4b73-83aa-efb659d5bd0f"
   },
   "outputs": [
    {
     "name": "stdout",
     "output_type": "stream",
     "text": [
      "(3226, 2)\n",
      "(3226,)\n"
     ]
    }
   ],
   "source": [
    "print(X.shape)\n",
    "print(y.shape)"
   ]
  },
  {
   "cell_type": "code",
   "execution_count": 26,
   "metadata": {
    "colab": {
     "base_uri": "https://localhost:8080/"
    },
    "executionInfo": {
     "elapsed": 558,
     "status": "ok",
     "timestamp": 1675496224349,
     "user": {
      "displayName": "Gama Putra Adi Susilo",
      "userId": "11761602289089114790"
     },
     "user_tz": -420
    },
    "id": "eQTcikOGsLnT",
    "outputId": "3dd777db-6614-48c0-f51d-9ad0624c3867",
    "scrolled": false
   },
   "outputs": [
    {
     "data": {
      "text/plain": [
       "array(['lokasi main persebaya surabaya bali united main misterius penjelasan lengkap polisi',\n",
       "       'surya bandung lokasi pertandingan persebaya bali united laga malam senin juni bertanding stadion gelora bandung lautan gbla dipindah stadion jalak harupat bandung rapat rapat dilaksanakan koordinasi lintas sektoral panpel pssi kabid humas polda jabar kombes ibrahim tompo dihubungi sambungan telepon senin dikutip tribun jabaribrahim tompo polisi menunggu penyelenggara panitia pertandingan panpel terkait rencana pertandingan menunggu rencana rapatnya semoga dukungan rapat masukan stakholder evaluasi bahan rekomendasi pengambil keputusan baca prediksi skor bali united persebaya santoso reaksi venue dipindah rotasi pemain hasil investigasi evaluasi masukan stakholder bahan pertimbangan kegiatan laga persib dipindah penontonsebelumnya polda jawa barat rekomendasi panitia pelaksana pertandingan panpel persib bandung meninggalnya bobotoh persib kabid humas polda jabar kombes ibrahim tompo rekomendasi pertandingan digelar stadion gelora bandung lautan gbla penonton memindahkan pertandingannya ibrahim tompo dihubungi sambungan telepon senin alasan rekomendasi hasil evaluasi bahan rekomendasi penyelenggara pemanggil keputusan penyelenggara memutuskan menggelar pertandingan stadion gelora bandung lautan gbla penonton pindah stadion baca persebaya bali united pelatih santoso pemain asing main pertandingan bola malam keputusan keputusan keamanan rekomendasi suporter persib bandung meninggal dunia pertandingan babak penyisihan piala presiden persib bandung melawan persebaya surabaya stadion gelora bandung lautan gbla jumat malam meninggal diduga kehabisan napas desak desak masuk stadion gbla'],\n",
       "      dtype=object)"
      ]
     },
     "execution_count": 26,
     "metadata": {},
     "output_type": "execute_result"
    }
   ],
   "source": [
    "X_train[0]"
   ]
  },
  {
   "cell_type": "code",
   "execution_count": 27,
   "metadata": {},
   "outputs": [],
   "source": [
    "# Text Columns\n",
    "\n",
    "text_judul = data['Untokenized_judul'].values.tolist()\n",
    "text_isi = data['Untokenized_content'].values.tolist()\n",
    "\n",
    "# merge title and content\n",
    "text_combined = text_judul + text_isi\n",
    "# menggabungan teks judul dan isi berita\n",
    "# data['Combined'] = data['title'] + ' ' + data['content']"
   ]
  },
  {
   "cell_type": "markdown",
   "metadata": {
    "id": "dO7m4dWTEdzh"
   },
   "source": [
    "## Model Training"
   ]
  },
  {
   "cell_type": "code",
   "execution_count": null,
   "metadata": {},
   "outputs": [],
   "source": []
  },
  {
   "cell_type": "code",
   "execution_count": 43,
   "metadata": {
    "executionInfo": {
     "elapsed": 1586,
     "status": "ok",
     "timestamp": 1675496226416,
     "user": {
      "displayName": "Gama Putra Adi Susilo",
      "userId": "11761602289089114790"
     },
     "user_tz": -420
    },
    "id": "2DnmpL0tUn5F"
   },
   "outputs": [],
   "source": [
    "# Text Vectorization\n",
    "\n",
    "max_features = 1000\n",
    "max_len = 100\n",
    "\n",
    "vectorize_layer = layers.TextVectorization(\n",
    "                        max_tokens=max_features,\n",
    "                        output_mode='int',\n",
    "                        output_sequence_length=max_len,\n",
    "                        name='Text_Vectorization'\n",
    "                    )\n",
    "\n",
    "vectorize_layer.adapt(text_combined)"
   ]
  },
  {
   "cell_type": "code",
   "execution_count": 44,
   "metadata": {
    "executionInfo": {
     "elapsed": 37,
     "status": "ok",
     "timestamp": 1675496226420,
     "user": {
      "displayName": "Gama Putra Adi Susilo",
      "userId": "11761602289089114790"
     },
     "user_tz": -420
    },
    "id": "P1fBGkwIogou"
   },
   "outputs": [],
   "source": [
    "# Model\n",
    "\n",
    "model = models.Sequential([\n",
    "    layers.Input(shape=(2,), dtype=tf.dtypes.string, name='Input'),\n",
    "    layers.Reshape((2,1), name='Reshape'),\n",
    "    vectorize_layer,\n",
    "    layers.Embedding(input_dim=max_features, output_dim=16, name='Embedding'),\n",
    "    layers.Flatten(name='Flatten'),\n",
    "    layers.Dense(16, activation='relu', name='Dense'),\n",
    "    layers.Dense(1, activation='sigmoid', name='Output')\n",
    "])"
   ]
  },
  {
   "cell_type": "code",
   "execution_count": 45,
   "metadata": {
    "colab": {
     "base_uri": "https://localhost:8080/"
    },
    "executionInfo": {
     "elapsed": 37,
     "status": "ok",
     "timestamp": 1675496226421,
     "user": {
      "displayName": "Gama Putra Adi Susilo",
      "userId": "11761602289089114790"
     },
     "user_tz": -420
    },
    "id": "YHd_9l8UowVl",
    "outputId": "895d1ab3-8dbf-44ce-b164-383d75718042"
   },
   "outputs": [
    {
     "name": "stdout",
     "output_type": "stream",
     "text": [
      "Model: \"sequential_1\"\n",
      "_________________________________________________________________\n",
      " Layer (type)                Output Shape              Param #   \n",
      "=================================================================\n",
      " Reshape (Reshape)           (None, 2, 1)              0         \n",
      "                                                                 \n",
      " Text_Vectorization (TextVec  (None, 2, 100)           0         \n",
      " torization)                                                     \n",
      "                                                                 \n",
      " Embedding (Embedding)       (None, 2, 100, 16)        16000     \n",
      "                                                                 \n",
      " Flatten (Flatten)           (None, 3200)              0         \n",
      "                                                                 \n",
      " Dense (Dense)               (None, 16)                51216     \n",
      "                                                                 \n",
      " Output (Dense)              (None, 1)                 17        \n",
      "                                                                 \n",
      "=================================================================\n",
      "Total params: 67,233\n",
      "Trainable params: 67,233\n",
      "Non-trainable params: 0\n",
      "_________________________________________________________________\n"
     ]
    }
   ],
   "source": [
    "model.summary()"
   ]
  },
  {
   "cell_type": "code",
   "execution_count": 46,
   "metadata": {
    "colab": {
     "base_uri": "https://localhost:8080/",
     "height": 754
    },
    "executionInfo": {
     "elapsed": 18,
     "status": "ok",
     "timestamp": 1675496226421,
     "user": {
      "displayName": "Gama Putra Adi Susilo",
      "userId": "11761602289089114790"
     },
     "user_tz": -420
    },
    "id": "yH3DFnyVpH6x",
    "outputId": "87787f5a-8942-401b-f353-4de143dbd2b2"
   },
   "outputs": [
    {
     "name": "stdout",
     "output_type": "stream",
     "text": [
      "You must install pydot (`pip install pydot`) and install graphviz (see instructions at https://graphviz.gitlab.io/download/) for plot_model to work.\n"
     ]
    }
   ],
   "source": [
    "# Layers Models\n",
    "\n",
    "image_model = keras.utils.plot_model(model, show_shapes=True)\n",
    "image_model"
   ]
  },
  {
   "cell_type": "code",
   "execution_count": 47,
   "metadata": {
    "executionInfo": {
     "elapsed": 17,
     "status": "ok",
     "timestamp": 1675496226422,
     "user": {
      "displayName": "Gama Putra Adi Susilo",
      "userId": "11761602289089114790"
     },
     "user_tz": -420
    },
    "id": "6tVCNnUapJty"
   },
   "outputs": [],
   "source": [
    "# Compile\n",
    "\n",
    "METRICS = [\n",
    "      tf.keras.metrics.BinaryAccuracy(name='accuracy'),\n",
    "      tf.keras.metrics.Precision(name='precision'),\n",
    "      tf.keras.metrics.Recall(name='recall')\n",
    "]\n",
    "\n",
    "model.compile(\n",
    "    optimizer='adam',\n",
    "    loss='binary_crossentropy',\n",
    "    metrics=METRICS,\n",
    ")"
   ]
  },
  {
   "cell_type": "code",
   "execution_count": 48,
   "metadata": {
    "colab": {
     "base_uri": "https://localhost:8080/"
    },
    "executionInfo": {
     "elapsed": 13311,
     "status": "ok",
     "timestamp": 1675496239717,
     "user": {
      "displayName": "Gama Putra Adi Susilo",
      "userId": "11761602289089114790"
     },
     "user_tz": -420
    },
    "id": "6gTWHyqepaFC",
    "outputId": "8f77ab1c-71fb-45f3-ea83-97a42c6aef95"
   },
   "outputs": [
    {
     "name": "stdout",
     "output_type": "stream",
     "text": [
      "Epoch 1/20\n",
      "65/65 [==============================] - 5s 70ms/step - loss: 0.5716 - accuracy: 0.7393 - precision: 0.7428 - recall: 0.9928 - val_loss: 0.5030 - val_accuracy: 0.7868 - val_precision: 0.7868 - val_recall: 1.0000\n",
      "Epoch 2/20\n",
      "65/65 [==============================] - 5s 70ms/step - loss: 0.4649 - accuracy: 0.7427 - precision: 0.7427 - recall: 1.0000 - val_loss: 0.4153 - val_accuracy: 0.7868 - val_precision: 0.7868 - val_recall: 1.0000\n",
      "Epoch 3/20\n",
      "65/65 [==============================] - 5s 70ms/step - loss: 0.3627 - accuracy: 0.8338 - precision: 0.8328 - recall: 0.9713 - val_loss: 0.4105 - val_accuracy: 0.8585 - val_precision: 0.8612 - val_recall: 0.9778\n",
      "Epoch 4/20\n",
      "65/65 [==============================] - 5s 70ms/step - loss: 0.3227 - accuracy: 0.8837 - precision: 0.8902 - recall: 0.9622 - val_loss: 0.4128 - val_accuracy: 0.8682 - val_precision: 0.8789 - val_recall: 0.9655\n",
      "Epoch 5/20\n",
      "65/65 [==============================] - 5s 70ms/step - loss: 0.2605 - accuracy: 0.9109 - precision: 0.9229 - recall: 0.9602 - val_loss: 0.3967 - val_accuracy: 0.8760 - val_precision: 0.8922 - val_recall: 0.9581\n",
      "Epoch 6/20\n",
      "65/65 [==============================] - 5s 70ms/step - loss: 0.1719 - accuracy: 0.9443 - precision: 0.9580 - recall: 0.9674 - val_loss: 0.4163 - val_accuracy: 0.8663 - val_precision: 0.8910 - val_recall: 0.9458\n",
      "Epoch 7/20\n",
      "65/65 [==============================] - 5s 70ms/step - loss: 0.1182 - accuracy: 0.9685 - precision: 0.9823 - recall: 0.9752 - val_loss: 0.4433 - val_accuracy: 0.8605 - val_precision: 0.8884 - val_recall: 0.9409\n",
      "Epoch 8/20\n",
      "65/65 [==============================] - 5s 70ms/step - loss: 0.0753 - accuracy: 0.9869 - precision: 0.9954 - recall: 0.9870 - val_loss: 0.4711 - val_accuracy: 0.8547 - val_precision: 0.9046 - val_recall: 0.9113\n",
      "Epoch 9/20\n",
      "65/65 [==============================] - 5s 70ms/step - loss: 0.0510 - accuracy: 0.9922 - precision: 1.0000 - recall: 0.9896 - val_loss: 0.5183 - val_accuracy: 0.8624 - val_precision: 0.8851 - val_recall: 0.9483\n",
      "Epoch 10/20\n",
      "65/65 [==============================] - 5s 70ms/step - loss: 0.0337 - accuracy: 0.9952 - precision: 1.0000 - recall: 0.9935 - val_loss: 0.5673 - val_accuracy: 0.8585 - val_precision: 0.8776 - val_recall: 0.9532\n",
      "Epoch 11/20\n",
      "65/65 [==============================] - 5s 70ms/step - loss: 0.0253 - accuracy: 0.9971 - precision: 1.0000 - recall: 0.9961 - val_loss: 0.5752 - val_accuracy: 0.8585 - val_precision: 0.8845 - val_recall: 0.9433\n",
      "Epoch 12/20\n",
      "65/65 [==============================] - 5s 70ms/step - loss: 0.0187 - accuracy: 0.9976 - precision: 1.0000 - recall: 0.9967 - val_loss: 0.5978 - val_accuracy: 0.8585 - val_precision: 0.8863 - val_recall: 0.9409\n",
      "Epoch 13/20\n",
      "65/65 [==============================] - 5s 70ms/step - loss: 0.0153 - accuracy: 0.9981 - precision: 1.0000 - recall: 0.9974 - val_loss: 0.6133 - val_accuracy: 0.8585 - val_precision: 0.8863 - val_recall: 0.9409\n",
      "Epoch 14/20\n",
      "65/65 [==============================] - 5s 70ms/step - loss: 0.0129 - accuracy: 0.9981 - precision: 1.0000 - recall: 0.9974 - val_loss: 0.6256 - val_accuracy: 0.8566 - val_precision: 0.8879 - val_recall: 0.9360\n",
      "Epoch 15/20\n",
      "65/65 [==============================] - 5s 71ms/step - loss: 0.0090 - accuracy: 0.9990 - precision: 1.0000 - recall: 0.9987 - val_loss: 0.6614 - val_accuracy: 0.8547 - val_precision: 0.8822 - val_recall: 0.9409\n",
      "Epoch 16/20\n",
      "65/65 [==============================] - 5s 71ms/step - loss: 0.0073 - accuracy: 0.9990 - precision: 1.0000 - recall: 0.9987 - val_loss: 0.6635 - val_accuracy: 0.8585 - val_precision: 0.8881 - val_recall: 0.9384\n",
      "Epoch 17/20\n",
      "65/65 [==============================] - 5s 71ms/step - loss: 0.0053 - accuracy: 0.9995 - precision: 1.0000 - recall: 0.9993 - val_loss: 0.6799 - val_accuracy: 0.8585 - val_precision: 0.8881 - val_recall: 0.9384\n",
      "Epoch 18/20\n",
      "65/65 [==============================] - 5s 71ms/step - loss: 0.0047 - accuracy: 0.9995 - precision: 1.0000 - recall: 0.9993 - val_loss: 0.7004 - val_accuracy: 0.8585 - val_precision: 0.8881 - val_recall: 0.9384\n",
      "Epoch 19/20\n",
      "65/65 [==============================] - 5s 71ms/step - loss: 0.0040 - accuracy: 0.9995 - precision: 1.0000 - recall: 0.9993 - val_loss: 0.7131 - val_accuracy: 0.8585 - val_precision: 0.8881 - val_recall: 0.9384\n",
      "Epoch 20/20\n",
      "65/65 [==============================] - 5s 70ms/step - loss: 0.0020 - accuracy: 1.0000 - precision: 1.0000 - recall: 1.0000 - val_loss: 0.7178 - val_accuracy: 0.8566 - val_precision: 0.8897 - val_recall: 0.9335\n"
     ]
    }
   ],
   "source": [
    "# Train\n",
    "\n",
    "tf.config.run_functions_eagerly(True)\n",
    "\n",
    "hist = model.fit(\n",
    "    X_train,\n",
    "    y_train,\n",
    "    epochs=20,\n",
    "    validation_split=0.2\n",
    ")"
   ]
  },
  {
   "cell_type": "markdown",
   "metadata": {
    "id": "PDkHQc65Gygk"
   },
   "source": [
    "## Model Performance"
   ]
  },
  {
   "cell_type": "code",
   "execution_count": 49,
   "metadata": {
    "colab": {
     "base_uri": "https://localhost:8080/"
    },
    "executionInfo": {
     "elapsed": 15,
     "status": "ok",
     "timestamp": 1675496239718,
     "user": {
      "displayName": "Gama Putra Adi Susilo",
      "userId": "11761602289089114790"
     },
     "user_tz": -420
    },
    "id": "GQ4qYF_DphP9",
    "outputId": "b0cabc27-a22c-4ffe-dc75-b7e756ef2702",
    "scrolled": true
   },
   "outputs": [
    {
     "name": "stdout",
     "output_type": "stream",
     "text": [
      "21/21 [==============================] - 1s 36ms/step - loss: 0.8346 - accuracy: 0.8220 - precision: 0.8552 - recall: 0.9172\n"
     ]
    },
    {
     "data": {
      "text/plain": [
       "[0.8346437811851501,\n",
       " 0.8219814300537109,\n",
       " 0.8552123308181763,\n",
       " 0.9171842932701111]"
      ]
     },
     "execution_count": 49,
     "metadata": {},
     "output_type": "execute_result"
    }
   ],
   "source": [
    "model.evaluate(X_test, y_test)"
   ]
  },
  {
   "cell_type": "code",
   "execution_count": 50,
   "metadata": {},
   "outputs": [],
   "source": [
    "input_judul = ['PPDB SMP Dibuka Hari Ini, Dindik Surabaya Minta Wali Murid Tak Percayai Oknum Jual-Beli Bangku',]\n",
    "input_isi = ['Berita SurabayaSURYA.co.id | SURABAYA – Penerimaan Peserta Didik Baru (PPDB) SMP tahun 2022/2023 di Kota Surabaya mulai dibuka, Jumat (10/6/2022).Ada dua jalur yang dibuka untuk tahap awal tersebut, yakni afirmasi inklusi dan afirmasi mitra warga.Bagi lulusan sekolah inklusi di Surabaya, Dindik Surabaya akan menempatkan langsung berdasarkan data tempat domisili sesuai kartu keluarga (KK).Sedangkan mira warga diperuntukkan bagi Masyarakat Berpenghasilan Rendah (MBR).Setelah pendaftaran dibuka 6 hari (10-15/6/2022), selanjutnya siswa terpilih akan diumumkan pada 16 Juni.”Pola daftarnya masih sama seperti SD. Untuk kategori mitra warga, CPDB dari luar MBR tidak bisa diterima,\" kata Kepala Dindik Surabaya Yusuf Masruh.Selain dua jalur tersebut, Dindik juga akan membuka PPDB jalur perpindahan tugas orang tua, 14-15 Juni 2022 mendatang.Kemudian, pendaftaran jalur prestasi nilai rapor dan prestasi perlombaan, 16-20 Juni 2022.Masing-masing jalur memiliki kuota berbeda. Jalur perpindahan orang, misalnya adalah paling banyak 5 persen.Kemudian, afirmasi kategori inklusi dan MBR paling sedikit 15 persen, diikuti jalur prestasi paling banyak 30 persen, dan jalur zonasi paling sedikit ada 50 persen.Surabaya memiliki 63 sekolah SMP Negeri.Total, ada 590 rombongan belajar (rombel) dengan maksimal 32 siswa per rombel.Pihaknya memastikan, seluruh proses transparan sebab diakses melalui system website ppdbsurabaya.net yang dikelola Dinas Pendidikan.']\n",
    "\n",
    "input_prediksi = input_judul + input_isi"
   ]
  },
  {
   "cell_type": "code",
   "execution_count": 51,
   "metadata": {
    "scrolled": false
   },
   "outputs": [
    {
     "name": "stdout",
     "output_type": "stream",
     "text": [
      "1/1 [==============================] - 0s 67ms/step\n"
     ]
    },
    {
     "data": {
      "text/plain": [
       "array([[0.98795766]], dtype=float32)"
      ]
     },
     "execution_count": 51,
     "metadata": {},
     "output_type": "execute_result"
    }
   ],
   "source": [
    "model.predict([input_prediksi])"
   ]
  },
  {
   "cell_type": "code",
   "execution_count": 52,
   "metadata": {},
   "outputs": [
    {
     "name": "stdout",
     "output_type": "stream",
     "text": [
      "21/21 [==============================] - 0s 17ms/step\n"
     ]
    }
   ],
   "source": [
    "y_predicted = model.predict(X_test)\n",
    "y_predicted = y_predicted.flatten()"
   ]
  },
  {
   "cell_type": "code",
   "execution_count": 53,
   "metadata": {},
   "outputs": [
    {
     "data": {
      "text/plain": [
       "array([1, 1, 1, 1, 1, 1, 1, 1, 1, 0, 1, 0, 1, 1, 1, 1, 1, 0, 1, 1, 0, 1,\n",
       "       1, 1, 1, 1, 0, 1, 1, 0, 1, 1, 1, 0, 0, 1, 0, 0, 1, 1, 1, 1, 1, 1,\n",
       "       1, 1, 1, 0, 0, 1, 1, 1, 1, 1, 1, 1, 1, 1, 1, 1, 1, 1, 1, 1, 0, 1,\n",
       "       1, 1, 0, 1, 1, 1, 1, 1, 1, 1, 1, 1, 0, 1, 1, 1, 0, 1, 1, 0, 1, 1,\n",
       "       0, 1, 0, 0, 1, 1, 1, 1, 0, 0, 1, 1, 1, 1, 1, 1, 0, 1, 1, 0, 1, 1,\n",
       "       0, 0, 0, 1, 1, 1, 1, 1, 1, 0, 0, 0, 0, 1, 1, 1, 1, 0, 0, 1, 1, 0,\n",
       "       1, 0, 1, 1, 1, 1, 1, 1, 1, 0, 0, 1, 1, 1, 1, 1, 1, 0, 1, 1, 1, 1,\n",
       "       1, 1, 1, 1, 1, 1, 1, 1, 1, 1, 1, 1, 1, 1, 1, 1, 1, 1, 1, 1, 1, 1,\n",
       "       0, 1, 0, 0, 1, 1, 1, 0, 0, 1, 1, 1, 1, 0, 1, 1, 1, 1, 1, 1, 1, 1,\n",
       "       1, 0, 0, 1, 1, 1, 0, 1, 0, 1, 1, 1, 1, 1, 1, 1, 1, 1, 1, 1, 1, 1,\n",
       "       1, 1, 1, 1, 1, 1, 0, 1, 0, 1, 1, 1, 1, 0, 1, 1, 1, 1, 1, 1, 1, 0,\n",
       "       1, 1, 1, 0, 0, 1, 1, 1, 1, 1, 1, 1, 1, 1, 1, 1, 0, 1, 1, 1, 1, 1,\n",
       "       1, 1, 1, 1, 1, 1, 1, 1, 0, 1, 1, 1, 1, 1, 1, 1, 0, 1, 1, 1, 1, 0,\n",
       "       1, 1, 1, 1, 1, 1, 0, 1, 1, 1, 1, 1, 0, 1, 1, 1, 1, 1, 1, 0, 0, 1,\n",
       "       1, 0, 1, 1, 1, 1, 1, 1, 1, 0, 1, 1, 1, 1, 1, 1, 1, 1, 1, 1, 1, 1,\n",
       "       1, 1, 1, 0, 1, 1, 1, 1, 1, 0, 1, 1, 1, 1, 1, 1, 1, 1, 1, 1, 0, 1,\n",
       "       0, 1, 1, 1, 0, 1, 1, 1, 1, 1, 0, 1, 1, 1, 1, 1, 1, 1, 0, 1, 1, 1,\n",
       "       0, 1, 1, 1, 1, 1, 1, 1, 1, 1, 1, 1, 1, 1, 1, 1, 0, 1, 1, 0, 0, 0,\n",
       "       0, 1, 1, 1, 1, 0, 1, 0, 1, 1, 1, 0, 1, 1, 1, 1, 1, 1, 0, 1, 1, 0,\n",
       "       1, 1, 1, 1, 0, 1, 1, 0, 1, 1, 1, 1, 1, 1, 0, 1, 1, 1, 0, 0, 1, 1,\n",
       "       0, 0, 1, 1, 1, 1, 1, 1, 1, 1, 1, 1, 1, 0, 1, 1, 1, 1, 1, 0, 1, 1,\n",
       "       1, 1, 1, 0, 1, 1, 1, 0, 0, 1, 0, 1, 1, 0, 1, 1, 1, 0, 1, 1, 1, 1,\n",
       "       1, 1, 1, 1, 0, 1, 1, 0, 1, 1, 0, 1, 1, 1, 0, 1, 1, 0, 1, 1, 1, 1,\n",
       "       1, 1, 0, 1, 1, 1, 1, 0, 1, 1, 1, 1, 1, 1, 1, 1, 1, 1, 1, 1, 1, 0,\n",
       "       1, 1, 1, 1, 1, 1, 1, 0, 1, 1, 1, 0, 1, 1, 1, 1, 1, 1, 1, 1, 0, 1,\n",
       "       1, 1, 1, 1, 1, 1, 1, 1, 0, 1, 1, 0, 0, 1, 0, 1, 0, 1, 0, 0, 1, 1,\n",
       "       1, 0, 1, 1, 1, 0, 0, 1, 1, 1, 0, 1, 1, 1, 1, 1, 1, 1, 1, 0, 1, 1,\n",
       "       0, 0, 1, 0, 1, 1, 1, 1, 1, 1, 1, 1, 1, 1, 1, 0, 1, 1, 1, 1, 1, 0,\n",
       "       1, 1, 1, 1, 1, 1, 1, 1, 0, 1, 1, 0, 1, 1, 1, 1, 1, 1, 1, 1, 1, 1,\n",
       "       1, 1, 1, 1, 1, 0, 1, 1])"
      ]
     },
     "execution_count": 53,
     "metadata": {},
     "output_type": "execute_result"
    }
   ],
   "source": [
    "import numpy as np\n",
    "\n",
    "y_predicted = np.where(y_predicted > 0.5, 1, 0)\n",
    "y_predicted"
   ]
  },
  {
   "cell_type": "code",
   "execution_count": 54,
   "metadata": {},
   "outputs": [
    {
     "data": {
      "text/plain": [
       "array([[ 88,  75],\n",
       "       [ 40, 443]], dtype=int64)"
      ]
     },
     "execution_count": 54,
     "metadata": {},
     "output_type": "execute_result"
    }
   ],
   "source": [
    "from sklearn.metrics import confusion_matrix, classification_report, accuracy_score, precision_score, recall_score, f1_score\n",
    "\n",
    "cm = confusion_matrix(y_test, y_predicted)\n",
    "cm "
   ]
  },
  {
   "cell_type": "code",
   "execution_count": 55,
   "metadata": {
    "colab": {
     "base_uri": "https://localhost:8080/"
    },
    "executionInfo": {
     "elapsed": 20,
     "status": "ok",
     "timestamp": 1675496240395,
     "user": {
      "displayName": "Gama Putra Adi Susilo",
      "userId": "11761602289089114790"
     },
     "user_tz": -420
    },
    "id": "l5P-_Ht7elac",
    "outputId": "9dcf3af3-508d-4ebe-9aa3-6bb857d17a04",
    "scrolled": false
   },
   "outputs": [
    {
     "name": "stdout",
     "output_type": "stream",
     "text": [
      "              precision    recall  f1-score   support\n",
      "\n",
      "           0       0.69      0.54      0.60       163\n",
      "           1       0.86      0.92      0.89       483\n",
      "\n",
      "    accuracy                           0.82       646\n",
      "   macro avg       0.77      0.73      0.74       646\n",
      "weighted avg       0.81      0.82      0.81       646\n",
      "\n"
     ]
    }
   ],
   "source": [
    "print(classification_report(y_test, y_predicted))"
   ]
  },
  {
   "cell_type": "code",
   "execution_count": 56,
   "metadata": {
    "colab": {
     "base_uri": "https://localhost:8080/"
    },
    "executionInfo": {
     "elapsed": 676,
     "status": "ok",
     "timestamp": 1675496240387,
     "user": {
      "displayName": "Gama Putra Adi Susilo",
      "userId": "11761602289089114790"
     },
     "user_tz": -420
    },
    "id": "CdiELwTZeP-s",
    "outputId": "9182947d-865a-4a1e-b22d-ee1f572ea411"
   },
   "outputs": [
    {
     "name": "stdout",
     "output_type": "stream",
     "text": [
      "21/21 [==============================] - 0s 18ms/step\n"
     ]
    }
   ],
   "source": [
    "y_predicted = model.predict(X_test)\n",
    "y_predicted = y_predicted.flatten()"
   ]
  },
  {
   "cell_type": "code",
   "execution_count": 57,
   "metadata": {
    "colab": {
     "base_uri": "https://localhost:8080/"
    },
    "executionInfo": {
     "elapsed": 28,
     "status": "ok",
     "timestamp": 1675496240388,
     "user": {
      "displayName": "Gama Putra Adi Susilo",
      "userId": "11761602289089114790"
     },
     "user_tz": -420
    },
    "id": "fQcKzPnuESaK",
    "outputId": "82fd267e-826a-47b3-c3ee-eb586d166708"
   },
   "outputs": [
    {
     "data": {
      "text/plain": [
       "array([1, 1, 1, 1, 1, 1, 1, 1, 1, 0, 1, 0, 1, 1, 1, 1, 1, 0, 1, 1, 0, 1,\n",
       "       1, 1, 1, 1, 0, 1, 1, 0, 1, 1, 1, 0, 0, 1, 0, 0, 1, 1, 1, 1, 1, 1,\n",
       "       1, 1, 1, 0, 0, 1, 1, 1, 1, 1, 1, 1, 1, 1, 1, 1, 1, 1, 1, 1, 0, 1,\n",
       "       1, 1, 0, 1, 1, 1, 1, 1, 1, 1, 1, 1, 0, 1, 1, 1, 0, 1, 1, 0, 1, 1,\n",
       "       0, 1, 0, 0, 1, 1, 1, 1, 0, 0, 1, 1, 1, 1, 1, 1, 0, 1, 1, 0, 1, 1,\n",
       "       0, 0, 0, 1, 1, 1, 1, 1, 1, 0, 0, 0, 0, 1, 1, 1, 1, 0, 0, 1, 1, 0,\n",
       "       1, 0, 1, 1, 1, 1, 1, 1, 1, 0, 0, 1, 1, 1, 1, 1, 1, 0, 1, 1, 1, 1,\n",
       "       1, 1, 1, 1, 1, 1, 1, 1, 1, 1, 1, 1, 1, 1, 1, 1, 1, 1, 1, 1, 1, 1,\n",
       "       0, 1, 0, 0, 1, 1, 1, 0, 0, 1, 1, 1, 1, 0, 1, 1, 1, 1, 1, 1, 1, 1,\n",
       "       1, 0, 0, 1, 1, 1, 0, 1, 0, 1, 1, 1, 1, 1, 1, 1, 1, 1, 1, 1, 1, 1,\n",
       "       1, 1, 1, 1, 1, 1, 0, 1, 0, 1, 1, 1, 1, 0, 1, 1, 1, 1, 1, 1, 1, 0,\n",
       "       1, 1, 1, 0, 0, 1, 1, 1, 1, 1, 1, 1, 1, 1, 1, 1, 0, 1, 1, 1, 1, 1,\n",
       "       1, 1, 1, 1, 1, 1, 1, 1, 0, 1, 1, 1, 1, 1, 1, 1, 0, 1, 1, 1, 1, 0,\n",
       "       1, 1, 1, 1, 1, 1, 0, 1, 1, 1, 1, 1, 0, 1, 1, 1, 1, 1, 1, 0, 0, 1,\n",
       "       1, 0, 1, 1, 1, 1, 1, 1, 1, 0, 1, 1, 1, 1, 1, 1, 1, 1, 1, 1, 1, 1,\n",
       "       1, 1, 1, 0, 1, 1, 1, 1, 1, 0, 1, 1, 1, 1, 1, 1, 1, 1, 1, 1, 0, 1,\n",
       "       0, 1, 1, 1, 0, 1, 1, 1, 1, 1, 0, 1, 1, 1, 1, 1, 1, 1, 0, 1, 1, 1,\n",
       "       0, 1, 1, 1, 1, 1, 1, 1, 1, 1, 1, 1, 1, 1, 1, 1, 0, 1, 1, 0, 0, 0,\n",
       "       0, 1, 1, 1, 1, 0, 1, 0, 1, 1, 1, 0, 1, 1, 1, 1, 1, 1, 0, 1, 1, 0,\n",
       "       1, 1, 1, 1, 0, 1, 1, 0, 1, 1, 1, 1, 1, 1, 0, 1, 1, 1, 0, 0, 1, 1,\n",
       "       0, 0, 1, 1, 1, 1, 1, 1, 1, 1, 1, 1, 1, 0, 1, 1, 1, 1, 1, 0, 1, 1,\n",
       "       1, 1, 1, 0, 1, 1, 1, 0, 0, 1, 0, 1, 1, 0, 1, 1, 1, 0, 1, 1, 1, 1,\n",
       "       1, 1, 1, 1, 0, 1, 1, 0, 1, 1, 0, 1, 1, 1, 0, 1, 1, 0, 1, 1, 1, 1,\n",
       "       1, 1, 0, 1, 1, 1, 1, 0, 1, 1, 1, 1, 1, 1, 1, 1, 1, 1, 1, 1, 1, 0,\n",
       "       1, 1, 1, 1, 1, 1, 1, 0, 1, 1, 1, 0, 1, 1, 1, 1, 1, 1, 1, 1, 0, 1,\n",
       "       1, 1, 1, 1, 1, 1, 1, 1, 0, 1, 1, 0, 0, 1, 0, 1, 0, 1, 0, 0, 1, 1,\n",
       "       1, 0, 1, 1, 1, 0, 0, 1, 1, 1, 0, 1, 1, 1, 1, 1, 1, 1, 1, 0, 1, 1,\n",
       "       0, 0, 1, 0, 1, 1, 1, 1, 1, 1, 1, 1, 1, 1, 1, 0, 1, 1, 1, 1, 1, 0,\n",
       "       1, 1, 1, 1, 1, 1, 1, 1, 0, 1, 1, 0, 1, 1, 1, 1, 1, 1, 1, 1, 1, 1,\n",
       "       1, 1, 1, 1, 1, 0, 1, 1])"
      ]
     },
     "execution_count": 57,
     "metadata": {},
     "output_type": "execute_result"
    }
   ],
   "source": [
    "import numpy as np\n",
    "\n",
    "y_predicted = np.where(y_predicted > 0.5, 1, 0)\n",
    "y_predicted"
   ]
  },
  {
   "cell_type": "code",
   "execution_count": 58,
   "metadata": {
    "colab": {
     "base_uri": "https://localhost:8080/"
    },
    "executionInfo": {
     "elapsed": 26,
     "status": "ok",
     "timestamp": 1675496240389,
     "user": {
      "displayName": "Gama Putra Adi Susilo",
      "userId": "11761602289089114790"
     },
     "user_tz": -420
    },
    "id": "OzBqgJt3ec6L",
    "outputId": "c5df0106-9519-4ff9-fc10-60de0a8714be"
   },
   "outputs": [
    {
     "data": {
      "text/plain": [
       "array([[ 88,  75],\n",
       "       [ 40, 443]], dtype=int64)"
      ]
     },
     "execution_count": 58,
     "metadata": {},
     "output_type": "execute_result"
    }
   ],
   "source": [
    "from sklearn.metrics import confusion_matrix, classification_report, accuracy_score, precision_score, recall_score, f1_score\n",
    "\n",
    "cm = confusion_matrix(y_test, y_predicted)\n",
    "cm "
   ]
  },
  {
   "cell_type": "code",
   "execution_count": 59,
   "metadata": {
    "colab": {
     "base_uri": "https://localhost:8080/",
     "height": 296
    },
    "executionInfo": {
     "elapsed": 23,
     "status": "ok",
     "timestamp": 1675496240393,
     "user": {
      "displayName": "Gama Putra Adi Susilo",
      "userId": "11761602289089114790"
     },
     "user_tz": -420
    },
    "id": "bV5j0fd1ehW0",
    "outputId": "30a84393-0a33-4b7f-d76f-27e7cf09688b"
   },
   "outputs": [
    {
     "data": {
      "text/plain": [
       "Text(50.722222222222214, 0.5, 'Truth')"
      ]
     },
     "execution_count": 59,
     "metadata": {},
     "output_type": "execute_result"
    },
    {
     "data": {
      "image/png": "[encoded data removed]",
      "text/plain": [
       "<Figure size 640x480 with 2 Axes>"
      ]
     },
     "metadata": {},
     "output_type": "display_data"
    }
   ],
   "source": [
    "from matplotlib import pyplot as plt\n",
    "import seaborn as sn\n",
    "sn.heatmap(cm, annot=True, fmt='d')\n",
    "plt.xlabel('Predicted')\n",
    "plt.ylabel('Truth')"
   ]
  },
  {
   "cell_type": "code",
   "execution_count": 60,
   "metadata": {
    "executionInfo": {
     "elapsed": 25,
     "status": "ok",
     "timestamp": 1675496242044,
     "user": {
      "displayName": "Gama Putra Adi Susilo",
      "userId": "11761602289089114790"
     },
     "user_tz": -420
    },
    "id": "ffKJrwNkQIlA"
   },
   "outputs": [],
   "source": [
    "train_loss=hist.history['loss']\n",
    "val_loss=hist.history['val_loss']\n",
    "train_acc=hist.history['accuracy']\n",
    "val_acc=hist.history['val_accuracy']\n"
   ]
  },
  {
   "cell_type": "code",
   "execution_count": 62,
   "metadata": {
    "colab": {
     "base_uri": "https://localhost:8080/",
     "height": 573
    },
    "executionInfo": {
     "elapsed": 988,
     "status": "ok",
     "timestamp": 1675496243013,
     "user": {
      "displayName": "Gama Putra Adi Susilo",
      "userId": "11761602289089114790"
     },
     "user_tz": -420
    },
    "id": "-HY6d467Xf9M",
    "outputId": "167d62ee-46f8-4857-b5fb-ed06911940b0"
   },
   "outputs": [
    {
     "data": {
      "image/png": "[encoded data removed]",
      "text/plain": [
       "<Figure size 640x480 with 1 Axes>"
      ]
     },
     "metadata": {},
     "output_type": "display_data"
    },
    {
     "data": {
      "image/png": "[encoded data removed]",
      "text/plain": [
       "<Figure size 640x480 with 1 Axes>"
      ]
     },
     "metadata": {},
     "output_type": "display_data"
    }
   ],
   "source": [
    "plt.plot(train_acc)\n",
    "plt.plot(val_acc)\n",
    "plt.title('Perbandingan accuracy dari hasil training')\n",
    "plt.ylabel('acc')\n",
    "plt.xlabel('epoch')\n",
    "plt.legend(['train', 'test'], loc='upper left')\n",
    "plt.show()\n",
    "\n",
    "plt.plot(train_loss)\n",
    "plt.plot(val_loss)\n",
    "plt.title('Perbandingan loss dari hasil training')\n",
    "plt.ylabel('loss')\n",
    "plt.xlabel('epoch')\n",
    "plt.legend(['train', 'test'], loc='upper left')\n",
    "plt.show()"
   ]
  },
  {
   "cell_type": "code",
   "execution_count": null,
   "metadata": {},
   "outputs": [],
   "source": []
  },
  {
   "cell_type": "code",
   "execution_count": null,
   "metadata": {},
   "outputs": [],
   "source": []
  }
 ],
 "metadata": {
  "accelerator": "GPU",
  "colab": {
   "provenance": [
    {
     "file_id": "1fz7RIAb38kwm4ZWqwSpnRWHsUoU3gkAB",
     "timestamp": 1675394958319
    }
   ]
  },
  "gpuClass": "standard",
  "kernelspec": {
   "display_name": "Python 3 (ipykernel)",
   "language": "python",
   "name": "python3"
  },
  "language_info": {
   "codemirror_mode": {
    "name": "ipython",
    "version": 3
   },
   "file_extension": ".py",
   "mimetype": "text/x-python",
   "name": "python",
   "nbconvert_exporter": "python",
   "pygments_lexer": "ipython3",
   "version": "3.9.13"
  }
 },
 "nbformat": 4,
 "nbformat_minor": 1
}
