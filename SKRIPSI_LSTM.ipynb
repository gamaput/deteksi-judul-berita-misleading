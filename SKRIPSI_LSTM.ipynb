{
 "cells": [
  {
   "cell_type": "code",
   "execution_count": 1,
   "metadata": {},
   "outputs": [],
   "source": [
    "# ! pip install Sastrawi"
   ]
  },
  {
   "cell_type": "markdown",
   "metadata": {
    "id": "Zuu7oJ4u9M5w"
   },
   "source": [
    "## Import Libraries"
   ]
  },
  {
   "cell_type": "code",
   "execution_count": 2,
   "metadata": {
    "executionInfo": {
     "elapsed": 6465,
     "status": "ok",
     "timestamp": 1675496219935,
     "user": {
      "displayName": "Gama Putra Adi Susilo",
      "userId": "11761602289089114790"
     },
     "user_tz": -420
    },
    "id": "ZBS1bYoBqJZj"
   },
   "outputs": [],
   "source": [
    "# Load, explore and plot data\n",
    "import numpy as np\n",
    "import pandas as pd\n",
    "import seaborn as sns\n",
    "import matplotlib.pyplot as plt\n",
    "\n",
    "# Train test split\n",
    "from sklearn.model_selection import train_test_split\n",
    "\n",
    "# Text pre-processing\n",
    "import tensorflow as tf\n",
    "from tensorflow.keras.preprocessing.text import Tokenizer\n",
    "from tensorflow.keras.preprocessing.sequence import pad_sequences\n",
    "from tensorflow.keras.callbacks import EarlyStopping\n",
    "\n",
    "# Modeling\n",
    "from tensorflow.keras.models import Sequential\n",
    "from tensorflow.keras.layers import LSTM, Dense, Embedding, Dropout, GlobalAveragePooling1D, Flatten, SpatialDropout1D, Bidirectional\n",
    "\n",
    "# Import library preprocessing data\n",
    "import re\n",
    "import nltk\n",
    "from nltk import punkt\n",
    "from nltk import word_tokenize\n",
    "from nltk.corpus import stopwords\n",
    "from nltk.stem import WordNetLemmatizer\n",
    "from Sastrawi.Stemmer.StemmerFactory import StemmerFactory\n",
    "from Sastrawi.StopWordRemover.StopWordRemoverFactory import StopWordRemoverFactory\n",
    "\n",
    "# Import pickle untuk menyimpan model\n",
    "import pickle\n",
    "\n",
    "import warnings\n",
    "warnings.filterwarnings('ignore')"
   ]
  },
  {
   "cell_type": "markdown",
   "metadata": {
    "id": "I3co-M4p9jpH"
   },
   "source": [
    "## Load Dataset"
   ]
  },
  {
   "cell_type": "code",
   "execution_count": 3,
   "metadata": {
    "colab": {
     "base_uri": "https://localhost:8080/",
     "height": 337
    },
    "executionInfo": {
     "elapsed": 45,
     "status": "ok",
     "timestamp": 1675496223078,
     "user": {
      "displayName": "Gama Putra Adi Susilo",
      "userId": "11761602289089114790"
     },
     "user_tz": -420
    },
    "id": "hRXk87E0m8va",
    "outputId": "ba036cfe-6bd7-4d61-b3b7-7f74ea3ae124"
   },
   "outputs": [
    {
     "data": {
      "text/html": [
       "<div>\n",
       "<style scoped>\n",
       "    .dataframe tbody tr th:only-of-type {\n",
       "        vertical-align: middle;\n",
       "    }\n",
       "\n",
       "    .dataframe tbody tr th {\n",
       "        vertical-align: top;\n",
       "    }\n",
       "\n",
       "    .dataframe thead th {\n",
       "        text-align: right;\n",
       "    }\n",
       "</style>\n",
       "<table border=\"1\" class=\"dataframe\">\n",
       "  <thead>\n",
       "    <tr style=\"text-align: right;\">\n",
       "      <th></th>\n",
       "      <th>content</th>\n",
       "      <th>date</th>\n",
       "      <th>title</th>\n",
       "      <th>label</th>\n",
       "    </tr>\n",
       "  </thead>\n",
       "  <tbody>\n",
       "    <tr>\n",
       "      <th>0</th>\n",
       "      <td>Berita SurabayaSURYA.co.id | SURABAYA - Pengem...</td>\n",
       "      <td>Jumat, 10 Juni 2022 01:08</td>\n",
       "      <td>PT Intiland Development Kembangkan Kawasan Ind...</td>\n",
       "      <td>noclickbait</td>\n",
       "    </tr>\n",
       "    <tr>\n",
       "      <th>1</th>\n",
       "      <td>Berita SurabayaSURYA.co.id | SURABAYA - Brand ...</td>\n",
       "      <td>Jumat, 10 Juni 2022 01:16</td>\n",
       "      <td>ANKER Menangkan Penghargaan Nobel Prize di Aja...</td>\n",
       "      <td>noclickbait</td>\n",
       "    </tr>\n",
       "    <tr>\n",
       "      <th>2</th>\n",
       "      <td>Berita SurabayaSURYA.co.id | SURABAYA - PT Har...</td>\n",
       "      <td>Jumat, 10 Juni 2022 01:27</td>\n",
       "      <td>Perluas Bisnis, Hartadinata Abadi Store Buka G...</td>\n",
       "      <td>noclickbait</td>\n",
       "    </tr>\n",
       "    <tr>\n",
       "      <th>3</th>\n",
       "      <td>Berita SurabayaSURYA.co.id | SURABAYA – Peneri...</td>\n",
       "      <td>Jumat, 10 Juni 2022 01:34</td>\n",
       "      <td>PPDB SMP Dibuka Hari Ini, Dindik Surabaya Mint...</td>\n",
       "      <td>clickbait</td>\n",
       "    </tr>\n",
       "    <tr>\n",
       "      <th>4</th>\n",
       "      <td>SURYA.co.id I Masih ingat Ronaldo Nazario, san...</td>\n",
       "      <td>Jumat, 10 Juni 2022 01:51</td>\n",
       "      <td>Liga Spanyol, Ronaldo Legenda Real Madrid, Jad...</td>\n",
       "      <td>clickbait</td>\n",
       "    </tr>\n",
       "  </tbody>\n",
       "</table>\n",
       "</div>"
      ],
      "text/plain": [
       "                                             content  \\\n",
       "0  Berita SurabayaSURYA.co.id | SURABAYA - Pengem...   \n",
       "1  Berita SurabayaSURYA.co.id | SURABAYA - Brand ...   \n",
       "2  Berita SurabayaSURYA.co.id | SURABAYA - PT Har...   \n",
       "3  Berita SurabayaSURYA.co.id | SURABAYA – Peneri...   \n",
       "4  SURYA.co.id I Masih ingat Ronaldo Nazario, san...   \n",
       "\n",
       "                        date  \\\n",
       "0  Jumat, 10 Juni 2022 01:08   \n",
       "1  Jumat, 10 Juni 2022 01:16   \n",
       "2  Jumat, 10 Juni 2022 01:27   \n",
       "3  Jumat, 10 Juni 2022 01:34   \n",
       "4  Jumat, 10 Juni 2022 01:51   \n",
       "\n",
       "                                               title        label  \n",
       "0  PT Intiland Development Kembangkan Kawasan Ind...  noclickbait  \n",
       "1  ANKER Menangkan Penghargaan Nobel Prize di Aja...  noclickbait  \n",
       "2  Perluas Bisnis, Hartadinata Abadi Store Buka G...  noclickbait  \n",
       "3  PPDB SMP Dibuka Hari Ini, Dindik Surabaya Mint...    clickbait  \n",
       "4  Liga Spanyol, Ronaldo Legenda Real Madrid, Jad...    clickbait  "
      ]
     },
     "execution_count": 3,
     "metadata": {},
     "output_type": "execute_result"
    }
   ],
   "source": [
    "# Read Dataset\n",
    "data = pd.read_csv('dataset.csv')\n",
    "\n",
    "data.head()"
   ]
  },
  {
   "cell_type": "code",
   "execution_count": 4,
   "metadata": {
    "colab": {
     "base_uri": "https://localhost:8080/",
     "height": 236
    },
    "executionInfo": {
     "elapsed": 47,
     "status": "ok",
     "timestamp": 1675496223081,
     "user": {
      "displayName": "Gama Putra Adi Susilo",
      "userId": "11761602289089114790"
     },
     "user_tz": -420
    },
    "id": "LPk68TA3s38k",
    "outputId": "a5ab6398-f1f2-4468-9eac-49454bd84a85",
    "scrolled": false
   },
   "outputs": [
    {
     "data": {
      "text/html": [
       "<div>\n",
       "<style scoped>\n",
       "    .dataframe tbody tr th:only-of-type {\n",
       "        vertical-align: middle;\n",
       "    }\n",
       "\n",
       "    .dataframe tbody tr th {\n",
       "        vertical-align: top;\n",
       "    }\n",
       "\n",
       "    .dataframe thead th {\n",
       "        text-align: right;\n",
       "    }\n",
       "</style>\n",
       "<table border=\"1\" class=\"dataframe\">\n",
       "  <thead>\n",
       "    <tr style=\"text-align: right;\">\n",
       "      <th></th>\n",
       "      <th>content</th>\n",
       "      <th>date</th>\n",
       "      <th>title</th>\n",
       "      <th>label</th>\n",
       "    </tr>\n",
       "  </thead>\n",
       "  <tbody>\n",
       "    <tr>\n",
       "      <th>count</th>\n",
       "      <td>1600</td>\n",
       "      <td>1600</td>\n",
       "      <td>1600</td>\n",
       "      <td>1600</td>\n",
       "    </tr>\n",
       "    <tr>\n",
       "      <th>unique</th>\n",
       "      <td>1596</td>\n",
       "      <td>1532</td>\n",
       "      <td>1595</td>\n",
       "      <td>2</td>\n",
       "    </tr>\n",
       "    <tr>\n",
       "      <th>top</th>\n",
       "      <td>SURYA.CO.ID, LAMONGAN - Kawasan Pantura (Panta...</td>\n",
       "      <td>Kamis, 20 Oktober 2022 09:15</td>\n",
       "      <td>Dideklarasikan Emak-Emak Lamongan di Pinggir K...</td>\n",
       "      <td>noclickbait</td>\n",
       "    </tr>\n",
       "    <tr>\n",
       "      <th>freq</th>\n",
       "      <td>2</td>\n",
       "      <td>3</td>\n",
       "      <td>2</td>\n",
       "      <td>800</td>\n",
       "    </tr>\n",
       "  </tbody>\n",
       "</table>\n",
       "</div>"
      ],
      "text/plain": [
       "                                                  content  \\\n",
       "count                                                1600   \n",
       "unique                                               1596   \n",
       "top     SURYA.CO.ID, LAMONGAN - Kawasan Pantura (Panta...   \n",
       "freq                                                    2   \n",
       "\n",
       "                                date  \\\n",
       "count                           1600   \n",
       "unique                          1532   \n",
       "top     Kamis, 20 Oktober 2022 09:15   \n",
       "freq                               3   \n",
       "\n",
       "                                                    title        label  \n",
       "count                                                1600         1600  \n",
       "unique                                               1595            2  \n",
       "top     Dideklarasikan Emak-Emak Lamongan di Pinggir K...  noclickbait  \n",
       "freq                                                    2          800  "
      ]
     },
     "execution_count": 4,
     "metadata": {},
     "output_type": "execute_result"
    }
   ],
   "source": [
    "data.describe(include='all')"
   ]
  },
  {
   "cell_type": "code",
   "execution_count": 5,
   "metadata": {
    "colab": {
     "base_uri": "https://localhost:8080/",
     "height": 337
    },
    "executionInfo": {
     "elapsed": 48,
     "status": "ok",
     "timestamp": 1675496223084,
     "user": {
      "displayName": "Gama Putra Adi Susilo",
      "userId": "11761602289089114790"
     },
     "user_tz": -420
    },
    "id": "Y5GSGqZwA6P_",
    "outputId": "b860b073-5a95-4cdc-8f4a-ab0aec08f38b"
   },
   "outputs": [
    {
     "data": {
      "text/html": [
       "<div>\n",
       "<style scoped>\n",
       "    .dataframe tbody tr th:only-of-type {\n",
       "        vertical-align: middle;\n",
       "    }\n",
       "\n",
       "    .dataframe tbody tr th {\n",
       "        vertical-align: top;\n",
       "    }\n",
       "\n",
       "    .dataframe thead th {\n",
       "        text-align: right;\n",
       "    }\n",
       "</style>\n",
       "<table border=\"1\" class=\"dataframe\">\n",
       "  <thead>\n",
       "    <tr style=\"text-align: right;\">\n",
       "      <th></th>\n",
       "      <th>content</th>\n",
       "      <th>date</th>\n",
       "      <th>title</th>\n",
       "      <th>label</th>\n",
       "      <th>binary_label</th>\n",
       "    </tr>\n",
       "  </thead>\n",
       "  <tbody>\n",
       "    <tr>\n",
       "      <th>0</th>\n",
       "      <td>Berita SurabayaSURYA.co.id | SURABAYA - Pengem...</td>\n",
       "      <td>Jumat, 10 Juni 2022 01:08</td>\n",
       "      <td>PT Intiland Development Kembangkan Kawasan Ind...</td>\n",
       "      <td>noclickbait</td>\n",
       "      <td>0</td>\n",
       "    </tr>\n",
       "    <tr>\n",
       "      <th>1</th>\n",
       "      <td>Berita SurabayaSURYA.co.id | SURABAYA - Brand ...</td>\n",
       "      <td>Jumat, 10 Juni 2022 01:16</td>\n",
       "      <td>ANKER Menangkan Penghargaan Nobel Prize di Aja...</td>\n",
       "      <td>noclickbait</td>\n",
       "      <td>0</td>\n",
       "    </tr>\n",
       "    <tr>\n",
       "      <th>2</th>\n",
       "      <td>Berita SurabayaSURYA.co.id | SURABAYA - PT Har...</td>\n",
       "      <td>Jumat, 10 Juni 2022 01:27</td>\n",
       "      <td>Perluas Bisnis, Hartadinata Abadi Store Buka G...</td>\n",
       "      <td>noclickbait</td>\n",
       "      <td>0</td>\n",
       "    </tr>\n",
       "    <tr>\n",
       "      <th>3</th>\n",
       "      <td>Berita SurabayaSURYA.co.id | SURABAYA – Peneri...</td>\n",
       "      <td>Jumat, 10 Juni 2022 01:34</td>\n",
       "      <td>PPDB SMP Dibuka Hari Ini, Dindik Surabaya Mint...</td>\n",
       "      <td>clickbait</td>\n",
       "      <td>1</td>\n",
       "    </tr>\n",
       "    <tr>\n",
       "      <th>4</th>\n",
       "      <td>SURYA.co.id I Masih ingat Ronaldo Nazario, san...</td>\n",
       "      <td>Jumat, 10 Juni 2022 01:51</td>\n",
       "      <td>Liga Spanyol, Ronaldo Legenda Real Madrid, Jad...</td>\n",
       "      <td>clickbait</td>\n",
       "      <td>1</td>\n",
       "    </tr>\n",
       "  </tbody>\n",
       "</table>\n",
       "</div>"
      ],
      "text/plain": [
       "                                             content  \\\n",
       "0  Berita SurabayaSURYA.co.id | SURABAYA - Pengem...   \n",
       "1  Berita SurabayaSURYA.co.id | SURABAYA - Brand ...   \n",
       "2  Berita SurabayaSURYA.co.id | SURABAYA - PT Har...   \n",
       "3  Berita SurabayaSURYA.co.id | SURABAYA – Peneri...   \n",
       "4  SURYA.co.id I Masih ingat Ronaldo Nazario, san...   \n",
       "\n",
       "                        date  \\\n",
       "0  Jumat, 10 Juni 2022 01:08   \n",
       "1  Jumat, 10 Juni 2022 01:16   \n",
       "2  Jumat, 10 Juni 2022 01:27   \n",
       "3  Jumat, 10 Juni 2022 01:34   \n",
       "4  Jumat, 10 Juni 2022 01:51   \n",
       "\n",
       "                                               title        label  \\\n",
       "0  PT Intiland Development Kembangkan Kawasan Ind...  noclickbait   \n",
       "1  ANKER Menangkan Penghargaan Nobel Prize di Aja...  noclickbait   \n",
       "2  Perluas Bisnis, Hartadinata Abadi Store Buka G...  noclickbait   \n",
       "3  PPDB SMP Dibuka Hari Ini, Dindik Surabaya Mint...    clickbait   \n",
       "4  Liga Spanyol, Ronaldo Legenda Real Madrid, Jad...    clickbait   \n",
       "\n",
       "   binary_label  \n",
       "0             0  \n",
       "1             0  \n",
       "2             0  \n",
       "3             1  \n",
       "4             1  "
      ]
     },
     "execution_count": 5,
     "metadata": {},
     "output_type": "execute_result"
    }
   ],
   "source": [
    "# menambahkan column baru yang berisi biner (0/1) = (noclickbait/clickbait)\n",
    "data['binary_label'] = pd.get_dummies(data.label)['clickbait']\n",
    "data.head()"
   ]
  },
  {
   "cell_type": "code",
   "execution_count": 6,
   "metadata": {
    "colab": {
     "base_uri": "https://localhost:8080/"
    },
    "executionInfo": {
     "elapsed": 48,
     "status": "ok",
     "timestamp": 1675496223085,
     "user": {
      "displayName": "Gama Putra Adi Susilo",
      "userId": "11761602289089114790"
     },
     "user_tz": -420
    },
    "id": "W_h2dF4oBiel",
    "outputId": "2706f48f-67cb-456b-9a60-7b3f3b2b2c37"
   },
   "outputs": [
    {
     "data": {
      "text/plain": [
       "0    800\n",
       "1    800\n",
       "Name: binary_label, dtype: int64"
      ]
     },
     "execution_count": 6,
     "metadata": {},
     "output_type": "execute_result"
    }
   ],
   "source": [
    "data['binary_label'].value_counts()"
   ]
  },
  {
   "cell_type": "code",
   "execution_count": 7,
   "metadata": {
    "colab": {
     "base_uri": "https://localhost:8080/",
     "height": 352
    },
    "executionInfo": {
     "elapsed": 47,
     "status": "ok",
     "timestamp": 1675496223088,
     "user": {
      "displayName": "Gama Putra Adi Susilo",
      "userId": "11761602289089114790"
     },
     "user_tz": -420
    },
    "id": "WYoVJANoXXZg",
    "outputId": "35b5b391-8eb5-43a9-8d13-635b6f92ec3a",
    "scrolled": true
   },
   "outputs": [
    {
     "data": {
      "text/plain": [
       "([<matplotlib.patches.Wedge at 0x23c11385c10>,\n",
       "  <matplotlib.patches.Wedge at 0x23c113a05e0>],\n",
       " [Text(-1.2000000000000002, 1.469576158976824e-16, 'clickbait'),\n",
       "  Text(1.2000000000000002, -2.939152317953648e-16, 'noclickbait')],\n",
       " [Text(-0.7, 8.572527594031472e-17, '50.0%'),\n",
       "  Text(0.7, -1.7145055188062944e-16, '50.0%')])"
      ]
     },
     "execution_count": 7,
     "metadata": {},
     "output_type": "execute_result"
    },
    {
     "data": {
      "image/png": "[encoded data removed]",
      "text/plain": [
       "<Figure size 640x480 with 1 Axes>"
      ]
     },
     "metadata": {},
     "output_type": "display_data"
    }
   ],
   "source": [
    "# Cek label data\n",
    "label_size = [data['binary_label'].sum(),len(data['binary_label'])-data['binary_label'].sum()]\n",
    "plt.pie(label_size,explode=[0.1,0.1],colors=['firebrick','navy'],startangle=90,shadow=True,labels=['clickbait','noclickbait'],autopct='%1.1f%%')"
   ]
  },
  {
   "cell_type": "markdown",
   "metadata": {},
   "source": [
    "## Preprocessing data"
   ]
  },
  {
   "cell_type": "code",
   "execution_count": 8,
   "metadata": {},
   "outputs": [],
   "source": [
    "# menggabungan teks judul dan isi berita\n",
    "data['Combined'] = data['title'] + ' ' + data['content']"
   ]
  },
  {
   "cell_type": "code",
   "execution_count": 9,
   "metadata": {},
   "outputs": [
    {
     "name": "stdout",
     "output_type": "stream",
     "text": [
      "Anggota KKB Papua Ceroboh, Perannya Sebagai Pemasok Amunisi Terbongkar Gara-gara Bacok Warga Sipil \n",
      "\n",
      "SURYA.co.id - Gara-gara kecerobohannya sendiri, seorang anggota KKB Papua berhasil ditangkap aparat TNI -Polri.Tak hanya itu, perannya sebagai pemasok amunisi untuk KKB Papua juga ikut terbongkar.Penyebab awalnya adalah ia nekat membacok warga sipil di Intan Jaya pada April 2021 lalu.Polisi langsung menangkapnya dan akhirnya terbongkar perannya sebagai anggota KKB Papua yang bertugas memasok amunisi.Melansir dari laman tribratanews.polri.go.id, berdasarkan Informasi adanya keberadaan Tersangka Pembacokan Warga Intan Jaya pada April 2021 di Pertigaan Pasar Yokatapang, Tim Aparat Gabungan Ops Damai Cartenz 2020 melakukan pegecekan dan penyelidikan. Dari hasil pengecekan, tersangka terlihat di Kali Wabu, Rabu (08/06/2022).Selanjutnya, tim bergerak dan berhasil mengamankan tersangka yang diketahui berinisial FS.Dari hasil pemeriksaan sementara, tersangka FS ini juga merupakan anggota KKB Papua Aktif.Hal ini dibenarkan oleh Kabid Humas Polda Papua Kombes Pol A. Mustofa Kamal, SH saat dikonfirmasi. Pihaknya menyebutkan penangkanapan FS berawal dari penyeledikan kasus pembacokan Asep Saputra pada April 2021 lalu.“Setelah mendapat informasi, kita berhasil mengamankan tersangka dan selanjutnya kita lakukan pengembangan,” ujarnya.Dari Hasil pengembangan, Lanjut Kasatgas bahwa Tersangka FS ini diketahui merupakan jaringan pengadaan amunisi untuk KKB Papua.Hal ini terbukti saat mengamankan tersangka petugas menemukan 10 butir amunisi Cal 5,56 MM.“Selain terkait kasus pembacokan, tersangka FS juga jaringan Pengadaan Amunisi untuk KKB Papua.Selanjutnya kita akan lakukan pengembangan dan kita informasikan kembali,”pungkas Kabid Humas Polda Papua.Terungkap sosok Praka AKG \n",
      "\n",
      "Anggota KKB Papua Ceroboh, Perannya Sebagai Pemasok Amunisi Terbongkar Gara-gara Bacok Warga Sipil SURYA.co.id - Gara-gara kecerobohannya sendiri, seorang anggota KKB Papua berhasil ditangkap aparat TNI -Polri.Tak hanya itu, perannya sebagai pemasok amunisi untuk KKB Papua juga ikut terbongkar.Penyebab awalnya adalah ia nekat membacok warga sipil di Intan Jaya pada April 2021 lalu.Polisi langsung menangkapnya dan akhirnya terbongkar perannya sebagai anggota KKB Papua yang bertugas memasok amunisi.Melansir dari laman tribratanews.polri.go.id, berdasarkan Informasi adanya keberadaan Tersangka Pembacokan Warga Intan Jaya pada April 2021 di Pertigaan Pasar Yokatapang, Tim Aparat Gabungan Ops Damai Cartenz 2020 melakukan pegecekan dan penyelidikan. Dari hasil pengecekan, tersangka terlihat di Kali Wabu, Rabu (08/06/2022).Selanjutnya, tim bergerak dan berhasil mengamankan tersangka yang diketahui berinisial FS.Dari hasil pemeriksaan sementara, tersangka FS ini juga merupakan anggota KKB Papua Aktif.Hal ini dibenarkan oleh Kabid Humas Polda Papua Kombes Pol A. Mustofa Kamal, SH saat dikonfirmasi. Pihaknya menyebutkan penangkanapan FS berawal dari penyeledikan kasus pembacokan Asep Saputra pada April 2021 lalu.“Setelah mendapat informasi, kita berhasil mengamankan tersangka dan selanjutnya kita lakukan pengembangan,” ujarnya.Dari Hasil pengembangan, Lanjut Kasatgas bahwa Tersangka FS ini diketahui merupakan jaringan pengadaan amunisi untuk KKB Papua.Hal ini terbukti saat mengamankan tersangka petugas menemukan 10 butir amunisi Cal 5,56 MM.“Selain terkait kasus pembacokan, tersangka FS juga jaringan Pengadaan Amunisi untuk KKB Papua.Selanjutnya kita akan lakukan pengembangan dan kita informasikan kembali,”pungkas Kabid Humas Polda Papua.Terungkap sosok Praka AKG \n",
      "\n"
     ]
    }
   ],
   "source": [
    "# contoh data yang sudah di combine\n",
    "for i in data.loc[8][['title', 'content','Combined']]:\n",
    "    print(i,'\\n')"
   ]
  },
  {
   "cell_type": "code",
   "execution_count": 10,
   "metadata": {},
   "outputs": [],
   "source": [
    "# membersihkan data\n",
    "def cleaning(text):\n",
    "    #remove url\n",
    "    text = re.sub(r\"http\\S+\", \"\", str(text))\n",
    "    #remove hex characters\n",
    "    text = re.sub(r'(\\\\x(.){2})', '', text)\n",
    "    #menghapus spasi awal teks\n",
    "    text = text.lstrip()\n",
    "    #remove newlines\n",
    "    text = re.sub(r'\\s+|\\\\n', ' ', text)\n",
    "    #remove hashtags\n",
    "    text = re.sub(r'\\B#\\w*[a-zA-Z]+\\w*','', text)\n",
    "    #remove single char\n",
    "    text = re.sub(r'\\b[a-zA-Z]\\b','', text)\n",
    "    #remove number\n",
    "    text = re.sub(r'\\d+','', text)\n",
    "    #remove punctuation / tanda baca\n",
    "    text = re.sub(r'[^\\w\\s]+', ' ', text)\n",
    "    #remove spasi dari awal teks\n",
    "    text = re.sub(r\"/^\\\\s+/m\", '', text)\n",
    "    #remove character yang memilliki kurang dari 4 huruf\n",
    "    text = re.sub(r'\\b\\w{1,3}\\b', '', text)\n",
    "    #remove spasi berlebih\n",
    "    text = re.sub(r'\\s+', ' ', text)\n",
    "    #remove non-ascii character\n",
    "    text = re.sub('[^\\x00-\\x7F]+', '', text)\n",
    "    return text\n",
    "\n",
    "data['text'] = data['Combined'].apply(cleaning)"
   ]
  },
  {
   "cell_type": "code",
   "execution_count": 11,
   "metadata": {
    "scrolled": true
   },
   "outputs": [
    {
     "name": "stdout",
     "output_type": "stream",
     "text": [
      "Anggota KKB Papua Ceroboh, Perannya Sebagai Pemasok Amunisi Terbongkar Gara-gara Bacok Warga Sipil SURYA.co.id - Gara-gara kecerobohannya sendiri, seorang anggota KKB Papua berhasil ditangkap aparat TNI -Polri.Tak hanya itu, perannya sebagai pemasok amunisi untuk KKB Papua juga ikut terbongkar.Penyebab awalnya adalah ia nekat membacok warga sipil di Intan Jaya pada April 2021 lalu.Polisi langsung menangkapnya dan akhirnya terbongkar perannya sebagai anggota KKB Papua yang bertugas memasok amunisi.Melansir dari laman tribratanews.polri.go.id, berdasarkan Informasi adanya keberadaan Tersangka Pembacokan Warga Intan Jaya pada April 2021 di Pertigaan Pasar Yokatapang, Tim Aparat Gabungan Ops Damai Cartenz 2020 melakukan pegecekan dan penyelidikan. Dari hasil pengecekan, tersangka terlihat di Kali Wabu, Rabu (08/06/2022).Selanjutnya, tim bergerak dan berhasil mengamankan tersangka yang diketahui berinisial FS.Dari hasil pemeriksaan sementara, tersangka FS ini juga merupakan anggota KKB Papua Aktif.Hal ini dibenarkan oleh Kabid Humas Polda Papua Kombes Pol A. Mustofa Kamal, SH saat dikonfirmasi. Pihaknya menyebutkan penangkanapan FS berawal dari penyeledikan kasus pembacokan Asep Saputra pada April 2021 lalu.“Setelah mendapat informasi, kita berhasil mengamankan tersangka dan selanjutnya kita lakukan pengembangan,” ujarnya.Dari Hasil pengembangan, Lanjut Kasatgas bahwa Tersangka FS ini diketahui merupakan jaringan pengadaan amunisi untuk KKB Papua.Hal ini terbukti saat mengamankan tersangka petugas menemukan 10 butir amunisi Cal 5,56 MM.“Selain terkait kasus pembacokan, tersangka FS juga jaringan Pengadaan Amunisi untuk KKB Papua.Selanjutnya kita akan lakukan pengembangan dan kita informasikan kembali,”pungkas Kabid Humas Polda Papua.Terungkap sosok Praka AKG \n",
      "\n",
      "Anggota Papua Ceroboh Perannya Sebagai Pemasok Amunisi Terbongkar Gara gara Bacok Warga Sipil SURYA Gara gara kecerobohannya sendiri seorang anggota Papua berhasil ditangkap aparat Polri hanya perannya sebagai pemasok amunisi untuk Papua juga ikut terbongkar Penyebab awalnya adalah nekat membacok warga sipil Intan Jaya pada April lalu Polisi langsung menangkapnya akhirnya terbongkar perannya sebagai anggota Papua yang bertugas memasok amunisi Melansir dari laman tribratanews polri berdasarkan Informasi adanya keberadaan Tersangka Pembacokan Warga Intan Jaya pada April Pertigaan Pasar Yokatapang Aparat Gabungan Damai Cartenz melakukan pegecekan penyelidikan Dari hasil pengecekan tersangka terlihat Kali Wabu Rabu Selanjutnya bergerak berhasil mengamankan tersangka yang diketahui berinisial Dari hasil pemeriksaan sementara tersangka juga merupakan anggota Papua Aktif dibenarkan oleh Kabid Humas Polda Papua Kombes Mustofa Kamal saat dikonfirmasi Pihaknya menyebutkan penangkanapan berawal dari penyeledikan kasus pembacokan Asep Saputra pada April lalu Setelah mendapat informasi kita berhasil mengamankan tersangka selanjutnya kita lakukan pengembangan ujarnya Dari Hasil pengembangan Lanjut Kasatgas bahwa Tersangka diketahui merupakan jaringan pengadaan amunisi untuk Papua terbukti saat mengamankan tersangka petugas menemukan butir amunisi Selain terkait kasus pembacokan tersangka juga jaringan Pengadaan Amunisi untuk Papua Selanjutnya kita akan lakukan pengembangan kita informasikan kembali pungkas Kabid Humas Polda Papua Terungkap sosok Praka  \n",
      "\n"
     ]
    }
   ],
   "source": [
    "# contoh data yang sudah dibersihkan\n",
    "for i in data.loc[8][['Combined','text']]:\n",
    "    print(i,'\\n')"
   ]
  },
  {
   "cell_type": "markdown",
   "metadata": {},
   "source": [
    "## Case folding"
   ]
  },
  {
   "cell_type": "code",
   "execution_count": 12,
   "metadata": {},
   "outputs": [],
   "source": [
    "# mengubah huruf kapital menjadi huruf kecil\n",
    "data['text_case'] = data['text'].str.lower()"
   ]
  },
  {
   "cell_type": "code",
   "execution_count": 13,
   "metadata": {},
   "outputs": [
    {
     "name": "stdout",
     "output_type": "stream",
     "text": [
      "Anggota Papua Ceroboh Perannya Sebagai Pemasok Amunisi Terbongkar Gara gara Bacok Warga Sipil SURYA Gara gara kecerobohannya sendiri seorang anggota Papua berhasil ditangkap aparat Polri hanya perannya sebagai pemasok amunisi untuk Papua juga ikut terbongkar Penyebab awalnya adalah nekat membacok warga sipil Intan Jaya pada April lalu Polisi langsung menangkapnya akhirnya terbongkar perannya sebagai anggota Papua yang bertugas memasok amunisi Melansir dari laman tribratanews polri berdasarkan Informasi adanya keberadaan Tersangka Pembacokan Warga Intan Jaya pada April Pertigaan Pasar Yokatapang Aparat Gabungan Damai Cartenz melakukan pegecekan penyelidikan Dari hasil pengecekan tersangka terlihat Kali Wabu Rabu Selanjutnya bergerak berhasil mengamankan tersangka yang diketahui berinisial Dari hasil pemeriksaan sementara tersangka juga merupakan anggota Papua Aktif dibenarkan oleh Kabid Humas Polda Papua Kombes Mustofa Kamal saat dikonfirmasi Pihaknya menyebutkan penangkanapan berawal dari penyeledikan kasus pembacokan Asep Saputra pada April lalu Setelah mendapat informasi kita berhasil mengamankan tersangka selanjutnya kita lakukan pengembangan ujarnya Dari Hasil pengembangan Lanjut Kasatgas bahwa Tersangka diketahui merupakan jaringan pengadaan amunisi untuk Papua terbukti saat mengamankan tersangka petugas menemukan butir amunisi Selain terkait kasus pembacokan tersangka juga jaringan Pengadaan Amunisi untuk Papua Selanjutnya kita akan lakukan pengembangan kita informasikan kembali pungkas Kabid Humas Polda Papua Terungkap sosok Praka  \n",
      "\n",
      "anggota papua ceroboh perannya sebagai pemasok amunisi terbongkar gara gara bacok warga sipil surya gara gara kecerobohannya sendiri seorang anggota papua berhasil ditangkap aparat polri hanya perannya sebagai pemasok amunisi untuk papua juga ikut terbongkar penyebab awalnya adalah nekat membacok warga sipil intan jaya pada april lalu polisi langsung menangkapnya akhirnya terbongkar perannya sebagai anggota papua yang bertugas memasok amunisi melansir dari laman tribratanews polri berdasarkan informasi adanya keberadaan tersangka pembacokan warga intan jaya pada april pertigaan pasar yokatapang aparat gabungan damai cartenz melakukan pegecekan penyelidikan dari hasil pengecekan tersangka terlihat kali wabu rabu selanjutnya bergerak berhasil mengamankan tersangka yang diketahui berinisial dari hasil pemeriksaan sementara tersangka juga merupakan anggota papua aktif dibenarkan oleh kabid humas polda papua kombes mustofa kamal saat dikonfirmasi pihaknya menyebutkan penangkanapan berawal dari penyeledikan kasus pembacokan asep saputra pada april lalu setelah mendapat informasi kita berhasil mengamankan tersangka selanjutnya kita lakukan pengembangan ujarnya dari hasil pengembangan lanjut kasatgas bahwa tersangka diketahui merupakan jaringan pengadaan amunisi untuk papua terbukti saat mengamankan tersangka petugas menemukan butir amunisi selain terkait kasus pembacokan tersangka juga jaringan pengadaan amunisi untuk papua selanjutnya kita akan lakukan pengembangan kita informasikan kembali pungkas kabid humas polda papua terungkap sosok praka  \n",
      "\n"
     ]
    }
   ],
   "source": [
    "# contoh data yang sudah di casefolding\n",
    "for i in data.loc[8][['text','text_case']]:\n",
    "    print(i,'\\n')"
   ]
  },
  {
   "cell_type": "code",
   "execution_count": 14,
   "metadata": {},
   "outputs": [],
   "source": [
    "def token(text):\n",
    "    nstr = text.split(' ')\n",
    "    dat= []\n",
    "    a = -1\n",
    "    for hu in nstr:\n",
    "        a = a + 1\n",
    "        if hu == '':\n",
    "            dat.append(a)\n",
    "        p = 0\n",
    "        b = 0\n",
    "        for q in dat:\n",
    "            b = q - p\n",
    "            del nstr[b]\n",
    "            p = p + 1\n",
    "    return nstr"
   ]
  },
  {
   "cell_type": "code",
   "execution_count": 15,
   "metadata": {},
   "outputs": [],
   "source": [
    "# memisahkan kalimat menjadi potongan kata\n",
    "data['text_tok'] = data['text_case'].apply(token)"
   ]
  },
  {
   "cell_type": "code",
   "execution_count": 16,
   "metadata": {
    "scrolled": true
   },
   "outputs": [
    {
     "name": "stdout",
     "output_type": "stream",
     "text": [
      "anggota papua ceroboh perannya sebagai pemasok amunisi terbongkar gara gara bacok warga sipil surya gara gara kecerobohannya sendiri seorang anggota papua berhasil ditangkap aparat polri hanya perannya sebagai pemasok amunisi untuk papua juga ikut terbongkar penyebab awalnya adalah nekat membacok warga sipil intan jaya pada april lalu polisi langsung menangkapnya akhirnya terbongkar perannya sebagai anggota papua yang bertugas memasok amunisi melansir dari laman tribratanews polri berdasarkan informasi adanya keberadaan tersangka pembacokan warga intan jaya pada april pertigaan pasar yokatapang aparat gabungan damai cartenz melakukan pegecekan penyelidikan dari hasil pengecekan tersangka terlihat kali wabu rabu selanjutnya bergerak berhasil mengamankan tersangka yang diketahui berinisial dari hasil pemeriksaan sementara tersangka juga merupakan anggota papua aktif dibenarkan oleh kabid humas polda papua kombes mustofa kamal saat dikonfirmasi pihaknya menyebutkan penangkanapan berawal dari penyeledikan kasus pembacokan asep saputra pada april lalu setelah mendapat informasi kita berhasil mengamankan tersangka selanjutnya kita lakukan pengembangan ujarnya dari hasil pengembangan lanjut kasatgas bahwa tersangka diketahui merupakan jaringan pengadaan amunisi untuk papua terbukti saat mengamankan tersangka petugas menemukan butir amunisi selain terkait kasus pembacokan tersangka juga jaringan pengadaan amunisi untuk papua selanjutnya kita akan lakukan pengembangan kita informasikan kembali pungkas kabid humas polda papua terungkap sosok praka  \n",
      "\n",
      "['anggota', 'papua', 'ceroboh', 'perannya', 'sebagai', 'pemasok', 'amunisi', 'terbongkar', 'gara', 'gara', 'bacok', 'warga', 'sipil', 'surya', 'gara', 'gara', 'kecerobohannya', 'sendiri', 'seorang', 'anggota', 'papua', 'berhasil', 'ditangkap', 'aparat', 'polri', 'hanya', 'perannya', 'sebagai', 'pemasok', 'amunisi', 'untuk', 'papua', 'juga', 'ikut', 'terbongkar', 'penyebab', 'awalnya', 'adalah', 'nekat', 'membacok', 'warga', 'sipil', 'intan', 'jaya', 'pada', 'april', 'lalu', 'polisi', 'langsung', 'menangkapnya', 'akhirnya', 'terbongkar', 'perannya', 'sebagai', 'anggota', 'papua', 'yang', 'bertugas', 'memasok', 'amunisi', 'melansir', 'dari', 'laman', 'tribratanews', 'polri', 'berdasarkan', 'informasi', 'adanya', 'keberadaan', 'tersangka', 'pembacokan', 'warga', 'intan', 'jaya', 'pada', 'april', 'pertigaan', 'pasar', 'yokatapang', 'aparat', 'gabungan', 'damai', 'cartenz', 'melakukan', 'pegecekan', 'penyelidikan', 'dari', 'hasil', 'pengecekan', 'tersangka', 'terlihat', 'kali', 'wabu', 'rabu', 'selanjutnya', 'bergerak', 'berhasil', 'mengamankan', 'tersangka', 'yang', 'diketahui', 'berinisial', 'dari', 'hasil', 'pemeriksaan', 'sementara', 'tersangka', 'juga', 'merupakan', 'anggota', 'papua', 'aktif', 'dibenarkan', 'oleh', 'kabid', 'humas', 'polda', 'papua', 'kombes', 'mustofa', 'kamal', 'saat', 'dikonfirmasi', 'pihaknya', 'menyebutkan', 'penangkanapan', 'berawal', 'dari', 'penyeledikan', 'kasus', 'pembacokan', 'asep', 'saputra', 'pada', 'april', 'lalu', 'setelah', 'mendapat', 'informasi', 'kita', 'berhasil', 'mengamankan', 'tersangka', 'selanjutnya', 'kita', 'lakukan', 'pengembangan', 'ujarnya', 'dari', 'hasil', 'pengembangan', 'lanjut', 'kasatgas', 'bahwa', 'tersangka', 'diketahui', 'merupakan', 'jaringan', 'pengadaan', 'amunisi', 'untuk', 'papua', 'terbukti', 'saat', 'mengamankan', 'tersangka', 'petugas', 'menemukan', 'butir', 'amunisi', 'selain', 'terkait', 'kasus', 'pembacokan', 'tersangka', 'juga', 'jaringan', 'pengadaan', 'amunisi', 'untuk', 'papua', 'selanjutnya', 'kita', 'akan', 'lakukan', 'pengembangan', 'kita', 'informasikan', 'kembali', 'pungkas', 'kabid', 'humas', 'polda', 'papua', 'terungkap', 'sosok', 'praka'] \n",
      "\n"
     ]
    }
   ],
   "source": [
    "for i in data.loc[8][['text_case','text_tok']]:\n",
    "    print(i,'\\n')"
   ]
  },
  {
   "cell_type": "markdown",
   "metadata": {},
   "source": [
    "## Normalisasi"
   ]
  },
  {
   "cell_type": "code",
   "execution_count": 17,
   "metadata": {},
   "outputs": [
    {
     "name": "stdout",
     "output_type": "stream",
     "text": [
      "<class 'dict'>\n"
     ]
    },
    {
     "data": {
      "text/plain": [
       "{'@': 'di',\n",
       " 'abis': 'habis',\n",
       " 'ad': 'ada',\n",
       " 'adlh': 'adalah',\n",
       " 'afaik': 'as far as i know',\n",
       " 'ahaha': 'haha',\n",
       " 'aj': 'saja',\n",
       " 'ajep-ajep': 'dunia gemerlap',\n",
       " 'ak': 'saya',\n",
       " 'akika': 'aku',\n",
       " 'akkoh': 'aku',\n",
       " 'akuwh': 'aku',\n",
       " 'alay': 'norak',\n",
       " 'alow': 'halo',\n",
       " 'ambilin': 'ambilkan',\n",
       " 'ancur': 'hancur',\n",
       " 'anjrit': 'anjing',\n",
       " 'anter': 'antar',\n",
       " 'ap2': 'apa-apa',\n",
       " 'apasih': 'apa sih',\n",
       " 'apes': 'sial',\n",
       " 'aps': 'apa',\n",
       " 'aq': 'saya',\n",
       " 'aquwh': 'aku',\n",
       " 'asbun': 'asal bunyi',\n",
       " 'aseekk': 'asyik',\n",
       " 'asekk': 'asyik',\n",
       " 'asem': 'asam',\n",
       " 'aspal': 'asli tetapi palsu',\n",
       " 'astul': 'asal tulis',\n",
       " 'ato': 'atau',\n",
       " 'au ah': 'tidak mau tahu',\n",
       " 'awak': 'saya',\n",
       " 'ay': 'sayang',\n",
       " 'ayank': 'sayang',\n",
       " 'b4': 'sebelum',\n",
       " 'bakalan': 'akan',\n",
       " 'bandes': 'bantuan desa',\n",
       " 'bangedh': 'banget',\n",
       " 'banpol': 'bantuan polisi',\n",
       " 'banpur': 'bantuan tempur',\n",
       " 'basbang': 'basi',\n",
       " 'bcanda': 'bercanda',\n",
       " 'bdg': 'bandung',\n",
       " 'begajulan': 'nakal',\n",
       " 'beliin': 'belikan',\n",
       " 'bencong': 'banci',\n",
       " 'bentar': 'sebentar',\n",
       " 'ber3': 'bertiga',\n",
       " 'beresin': 'membereskan',\n",
       " 'bete': 'bosan',\n",
       " 'beud': 'banget',\n",
       " 'bg': 'abang',\n",
       " 'bgmn': 'bagaimana',\n",
       " 'bgt': 'banget',\n",
       " 'bijimane': 'bagaimana',\n",
       " 'bintal': 'bimbingan mental',\n",
       " 'bkl': 'akan',\n",
       " 'bknnya': 'bukannya',\n",
       " 'blegug': 'bodoh',\n",
       " 'blh': 'boleh',\n",
       " 'bln': 'bulan',\n",
       " 'blum': 'belum',\n",
       " 'bnci': 'benci',\n",
       " 'bnran': 'yang benar',\n",
       " 'bodor': 'lucu',\n",
       " 'bokap': 'ayah',\n",
       " 'boker': 'buang air besar',\n",
       " 'bokis': 'bohong',\n",
       " 'boljug': 'boleh juga',\n",
       " 'bonek': 'bocah nekat',\n",
       " 'boyeh': 'boleh',\n",
       " 'br': 'baru',\n",
       " 'brg': 'bareng',\n",
       " 'bro': 'saudara laki-laki',\n",
       " 'bru': 'baru',\n",
       " 'bs': 'bisa',\n",
       " 'bsen': 'bosan',\n",
       " 'bt': 'buat',\n",
       " 'btw': 'ngomong-ngomong',\n",
       " 'buaya': 'tidak setia',\n",
       " 'bubbu': 'tidur',\n",
       " 'bubu': 'tidur',\n",
       " 'bumil': 'ibu hamil',\n",
       " 'bw': 'bawa',\n",
       " 'bwt': 'buat',\n",
       " 'byk': 'banyak',\n",
       " 'byrin': 'bayarkan',\n",
       " 'cabal': 'sabar',\n",
       " 'cadas': 'keren',\n",
       " 'calo': 'makelar',\n",
       " 'can': 'belum',\n",
       " 'capcus': 'pergi',\n",
       " 'caper': 'cari perhatian',\n",
       " 'ce': 'cewek',\n",
       " 'cekal': 'cegah tangkal',\n",
       " 'cemen': 'penakut',\n",
       " 'cengengesan': 'tertawa',\n",
       " 'cepet': 'cepat',\n",
       " 'cew': 'cewek',\n",
       " 'chuyunk': 'sayang',\n",
       " 'cimeng': 'ganja',\n",
       " 'cipika cipiki': 'cium pipi kanan cium pipi kiri',\n",
       " 'ciyh': 'sih',\n",
       " 'ckepp': 'cakep',\n",
       " 'ckp': 'cakep',\n",
       " 'cmiiw': \"correct me if i'm wrong\",\n",
       " 'cmpur': 'campur',\n",
       " 'cong': 'banci',\n",
       " 'conlok': 'cinta lokasi',\n",
       " 'cowwyy': 'maaf',\n",
       " 'cp': 'siapa',\n",
       " 'cpe': 'capek',\n",
       " 'cppe': 'capek',\n",
       " 'cucok': 'cocok',\n",
       " 'cuex': 'cuek',\n",
       " 'cumi': 'Cuma miscall',\n",
       " 'cups': 'culun',\n",
       " 'curanmor': 'pencurian kendaraan bermotor',\n",
       " 'curcol': 'curahan hati colongan',\n",
       " 'cwek': 'cewek',\n",
       " 'cyin': 'cinta',\n",
       " 'd': 'di',\n",
       " 'dah': 'deh',\n",
       " 'dapet': 'dapat',\n",
       " 'de': 'adik',\n",
       " 'dek': 'adik',\n",
       " 'demen': 'suka',\n",
       " 'deyh': 'deh',\n",
       " 'dgn': 'dengan',\n",
       " 'diancurin': 'dihancurkan',\n",
       " 'dimaafin': 'dimaafkan',\n",
       " 'dimintak': 'diminta',\n",
       " 'disono': 'di sana',\n",
       " 'dket': 'dekat',\n",
       " 'dkk': 'dan kawan-kawan',\n",
       " 'dll': 'dan lain-lain',\n",
       " 'dlu': 'dulu',\n",
       " 'dngn': 'dengan',\n",
       " 'dodol': 'bodoh',\n",
       " 'doku': 'uang',\n",
       " 'dongs': 'dong',\n",
       " 'dpt': 'dapat',\n",
       " 'dri': 'dari',\n",
       " 'drmn': 'darimana',\n",
       " 'drtd': 'dari tadi',\n",
       " 'dst': 'dan seterusnya',\n",
       " 'dtg': 'datang',\n",
       " 'duh': 'aduh',\n",
       " 'duren': 'durian',\n",
       " 'ed': 'edisi',\n",
       " 'egp': 'emang gue pikirin',\n",
       " 'eke': 'aku',\n",
       " 'elu': 'kamu',\n",
       " 'emangnya': 'memangnya',\n",
       " 'emng': 'memang',\n",
       " 'endak': 'tidak',\n",
       " 'enggak': 'tidak',\n",
       " 'envy': 'iri',\n",
       " 'ex': 'mantan',\n",
       " 'fax': 'facsimile',\n",
       " 'fifo': 'first in first out',\n",
       " 'folbek': 'follow back',\n",
       " 'fyi': 'sebagai informasi',\n",
       " 'gaada': 'tidak ada uang',\n",
       " 'gag': 'tidak',\n",
       " 'gaje': 'tidak jelas',\n",
       " 'gak papa': 'tidak apa-apa',\n",
       " 'gan': 'juragan',\n",
       " 'gaptek': 'gagap teknologi',\n",
       " 'gatek': 'gagap teknologi',\n",
       " 'gawe': 'kerja',\n",
       " 'gbs': 'tidak bisa',\n",
       " 'gebetan': 'orang yang disuka',\n",
       " 'geje': 'tidak jelas',\n",
       " 'gepeng': 'gelandangan dan pengemis',\n",
       " 'ghiy': 'lagi',\n",
       " 'gile': 'gila',\n",
       " 'gimana': 'bagaimana',\n",
       " 'gino': 'gigi nongol',\n",
       " 'githu': 'gitu',\n",
       " 'gj': 'tidak jelas',\n",
       " 'gmana': 'bagaimana',\n",
       " 'gn': 'begini',\n",
       " 'goblok': 'bodoh',\n",
       " 'golput': 'golongan putih',\n",
       " 'gowes': 'mengayuh sepeda',\n",
       " 'gpny': 'tidak punya',\n",
       " 'gr': 'gede rasa',\n",
       " 'gretongan': 'gratisan',\n",
       " 'gtau': 'tidak tahu',\n",
       " 'gua': 'saya',\n",
       " 'guoblok': 'goblok',\n",
       " 'gw': 'saya',\n",
       " 'ha': 'tertawa',\n",
       " 'haha': 'tertawa',\n",
       " 'hallow': 'halo',\n",
       " 'hankam': 'pertahanan dan keamanan',\n",
       " 'hehe': 'he',\n",
       " 'helo': 'halo',\n",
       " 'hey': 'hai',\n",
       " 'hlm': 'halaman',\n",
       " 'hny': 'hanya',\n",
       " 'hoax': 'isu bohong',\n",
       " 'hr': 'hari',\n",
       " 'hrus': 'harus',\n",
       " 'hubdar': 'perhubungan darat',\n",
       " 'huff': 'mengeluh',\n",
       " 'hum': 'rumah',\n",
       " 'humz': 'rumah',\n",
       " 'ilang': 'hilang',\n",
       " 'ilfil': 'tidak suka',\n",
       " 'imho': 'in my humble opinion',\n",
       " 'imoetz': 'imut',\n",
       " 'item': 'hitam',\n",
       " 'itungan': 'hitungan',\n",
       " 'iye': 'iya',\n",
       " 'ja': 'saja',\n",
       " 'jadiin': 'jadi',\n",
       " 'jaim': 'jaga image',\n",
       " 'jayus': 'tidak lucu',\n",
       " 'jdi': 'jadi',\n",
       " 'jem': 'jam',\n",
       " 'jga': 'juga',\n",
       " 'jgnkan': 'jangankan',\n",
       " 'jir': 'anjing',\n",
       " 'jln': 'jalan',\n",
       " 'jomblo': 'tidak punya pacar',\n",
       " 'jubir': 'juru bicara',\n",
       " 'jutek': 'galak',\n",
       " 'k': 'ke',\n",
       " 'kab': 'kabupaten',\n",
       " 'kabor': 'kabur',\n",
       " 'kacrut': 'kacau',\n",
       " 'kadiv': 'kepala divisi',\n",
       " 'kagak': 'tidak',\n",
       " 'kalo': 'kalau',\n",
       " 'kampret': 'sialan',\n",
       " 'kamtibmas': 'keamanan dan ketertiban masyarakat',\n",
       " 'kamuwh': 'kamu',\n",
       " 'kanwil': 'kantor wilayah',\n",
       " 'karna': 'karena',\n",
       " 'kasubbag': 'kepala subbagian',\n",
       " 'katrok': 'kampungan',\n",
       " 'kayanya': 'kayaknya',\n",
       " 'kbr': 'kabar',\n",
       " 'kdu': 'harus',\n",
       " 'kec': 'kecamatan',\n",
       " 'kejurnas': 'kejuaraan nasional',\n",
       " 'kekeuh': 'keras kepala',\n",
       " 'kel': 'kelurahan',\n",
       " 'kemaren': 'kemarin',\n",
       " 'kepengen': 'mau',\n",
       " 'kepingin': 'mau',\n",
       " 'kepsek': 'kepala sekolah',\n",
       " 'kesbang': 'kesatuan bangsa',\n",
       " 'kesra': 'kesejahteraan rakyat',\n",
       " 'ketrima': 'diterima',\n",
       " 'kgiatan': 'kegiatan',\n",
       " 'kibul': 'bohong',\n",
       " 'kimpoi': 'kawin',\n",
       " 'kl': 'kalau',\n",
       " 'klianz': 'kalian',\n",
       " 'kloter': 'kelompok terbang',\n",
       " 'klw': 'kalau',\n",
       " 'km': 'kamu',\n",
       " 'kmps': 'kampus',\n",
       " 'kmrn': 'kemarin',\n",
       " 'knal': 'kenal',\n",
       " 'knp': 'kenapa',\n",
       " 'kodya': 'kota madya',\n",
       " 'komdis': 'komisi disiplin',\n",
       " 'komsov': 'komunis sovyet',\n",
       " 'kongkow': 'kumpul bareng teman-teman',\n",
       " 'kopdar': 'kopi darat',\n",
       " 'korup': 'korupsi',\n",
       " 'kpn': 'kapan',\n",
       " 'krenz': 'keren',\n",
       " 'krm': 'kirim',\n",
       " 'kt': 'kita',\n",
       " 'ktmu': 'ketemu',\n",
       " 'ktr': 'kantor',\n",
       " 'kuper': 'kurang pergaulan',\n",
       " 'kw': 'imitasi',\n",
       " 'kyk': 'seperti',\n",
       " 'la': 'lah',\n",
       " 'lam': 'salam',\n",
       " 'lamp': 'lampiran',\n",
       " 'lanud': 'landasan udara',\n",
       " 'latgab': 'latihan gabungan',\n",
       " 'lebay': 'berlebihan',\n",
       " 'leh': 'boleh',\n",
       " 'lelet': 'lambat',\n",
       " 'lemot': 'lambat',\n",
       " 'lgi': 'lagi',\n",
       " 'lgsg': 'langsung',\n",
       " 'liat': 'lihat',\n",
       " 'litbang': 'penelitian dan pengembangan',\n",
       " 'lmyn': 'lumayan',\n",
       " 'lo': 'kamu',\n",
       " 'loe': 'kamu',\n",
       " 'lola': 'lambat berfikir',\n",
       " 'louph': 'cinta',\n",
       " 'low': 'kalau',\n",
       " 'lp': 'lupa',\n",
       " 'luber': 'langsung, umum, bebas, dan rahasia',\n",
       " 'luchuw': 'lucu',\n",
       " 'lum': 'belum',\n",
       " 'luthu': 'lucu',\n",
       " 'lwn': 'lawan',\n",
       " 'maacih': 'terima kasih',\n",
       " 'mabal': 'bolos',\n",
       " 'macem': 'macam',\n",
       " 'macih': 'masih',\n",
       " 'maem': 'makan',\n",
       " 'magabut': 'makan gaji buta',\n",
       " 'maho': 'homo',\n",
       " 'mak jang': 'kaget',\n",
       " 'maksain': 'memaksa',\n",
       " 'malem': 'malam',\n",
       " 'mam': 'makan',\n",
       " 'maneh': 'kamu',\n",
       " 'maniez': 'manis',\n",
       " 'mao': 'mau',\n",
       " 'masukin': 'masukkan',\n",
       " 'melu': 'ikut',\n",
       " 'mepet': 'dekat sekali',\n",
       " 'mgu': 'minggu',\n",
       " 'migas': 'minyak dan gas bumi',\n",
       " 'mikol': 'minuman beralkohol',\n",
       " 'miras': 'minuman keras',\n",
       " 'mlah': 'malah',\n",
       " 'mngkn': 'mungkin',\n",
       " 'mo': 'mau',\n",
       " 'mokad': 'mati',\n",
       " 'moso': 'masa',\n",
       " 'mpe': 'sampai',\n",
       " 'msk': 'masuk',\n",
       " 'mslh': 'masalah',\n",
       " 'mt': 'makan teman',\n",
       " 'mubes': 'musyawarah besar',\n",
       " 'mulu': 'melulu',\n",
       " 'mumpung': 'selagi',\n",
       " 'munas': 'musyawarah nasional',\n",
       " 'muntaber': 'muntah dan berak',\n",
       " 'musti': 'mesti',\n",
       " 'muupz': 'maaf',\n",
       " 'mw': 'now watching',\n",
       " 'n': 'dan',\n",
       " 'nanam': 'menanam',\n",
       " 'nanya': 'bertanya',\n",
       " 'napa': 'kenapa',\n",
       " 'napi': 'narapidana',\n",
       " 'napza': 'narkotika, alkohol, psikotropika, dan zat adiktif ',\n",
       " 'narkoba': 'narkotika, psikotropika, dan obat terlarang',\n",
       " 'nasgor': 'nasi goreng',\n",
       " 'nda': 'tidak',\n",
       " 'ndiri': 'sendiri',\n",
       " 'ne': 'ini',\n",
       " 'nekolin': 'neokolonialisme',\n",
       " 'nembak': 'menyatakan cinta',\n",
       " 'ngabuburit': 'menunggu berbuka puasa',\n",
       " 'ngaku': 'mengaku',\n",
       " 'ngambil': 'mengambil',\n",
       " 'nganggur': 'tidak punya pekerjaan',\n",
       " 'ngapah': 'kenapa',\n",
       " 'ngaret': 'terlambat',\n",
       " 'ngasih': 'memberikan',\n",
       " 'ngebandel': 'berbuat bandel',\n",
       " 'ngegosip': 'bergosip',\n",
       " 'ngeklaim': 'mengklaim',\n",
       " 'ngeksis': 'menjadi eksis',\n",
       " 'ngeles': 'berkilah',\n",
       " 'ngelidur': 'menggigau',\n",
       " 'ngerampok': 'merampok',\n",
       " 'ngga': 'tidak',\n",
       " 'ngibul': 'berbohong',\n",
       " 'ngiler': 'mau',\n",
       " 'ngiri': 'iri',\n",
       " 'ngisiin': 'mengisikan',\n",
       " 'ngmng': 'bicara',\n",
       " 'ngomong': 'bicara',\n",
       " 'ngubek2': 'mencari-cari',\n",
       " 'ngurus': 'mengurus',\n",
       " 'nie': 'ini',\n",
       " 'nih': 'ini',\n",
       " 'niyh': 'nih',\n",
       " 'nmr': 'nomor',\n",
       " 'nntn': 'nonton',\n",
       " 'nobar': 'nonton bareng',\n",
       " 'np': 'now playing',\n",
       " 'ntar': 'nanti',\n",
       " 'ntn': 'nonton',\n",
       " 'numpuk': 'bertumpuk',\n",
       " 'nutupin': 'menutupi',\n",
       " 'nyari': 'mencari',\n",
       " 'nyekar': 'menyekar',\n",
       " 'nyicil': 'mencicil',\n",
       " 'nyoblos': 'mencoblos',\n",
       " 'nyokap': 'ibu',\n",
       " 'ogah': 'tidak mau',\n",
       " 'ol': 'online',\n",
       " 'ongkir': 'ongkos kirim',\n",
       " 'oot': 'out of topic',\n",
       " 'org2': 'orang-orang',\n",
       " 'ortu': 'orang tua',\n",
       " 'otda': 'otonomi daerah',\n",
       " 'otw': 'on the way, sedang di jalan',\n",
       " 'pacal': 'pacar',\n",
       " 'pake': 'pakai',\n",
       " 'pala': 'kepala',\n",
       " 'pansus': 'panitia khusus',\n",
       " 'parpol': 'partai politik',\n",
       " 'pasutri': 'pasangan suami istri',\n",
       " 'pd': 'pada',\n",
       " 'pede': 'percaya diri',\n",
       " 'pelatnas': 'pemusatan latihan nasional',\n",
       " 'pemda': 'pemerintah daerah',\n",
       " 'pemkot': 'pemerintah kota',\n",
       " 'pemred': 'pemimpin redaksi',\n",
       " 'penjas': 'pendidikan jasmani',\n",
       " 'perda': 'peraturan daerah',\n",
       " 'perhatiin': 'perhatikan',\n",
       " 'pesenan': 'pesanan',\n",
       " 'pgang': 'pegang',\n",
       " 'pi': 'tapi',\n",
       " 'pilkada': 'pemilihan kepala daerah',\n",
       " 'pisan': 'sangat',\n",
       " 'pk': 'penjahat kelamin',\n",
       " 'plg': 'paling',\n",
       " 'pmrnth': 'pemerintah',\n",
       " 'polantas': 'polisi lalu lintas',\n",
       " 'ponpes': 'pondok pesantren',\n",
       " 'pp': 'pulang pergi',\n",
       " 'prg': 'pergi',\n",
       " 'prnh': 'pernah',\n",
       " 'psen': 'pesan',\n",
       " 'pst': 'pasti',\n",
       " 'pswt': 'pesawat',\n",
       " 'pw': 'posisi nyaman',\n",
       " 'qmu': 'kamu',\n",
       " 'rakor': 'rapat koordinasi',\n",
       " 'ranmor': 'kendaraan bermotor',\n",
       " 're': 'reply',\n",
       " 'ref': 'referensi',\n",
       " 'rehab': 'rehabilitasi',\n",
       " 'rempong': 'sulit',\n",
       " 'repp': 'balas',\n",
       " 'restik': 'reserse narkotika',\n",
       " 'rhs': 'rahasia',\n",
       " 'rmh': 'rumah',\n",
       " 'ru': 'baru',\n",
       " 'ruko': 'rumah toko',\n",
       " 'rusunawa': 'rumah susun sewa',\n",
       " 'ruz': 'terus',\n",
       " 'saia': 'saya',\n",
       " 'salting': 'salah tingkah',\n",
       " 'sampe': 'sampai',\n",
       " 'samsek': 'sama sekali',\n",
       " 'sapose': 'siapa',\n",
       " 'satpam': 'satuan pengamanan',\n",
       " 'sbb': 'sebagai berikut',\n",
       " 'sbh': 'sebuah',\n",
       " 'sbnrny': 'sebenarnya',\n",
       " 'scr': 'secara',\n",
       " 'sdgkn': 'sedangkan',\n",
       " 'sdkt': 'sedikit',\n",
       " 'se7': 'setuju',\n",
       " 'sebelas dua belas': 'mirip',\n",
       " 'sembako': 'sembilan bahan pokok',\n",
       " 'sempet': 'sempat',\n",
       " 'sendratari': 'seni drama tari',\n",
       " 'sgt': 'sangat',\n",
       " 'shg': 'sehingga',\n",
       " 'siech': 'sih',\n",
       " 'sikon': 'situasi dan kondisi',\n",
       " 'sinetron': 'sinema elektronik',\n",
       " 'siramin': 'siramkan',\n",
       " 'sj': 'saja',\n",
       " 'skalian': 'sekalian',\n",
       " 'sklh': 'sekolah',\n",
       " 'skt': 'sakit',\n",
       " 'slesai': 'selesai',\n",
       " 'sll': 'selalu',\n",
       " 'slma': 'selama',\n",
       " 'slsai': 'selesai',\n",
       " 'smpt': 'sempat',\n",
       " 'smw': 'semua',\n",
       " 'sndiri': 'sendiri',\n",
       " 'soljum': 'sholat jumat',\n",
       " 'songong': 'sombong',\n",
       " 'sory': 'maaf',\n",
       " 'sosek': 'sosial-ekonomi',\n",
       " 'sotoy': 'sok tahu',\n",
       " 'spa': 'siapa',\n",
       " 'sppa': 'siapa',\n",
       " 'spt': 'seperti',\n",
       " 'srtfkt': 'sertifikat',\n",
       " 'stiap': 'setiap',\n",
       " 'stlh': 'setelah',\n",
       " 'suk': 'masuk',\n",
       " 'sumpek': 'sempit',\n",
       " 'syg': 'sayang',\n",
       " 't4': 'tempat',\n",
       " 'tajir': 'kaya',\n",
       " 'tau': 'tahu',\n",
       " 'taw': 'tahu',\n",
       " 'td': 'tadi',\n",
       " 'tdk': 'tidak',\n",
       " 'teh': 'kakak perempuan',\n",
       " 'telat': 'terlambat',\n",
       " 'telmi': 'telat berpikir',\n",
       " 'temen': 'teman',\n",
       " 'tengil': 'menyebalkan',\n",
       " 'tepar': 'terkapar',\n",
       " 'tggu': 'tunggu',\n",
       " 'tgu': 'tunggu',\n",
       " 'thankz': 'terima kasih',\n",
       " 'thn': 'tahun',\n",
       " 'tilang': 'bukti pelanggaran',\n",
       " 'tipiwan': 'TvOne',\n",
       " 'tks': 'terima kasih',\n",
       " 'tlp': 'telepon',\n",
       " 'tls': 'tulis',\n",
       " 'tmbah': 'tambah',\n",
       " 'tmen2': 'teman-teman',\n",
       " 'tmpah': 'tumpah',\n",
       " 'tmpt': 'tempat',\n",
       " 'tngu': 'tunggu',\n",
       " 'tnyta': 'ternyata',\n",
       " 'tokai': 'tai',\n",
       " 'toserba': 'toko serba ada',\n",
       " 'tpi': 'tapi',\n",
       " 'trdhulu': 'terdahulu',\n",
       " 'trima': 'terima kasih',\n",
       " 'trm': 'terima',\n",
       " 'trs': 'terus',\n",
       " 'trutama': 'terutama',\n",
       " 'ts': 'penulis',\n",
       " 'tst': 'tahu sama tahu',\n",
       " 'ttg': 'tentang',\n",
       " 'tuch': 'tuh',\n",
       " 'tuir': 'tua',\n",
       " 'tw': 'tahu',\n",
       " 'u': 'kamu',\n",
       " 'ud': 'sudah',\n",
       " 'udah': 'sudah',\n",
       " 'ujg': 'ujung',\n",
       " 'ul': 'ulangan',\n",
       " 'unyu': 'lucu',\n",
       " 'uplot': 'unggah',\n",
       " 'urang': 'saya',\n",
       " 'usah': 'perlu',\n",
       " 'utk': 'untuk',\n",
       " 'valas': 'valuta asing',\n",
       " 'w/': 'dengan',\n",
       " 'wadir': 'wakil direktur',\n",
       " 'wamil': 'wajib militer',\n",
       " 'warkop': 'warung kopi',\n",
       " 'warteg': 'warung tegal',\n",
       " 'wat': 'buat',\n",
       " 'wkt': 'waktu',\n",
       " 'wtf': 'what the fuck',\n",
       " 'xixixi': 'tertawa',\n",
       " 'ya': 'iya',\n",
       " 'yap': 'iya',\n",
       " 'yaudah': 'ya sudah',\n",
       " 'yawdah': 'ya sudah',\n",
       " 'yg': 'yang',\n",
       " 'yl': 'yang lain',\n",
       " 'yo': 'iya',\n",
       " 'yowes': 'ya sudah',\n",
       " 'yup': 'iya',\n",
       " '7an': 'tujuan',\n",
       " 'ababil': 'abg labil',\n",
       " 'acc': 'accord',\n",
       " 'adlah': 'adalah',\n",
       " 'adoh': 'aduh',\n",
       " 'aha': 'tertawa',\n",
       " 'aing': 'saya',\n",
       " 'aja': 'saja',\n",
       " 'ajj': 'saja',\n",
       " 'aka': 'dikenal juga sebagai',\n",
       " 'akko': 'aku',\n",
       " 'akku': 'aku',\n",
       " 'akyu': 'aku',\n",
       " 'aljasa': 'asal jadi saja',\n",
       " 'ama': 'sama',\n",
       " 'ambl': 'ambil',\n",
       " 'anjir': 'anjing',\n",
       " 'ank': 'anak',\n",
       " 'ap': 'apa',\n",
       " 'apaan': 'apa',\n",
       " 'ape': 'apa',\n",
       " 'aplot': 'unggah',\n",
       " 'apva': 'apa',\n",
       " 'aqu': 'aku',\n",
       " 'asap': 'sesegera mungkin',\n",
       " 'aseek': 'asyik',\n",
       " 'asek': 'asyik',\n",
       " 'aseknya': 'asyiknya',\n",
       " 'asoy': 'asyik',\n",
       " 'astrojim': 'astagfirullahaladzim',\n",
       " 'ath': 'kalau begitu',\n",
       " 'atuh': 'kalau begitu',\n",
       " 'ava': 'avatar',\n",
       " 'aws': 'awas',\n",
       " 'ayang': 'sayang',\n",
       " 'ayok': 'ayo',\n",
       " 'bacot': 'banyak bicara',\n",
       " 'bales': 'balas',\n",
       " 'bangdes': 'pembangunan desa',\n",
       " 'bangkotan': 'tua',\n",
       " 'banpres': 'bantuan presiden',\n",
       " 'bansarkas': 'bantuan sarana kesehatan',\n",
       " 'bazis': 'badan amal, zakat, infak, dan sedekah',\n",
       " 'bcoz': 'karena',\n",
       " 'beb': 'sayang',\n",
       " 'bejibun': 'banyak',\n",
       " 'belom': 'belum',\n",
       " 'bener': 'benar',\n",
       " 'ber2': 'berdua',\n",
       " 'berdikari': 'berdiri di atas kaki sendiri',\n",
       " 'bet': 'banget',\n",
       " 'beti': 'beda tipis',\n",
       " 'beut': 'banget',\n",
       " 'bgd': 'banget',\n",
       " 'bgs': 'bagus',\n",
       " 'bhubu': 'tidur',\n",
       " 'bimbuluh': 'bimbingan dan penyuluhan',\n",
       " 'bisi': 'kalau-kalau',\n",
       " 'bkn': 'bukan',\n",
       " 'bl': 'beli',\n",
       " 'blg': 'bilang',\n",
       " 'blm': 'belum',\n",
       " 'bls': 'balas',\n",
       " 'bnchi': 'benci',\n",
       " 'bngung': 'bingung',\n",
       " 'bnyk': 'banyak',\n",
       " 'bohay': 'badan aduhai',\n",
       " 'bokep': 'porno',\n",
       " 'bokin': 'pacar',\n",
       " 'bole': 'boleh',\n",
       " 'bolot': 'bodoh',\n",
       " 'bonyok': 'ayah ibu',\n",
       " 'bpk': 'bapak',\n",
       " 'brb': 'segera kembali',\n",
       " 'brngkt': 'berangkat',\n",
       " 'brp': 'berapa',\n",
       " 'brur': 'saudara laki-laki',\n",
       " 'bsa': 'bisa',\n",
       " 'bsk': 'besok',\n",
       " 'bu_bu': 'tidur',\n",
       " 'bubarin': 'bubarkan',\n",
       " 'buber': 'buka bersama',\n",
       " 'bujubune': 'luar biasa',\n",
       " 'buser': 'buru sergap',\n",
       " 'bwhn': 'bawahan',\n",
       " 'byar': 'bayar',\n",
       " 'byr': 'bayar',\n",
       " 'c8': 'chat',\n",
       " 'cabut': 'pergi',\n",
       " 'caem': 'cakep',\n",
       " 'cama-cama': 'sama-sama',\n",
       " 'cangcut': 'celana dalam',\n",
       " 'cape': 'capek',\n",
       " 'caur': 'jelek',\n",
       " 'cekak': 'tidak ada uang',\n",
       " 'cekidot': 'coba lihat',\n",
       " 'cemplungin': 'cemplungkan',\n",
       " 'ceper': 'pendek',\n",
       " 'ceu': 'kakak perempuan',\n",
       " 'cewe': 'cewek',\n",
       " 'cibuk': 'sibuk',\n",
       " 'cin': 'cinta',\n",
       " 'ciye': 'cie',\n",
       " 'ckck': 'ck',\n",
       " 'clbk': 'cinta lama bersemi kembali',\n",
       " 'cmpr': 'campur',\n",
       " 'cnenk': 'senang',\n",
       " 'congor': 'mulut',\n",
       " 'cow': 'cowok',\n",
       " 'coz': 'karena',\n",
       " 'cpa': 'siapa',\n",
       " 'gokil': 'gila',\n",
       " 'gombal': 'suka merayu',\n",
       " 'gpl': 'tidak pakai lama',\n",
       " 'gpp': 'tidak apa-apa',\n",
       " 'gretong': 'gratis',\n",
       " 'gt': 'begitu',\n",
       " 'gtw': 'tidak tahu',\n",
       " 'gue': 'saya',\n",
       " 'guys': 'teman-teman',\n",
       " 'gws': 'cepat sembuh',\n",
       " 'haghaghag': 'tertawa',\n",
       " 'hakhak': 'tertawa',\n",
       " 'handak': 'bahan peledak',\n",
       " 'hansip': 'pertahanan sipil',\n",
       " 'hellow': 'halo',\n",
       " 'helow': 'halo',\n",
       " 'hi': 'hai',\n",
       " 'hlng': 'hilang',\n",
       " 'hnya': 'hanya',\n",
       " 'houm': 'rumah',\n",
       " 'hrs': 'harus',\n",
       " 'hubad': 'hubungan angkatan darat',\n",
       " 'hubla': 'perhubungan laut',\n",
       " 'huft': 'mengeluh',\n",
       " 'humas': 'hubungan masyarakat',\n",
       " 'idk': 'saya tidak tahu',\n",
       " 'ilfeel': 'tidak suka',\n",
       " 'imba': 'jago sekali',\n",
       " 'imoet': 'imut',\n",
       " 'info': 'informasi',\n",
       " 'itung': 'hitung',\n",
       " 'isengin': 'bercanda',\n",
       " 'iyala': 'iya lah',\n",
       " 'iyo': 'iya',\n",
       " 'jablay': 'jarang dibelai',\n",
       " 'jadul': 'jaman dulu',\n",
       " 'jancuk': 'anjing',\n",
       " 'jd': 'jadi',\n",
       " 'jdikan': 'jadikan',\n",
       " 'jg': 'juga',\n",
       " 'jgn': 'jangan',\n",
       " 'jijay': 'jijik',\n",
       " 'jkt': 'jakarta',\n",
       " 'jnj': 'janji',\n",
       " 'jth': 'jatuh',\n",
       " 'jurdil': 'jujur adil',\n",
       " 'jwb': 'jawab',\n",
       " 'ka': 'kakak',\n",
       " 'kabag': 'kepala bagian',\n",
       " 'kacian': 'kasihan',\n",
       " 'kadit': 'kepala direktorat',\n",
       " 'kaga': 'tidak',\n",
       " 'kaka': 'kakak',\n",
       " 'kamtib': 'keamanan dan ketertiban',\n",
       " 'kamuh': 'kamu',\n",
       " 'kamyu': 'kamu',\n",
       " 'kapt': 'kapten',\n",
       " 'kasat': 'kepala satuan',\n",
       " 'kasubbid': 'kepala subbidang',\n",
       " 'kau': 'kamu',\n",
       " 'kbar': 'kabar',\n",
       " 'kcian': 'kasihan',\n",
       " 'keburu': 'terlanjur',\n",
       " 'kedubes': 'kedutaan besar',\n",
       " 'kek': 'seperti',\n",
       " 'keknya': 'kayaknya',\n",
       " 'keliatan': 'kelihatan',\n",
       " 'keneh': 'masih',\n",
       " 'kepikiran': 'terpikirkan',\n",
       " 'kepo': 'mau tahu urusan orang',\n",
       " 'kere': 'tidak punya uang',\n",
       " 'kesian': 'kasihan',\n",
       " 'ketauan': 'ketahuan',\n",
       " 'keukeuh': 'keras kepala',\n",
       " 'khan': 'kan',\n",
       " 'kibus': 'kaki busuk',\n",
       " 'kk': 'kakak',\n",
       " 'klian': 'kalian',\n",
       " 'klo': 'kalau',\n",
       " 'kluarga': 'keluarga',\n",
       " 'klwrga': 'keluarga',\n",
       " 'kmari': 'kemari',\n",
       " 'kmpus': 'kampus',\n",
       " 'kn': 'kan',\n",
       " 'knl': 'kenal',\n",
       " 'knpa': 'kenapa',\n",
       " 'kog': 'kok',\n",
       " 'kompi': 'komputer',\n",
       " 'komtiong': 'komunis Tiongkok',\n",
       " 'konjen': 'konsulat jenderal',\n",
       " 'koq': 'kok',\n",
       " 'kpd': 'kepada',\n",
       " 'kptsan': 'keputusan',\n",
       " 'krik': 'garing',\n",
       " 'krn': 'karena',\n",
       " 'ktauan': 'ketahuan',\n",
       " 'ktny': 'katanya',\n",
       " 'kudu': 'harus',\n",
       " 'kuq': 'kok',\n",
       " 'ky': 'seperti',\n",
       " 'kykny': 'kayanya',\n",
       " 'laka': 'kecelakaan',\n",
       " 'lambreta': 'lambat',\n",
       " 'lansia': 'lanjut usia',\n",
       " 'lapas': 'lembaga pemasyarakatan',\n",
       " 'lbur': 'libur',\n",
       " 'lekong': 'laki-laki',\n",
       " 'lg': 'lagi',\n",
       " 'lgkp': 'lengkap',\n",
       " 'lht': 'lihat',\n",
       " 'linmas': 'perlindungan masyarakat',\n",
       " 'lmyan': 'lumayan',\n",
       " 'lngkp': 'lengkap',\n",
       " 'loch': 'loh',\n",
       " 'lol': 'tertawa',\n",
       " 'lom': 'belum',\n",
       " 'loupz': 'cinta',\n",
       " 'lowh': 'kamu',\n",
       " 'lu': 'kamu',\n",
       " 'luchu': 'lucu',\n",
       " 'luff': 'cinta',\n",
       " 'luph': 'cinta',\n",
       " 'lw': 'kamu',\n",
       " 'lwt': 'lewat',\n",
       " 'maaciw': 'terima kasih',\n",
       " 'mabes': 'markas besar',\n",
       " 'macem-macem': 'macam-macam',\n",
       " 'madesu': 'masa depan suram',\n",
       " 'maen': 'main',\n",
       " 'mahatma': 'maju sehat bersama',\n",
       " 'mak': 'ibu',\n",
       " 'makasih': 'terima kasih',\n",
       " 'malah': 'bahkan',\n",
       " 'malu2in': 'memalukan',\n",
       " 'mamz': 'makan',\n",
       " 'manies': 'manis',\n",
       " 'mantep': 'mantap',\n",
       " 'markus': 'makelar kasus',\n",
       " 'mba': 'mbak',\n",
       " 'mending': 'lebih baik',\n",
       " 'mgkn': 'mungkin',\n",
       " 'mhn': 'mohon',\n",
       " 'miker': 'minuman keras',\n",
       " 'milis': 'mailing list',\n",
       " 'mksd': 'maksud',\n",
       " 'mls': 'malas',\n",
       " 'mnt': 'minta',\n",
       " 'moge': 'motor gede',\n",
       " 'mokat': 'mati',\n",
       " 'mosok': 'masa',\n",
       " 'msh': 'masih',\n",
       " 'mskpn': 'meskipun',\n",
       " 'msng2': 'masing-masing',\n",
       " 'muahal': 'mahal',\n",
       " 'muker': 'musyawarah kerja',\n",
       " 'mumet': 'pusing',\n",
       " 'muna': 'munafik',\n",
       " 'munaslub': 'musyawarah nasional luar biasa',\n",
       " 'musda': 'musyawarah daerah',\n",
       " 'muup': 'maaf',\n",
       " 'muuv': 'maaf',\n",
       " 'nal': 'kenal',\n",
       " 'nangis': 'menangis',\n",
       " 'naon': 'apa',\n",
       " 'napol': 'narapidana politik',\n",
       " 'naq': 'anak',\n",
       " 'narsis': 'bangga pada diri sendiri',\n",
       " 'nax': 'anak',\n",
       " 'ndak': 'tidak',\n",
       " 'ndut': 'gendut',\n",
       " 'nekolim': 'neokolonialisme',\n",
       " 'nelfon': 'menelepon',\n",
       " 'ngabis2in': 'menghabiskan',\n",
       " 'ngakak': 'tertawa',\n",
       " 'ngambek': 'marah',\n",
       " 'ngampus': 'pergi ke kampus',\n",
       " 'ngantri': 'mengantri',\n",
       " 'ngapain': 'sedang apa',\n",
       " 'ngaruh': 'berpengaruh',\n",
       " 'ngawur': 'berbicara sembarangan',\n",
       " 'ngeceng': 'kumpul bareng-bareng',\n",
       " 'ngeh': 'sadar',\n",
       " 'ngekos': 'tinggal di kos',\n",
       " 'ngelamar': 'melamar',\n",
       " 'ngeliat': 'melihat',\n",
       " 'ngemeng': 'bicara terus-terusan',\n",
       " 'ngerti': 'mengerti',\n",
       " 'nggak': 'tidak',\n",
       " 'ngikut': 'ikut',\n",
       " 'nginep': 'menginap',\n",
       " 'ngisi': 'mengisi',\n",
       " 'ngmg': 'bicara',\n",
       " 'ngocol': 'lucu',\n",
       " 'ngomongin': 'membicarakan',\n",
       " 'ngumpul': 'berkumpul',\n",
       " 'ni': 'ini',\n",
       " 'nyasar': 'tersesat',\n",
       " 'nyariin': 'mencari',\n",
       " 'nyiapin': 'mempersiapkan',\n",
       " 'nyiram': 'menyiram',\n",
       " 'nyok': 'ayo',\n",
       " 'o/': 'oleh',\n",
       " 'ok': 'ok',\n",
       " 'priksa': 'periksa',\n",
       " 'pro': 'profesional',\n",
       " 'psn': 'pesan',\n",
       " 'psti': 'pasti',\n",
       " 'puanas': 'panas',\n",
       " 'qmo': 'kamu',\n",
       " 'qt': 'kita',\n",
       " 'rame': 'ramai',\n",
       " 'raskin': 'rakyat miskin',\n",
       " 'red': 'redaksi',\n",
       " 'reg': 'register',\n",
       " 'rejeki': 'rezeki',\n",
       " 'renstra': 'rencana strategis',\n",
       " 'reskrim': 'reserse kriminal',\n",
       " 'sni': 'sini',\n",
       " 'somse': 'sombong sekali',\n",
       " 'sorry': 'maaf',\n",
       " 'sosbud': 'sosial-budaya',\n",
       " 'sospol': 'sosial-politik',\n",
       " 'sowry': 'maaf',\n",
       " 'spd': 'sepeda',\n",
       " 'sprti': 'seperti',\n",
       " 'spy': 'supaya',\n",
       " 'stelah': 'setelah',\n",
       " 'subbag': 'subbagian',\n",
       " 'sumbangin': 'sumbangkan',\n",
       " 'sy': 'saya',\n",
       " 'syp': 'siapa',\n",
       " 'tabanas': 'tabungan pembangunan nasional',\n",
       " 'tar': 'nanti',\n",
       " 'taun': 'tahun',\n",
       " 'tawh': 'tahu',\n",
       " 'tdi': 'tadi',\n",
       " 'te2p': 'tetap',\n",
       " 'tekor': 'rugi',\n",
       " 'telkom': 'telekomunikasi',\n",
       " 'telp': 'telepon',\n",
       " 'temen2': 'teman-teman',\n",
       " 'tengok': 'menjenguk',\n",
       " 'terbitin': 'terbitkan',\n",
       " 'tgl': 'tanggal',\n",
       " 'thanks': 'terima kasih',\n",
       " 'thd': 'terhadap',\n",
       " 'thx': 'terima kasih',\n",
       " 'tipi': 'TV',\n",
       " 'tkg': 'tukang',\n",
       " 'tll': 'terlalu',\n",
       " 'tlpn': 'telepon',\n",
       " 'tman': 'teman',\n",
       " 'tmbh': 'tambah',\n",
       " 'tmn2': 'teman-teman',\n",
       " 'tmph': 'tumpah',\n",
       " 'tnda': 'tanda',\n",
       " 'tnh': 'tanah',\n",
       " 'togel': 'toto gelap',\n",
       " 'tp': 'tapi',\n",
       " 'tq': 'terima kasih',\n",
       " 'trgntg': 'tergantung',\n",
       " 'trims': 'terima kasih',\n",
       " 'cb': 'coba',\n",
       " 'y': 'ya',\n",
       " 'munfik': 'munafik',\n",
       " 'reklamuk': 'reklamasi',\n",
       " 'sma': 'sama',\n",
       " 'tren': 'trend',\n",
       " 'ngehe': 'kesal',\n",
       " 'mz': 'mas',\n",
       " 'analisise': 'analisis',\n",
       " 'sadaar': 'sadar',\n",
       " 'sept': 'september',\n",
       " 'nmenarik': 'menarik',\n",
       " 'zonk': 'bodoh',\n",
       " 'rights': 'benar',\n",
       " 'simiskin': 'miskin',\n",
       " 'ngumpet': 'sembunyi',\n",
       " 'hardcore': 'keras',\n",
       " 'akhirx': 'akhirnya',\n",
       " 'solve': 'solusi',\n",
       " 'watuk': 'batuk',\n",
       " 'ngebully': 'intimidasi',\n",
       " 'masy': 'masyarakat',\n",
       " 'still': 'masih',\n",
       " 'tauk': 'tahu',\n",
       " 'mbual': 'bual',\n",
       " 'tioghoa': 'tionghoa',\n",
       " 'ngentotin': 'senggama',\n",
       " 'kentot': 'senggama',\n",
       " 'faktakta': 'fakta',\n",
       " 'sohib': 'teman',\n",
       " 'rubahnn': 'rubah',\n",
       " 'trlalu': 'terlalu',\n",
       " 'nyela': 'cela',\n",
       " 'heters': 'pembenci',\n",
       " 'nyembah': 'sembah',\n",
       " 'most': 'paling',\n",
       " 'ikon': 'lambang',\n",
       " 'light': 'terang',\n",
       " 'pndukung': 'pendukung',\n",
       " 'setting': 'atur',\n",
       " 'seting': 'akting',\n",
       " 'next': 'lanjut',\n",
       " 'waspadalah': 'waspada',\n",
       " 'gantengsaya': 'ganteng',\n",
       " 'parte': 'partai',\n",
       " 'nyerang': 'serang',\n",
       " 'nipu': 'tipu',\n",
       " 'ktipu': 'tipu',\n",
       " 'jentelmen': 'berani',\n",
       " 'buangbuang': 'buang',\n",
       " 'tsangka': 'tersangka',\n",
       " 'kurng': 'kurang',\n",
       " 'ista': 'nista',\n",
       " 'less': 'kurang',\n",
       " ...}"
      ]
     },
     "execution_count": 17,
     "metadata": {},
     "output_type": "execute_result"
    }
   ],
   "source": [
    "#membaca data dan mengubahnya menjadi dictionary\n",
    "import ast\n",
    "\n",
    "file = open(\"combined_slang_words.txt\", \"r\")\n",
    "\n",
    "contents = file.read()\n",
    "kamus = ast.literal_eval(contents)\n",
    "file.close()\n",
    "print(type(kamus))\n",
    "kamus"
   ]
  },
  {
   "cell_type": "code",
   "execution_count": 18,
   "metadata": {},
   "outputs": [],
   "source": [
    "## Change word\n",
    "\n",
    "def normalisasi(text):\n",
    "    final_string = ' '.join(str(kamus.get(word, word)) for word in text).split()\n",
    "    return final_string\n",
    "\n",
    "data['text_Normalisasi'] = data['text_tok'].apply(normalisasi)"
   ]
  },
  {
   "cell_type": "code",
   "execution_count": 19,
   "metadata": {
    "scrolled": true
   },
   "outputs": [
    {
     "name": "stdout",
     "output_type": "stream",
     "text": [
      "['anggota', 'papua', 'ceroboh', 'perannya', 'sebagai', 'pemasok', 'amunisi', 'terbongkar', 'gara', 'gara', 'bacok', 'warga', 'sipil', 'surya', 'gara', 'gara', 'kecerobohannya', 'sendiri', 'seorang', 'anggota', 'papua', 'berhasil', 'ditangkap', 'aparat', 'polri', 'hanya', 'perannya', 'sebagai', 'pemasok', 'amunisi', 'untuk', 'papua', 'juga', 'ikut', 'terbongkar', 'penyebab', 'awalnya', 'adalah', 'nekat', 'membacok', 'warga', 'sipil', 'intan', 'jaya', 'pada', 'april', 'lalu', 'polisi', 'langsung', 'menangkapnya', 'akhirnya', 'terbongkar', 'perannya', 'sebagai', 'anggota', 'papua', 'yang', 'bertugas', 'memasok', 'amunisi', 'melansir', 'dari', 'laman', 'tribratanews', 'polri', 'berdasarkan', 'informasi', 'adanya', 'keberadaan', 'tersangka', 'pembacokan', 'warga', 'intan', 'jaya', 'pada', 'april', 'pertigaan', 'pasar', 'yokatapang', 'aparat', 'gabungan', 'damai', 'cartenz', 'melakukan', 'pegecekan', 'penyelidikan', 'dari', 'hasil', 'pengecekan', 'tersangka', 'terlihat', 'kali', 'wabu', 'rabu', 'selanjutnya', 'bergerak', 'berhasil', 'mengamankan', 'tersangka', 'yang', 'diketahui', 'berinisial', 'dari', 'hasil', 'pemeriksaan', 'sementara', 'tersangka', 'juga', 'merupakan', 'anggota', 'papua', 'aktif', 'dibenarkan', 'oleh', 'kabid', 'humas', 'polda', 'papua', 'kombes', 'mustofa', 'kamal', 'saat', 'dikonfirmasi', 'pihaknya', 'menyebutkan', 'penangkanapan', 'berawal', 'dari', 'penyeledikan', 'kasus', 'pembacokan', 'asep', 'saputra', 'pada', 'april', 'lalu', 'setelah', 'mendapat', 'informasi', 'kita', 'berhasil', 'mengamankan', 'tersangka', 'selanjutnya', 'kita', 'lakukan', 'pengembangan', 'ujarnya', 'dari', 'hasil', 'pengembangan', 'lanjut', 'kasatgas', 'bahwa', 'tersangka', 'diketahui', 'merupakan', 'jaringan', 'pengadaan', 'amunisi', 'untuk', 'papua', 'terbukti', 'saat', 'mengamankan', 'tersangka', 'petugas', 'menemukan', 'butir', 'amunisi', 'selain', 'terkait', 'kasus', 'pembacokan', 'tersangka', 'juga', 'jaringan', 'pengadaan', 'amunisi', 'untuk', 'papua', 'selanjutnya', 'kita', 'akan', 'lakukan', 'pengembangan', 'kita', 'informasikan', 'kembali', 'pungkas', 'kabid', 'humas', 'polda', 'papua', 'terungkap', 'sosok', 'praka'] \n",
      "\n",
      "['anggota', 'papua', 'ceroboh', 'perannya', 'sebagai', 'pemasok', 'amunisi', 'terbongkar', 'gara', 'gara', 'bacok', 'warga', 'sipil', 'surya', 'gara', 'gara', 'kecerobohannya', 'sendiri', 'seorang', 'anggota', 'papua', 'berhasil', 'ditangkap', 'aparat', 'polri', 'hanya', 'perannya', 'sebagai', 'pemasok', 'amunisi', 'untuk', 'papua', 'juga', 'ikut', 'terbongkar', 'penyebab', 'awalnya', 'adalah', 'nekat', 'membacok', 'warga', 'sipil', 'intan', 'jaya', 'pada', 'april', 'lalu', 'polisi', 'langsung', 'menangkapnya', 'akhirnya', 'terbongkar', 'perannya', 'sebagai', 'anggota', 'papua', 'yang', 'bertugas', 'memasok', 'amunisi', 'melansir', 'dari', 'laman', 'tribratanews', 'polri', 'berdasarkan', 'informasi', 'adanya', 'keberadaan', 'tersangka', 'pembacokan', 'warga', 'intan', 'jaya', 'pada', 'april', 'pertigaan', 'pasar', 'yokatapang', 'aparat', 'gabungan', 'damai', 'cartenz', 'melakukan', 'pegecekan', 'penyelidikan', 'dari', 'hasil', 'pengecekan', 'tersangka', 'terlihat', 'kali', 'wabu', 'rabu', 'selanjutnya', 'bergerak', 'berhasil', 'mengamankan', 'tersangka', 'yang', 'diketahui', 'berinisial', 'dari', 'hasil', 'pemeriksaan', 'sementara', 'tersangka', 'juga', 'merupakan', 'anggota', 'papua', 'aktif', 'dibenarkan', 'oleh', 'kabid', 'hubungan', 'masyarakat', 'polda', 'papua', 'kombes', 'mustofa', 'kamal', 'saat', 'dikonfirmasi', 'pihaknya', 'menyebutkan', 'penangkanapan', 'berawal', 'dari', 'penyeledikan', 'kasus', 'pembacokan', 'asep', 'saputra', 'pada', 'april', 'lalu', 'setelah', 'mendapat', 'informasi', 'kita', 'berhasil', 'mengamankan', 'tersangka', 'selanjutnya', 'kita', 'lakukan', 'pengembangan', 'ujarnya', 'dari', 'hasil', 'pengembangan', 'lanjut', 'kasatgas', 'bahwa', 'tersangka', 'diketahui', 'merupakan', 'jaringan', 'pengadaan', 'amunisi', 'untuk', 'papua', 'terbukti', 'saat', 'mengamankan', 'tersangka', 'petugas', 'menemukan', 'butir', 'amunisi', 'selain', 'terkait', 'kasus', 'pembacokan', 'tersangka', 'juga', 'jaringan', 'pengadaan', 'amunisi', 'untuk', 'papua', 'selanjutnya', 'kita', 'akan', 'lakukan', 'pengembangan', 'kita', 'informasikan', 'kembali', 'pungkas', 'kabid', 'hubungan', 'masyarakat', 'polda', 'papua', 'terungkap', 'sosok', 'praka'] \n",
      "\n"
     ]
    }
   ],
   "source": [
    "for i in data.loc[8][['text_tok','text_Normalisasi']]:\n",
    "    print(i,'\\n')"
   ]
  },
  {
   "cell_type": "markdown",
   "metadata": {},
   "source": [
    "### Stopwords Removal"
   ]
  },
  {
   "cell_type": "code",
   "execution_count": 20,
   "metadata": {},
   "outputs": [
    {
     "name": "stderr",
     "output_type": "stream",
     "text": [
      "[nltk_data] Error loading stopwords: <urlopen error [Errno 11001]\n",
      "[nltk_data]     getaddrinfo failed>\n"
     ]
    }
   ],
   "source": [
    "#menghapus kata yang kurang penting, namun sering muncul (stopword) seperti kata penghubung\n",
    "#mengambil stopword dari library python sastrawi\n",
    "import nltk\n",
    "nltk.download('stopwords')\n",
    "\n",
    "listStopword = set(stopwords.words('indonesian'))\n",
    "listStopword.update(set(stopwords.words('english')))\n",
    "\n",
    "def stopwords_removal(words):\n",
    "    return [word for word in words if word not in listStopword]\n",
    "\n",
    "data['text_Stopwords'] = data['text_Normalisasi'].apply(stopwords_removal)"
   ]
  },
  {
   "cell_type": "code",
   "execution_count": 21,
   "metadata": {},
   "outputs": [
    {
     "name": "stdout",
     "output_type": "stream",
     "text": [
      "['anggota', 'papua', 'ceroboh', 'perannya', 'sebagai', 'pemasok', 'amunisi', 'terbongkar', 'gara', 'gara', 'bacok', 'warga', 'sipil', 'surya', 'gara', 'gara', 'kecerobohannya', 'sendiri', 'seorang', 'anggota', 'papua', 'berhasil', 'ditangkap', 'aparat', 'polri', 'hanya', 'perannya', 'sebagai', 'pemasok', 'amunisi', 'untuk', 'papua', 'juga', 'ikut', 'terbongkar', 'penyebab', 'awalnya', 'adalah', 'nekat', 'membacok', 'warga', 'sipil', 'intan', 'jaya', 'pada', 'april', 'lalu', 'polisi', 'langsung', 'menangkapnya', 'akhirnya', 'terbongkar', 'perannya', 'sebagai', 'anggota', 'papua', 'yang', 'bertugas', 'memasok', 'amunisi', 'melansir', 'dari', 'laman', 'tribratanews', 'polri', 'berdasarkan', 'informasi', 'adanya', 'keberadaan', 'tersangka', 'pembacokan', 'warga', 'intan', 'jaya', 'pada', 'april', 'pertigaan', 'pasar', 'yokatapang', 'aparat', 'gabungan', 'damai', 'cartenz', 'melakukan', 'pegecekan', 'penyelidikan', 'dari', 'hasil', 'pengecekan', 'tersangka', 'terlihat', 'kali', 'wabu', 'rabu', 'selanjutnya', 'bergerak', 'berhasil', 'mengamankan', 'tersangka', 'yang', 'diketahui', 'berinisial', 'dari', 'hasil', 'pemeriksaan', 'sementara', 'tersangka', 'juga', 'merupakan', 'anggota', 'papua', 'aktif', 'dibenarkan', 'oleh', 'kabid', 'hubungan', 'masyarakat', 'polda', 'papua', 'kombes', 'mustofa', 'kamal', 'saat', 'dikonfirmasi', 'pihaknya', 'menyebutkan', 'penangkanapan', 'berawal', 'dari', 'penyeledikan', 'kasus', 'pembacokan', 'asep', 'saputra', 'pada', 'april', 'lalu', 'setelah', 'mendapat', 'informasi', 'kita', 'berhasil', 'mengamankan', 'tersangka', 'selanjutnya', 'kita', 'lakukan', 'pengembangan', 'ujarnya', 'dari', 'hasil', 'pengembangan', 'lanjut', 'kasatgas', 'bahwa', 'tersangka', 'diketahui', 'merupakan', 'jaringan', 'pengadaan', 'amunisi', 'untuk', 'papua', 'terbukti', 'saat', 'mengamankan', 'tersangka', 'petugas', 'menemukan', 'butir', 'amunisi', 'selain', 'terkait', 'kasus', 'pembacokan', 'tersangka', 'juga', 'jaringan', 'pengadaan', 'amunisi', 'untuk', 'papua', 'selanjutnya', 'kita', 'akan', 'lakukan', 'pengembangan', 'kita', 'informasikan', 'kembali', 'pungkas', 'kabid', 'hubungan', 'masyarakat', 'polda', 'papua', 'terungkap', 'sosok', 'praka'] \n",
      "\n",
      "['anggota', 'papua', 'ceroboh', 'perannya', 'pemasok', 'amunisi', 'terbongkar', 'gara', 'gara', 'bacok', 'warga', 'sipil', 'surya', 'gara', 'gara', 'kecerobohannya', 'anggota', 'papua', 'berhasil', 'ditangkap', 'aparat', 'polri', 'perannya', 'pemasok', 'amunisi', 'papua', 'terbongkar', 'penyebab', 'nekat', 'membacok', 'warga', 'sipil', 'intan', 'jaya', 'april', 'polisi', 'langsung', 'menangkapnya', 'terbongkar', 'perannya', 'anggota', 'papua', 'bertugas', 'memasok', 'amunisi', 'melansir', 'laman', 'tribratanews', 'polri', 'berdasarkan', 'informasi', 'keberadaan', 'tersangka', 'pembacokan', 'warga', 'intan', 'jaya', 'april', 'pertigaan', 'pasar', 'yokatapang', 'aparat', 'gabungan', 'damai', 'cartenz', 'pegecekan', 'penyelidikan', 'hasil', 'pengecekan', 'tersangka', 'kali', 'wabu', 'rabu', 'bergerak', 'berhasil', 'mengamankan', 'tersangka', 'berinisial', 'hasil', 'pemeriksaan', 'tersangka', 'anggota', 'papua', 'aktif', 'dibenarkan', 'kabid', 'hubungan', 'masyarakat', 'polda', 'papua', 'kombes', 'mustofa', 'kamal', 'dikonfirmasi', 'penangkanapan', 'penyeledikan', 'pembacokan', 'asep', 'saputra', 'april', 'informasi', 'berhasil', 'mengamankan', 'tersangka', 'lakukan', 'pengembangan', 'hasil', 'pengembangan', 'kasatgas', 'tersangka', 'jaringan', 'pengadaan', 'amunisi', 'papua', 'terbukti', 'mengamankan', 'tersangka', 'petugas', 'menemukan', 'butir', 'amunisi', 'terkait', 'pembacokan', 'tersangka', 'jaringan', 'pengadaan', 'amunisi', 'papua', 'lakukan', 'pengembangan', 'informasikan', 'pungkas', 'kabid', 'hubungan', 'masyarakat', 'polda', 'papua', 'terungkap', 'sosok', 'praka'] \n",
      "\n"
     ]
    }
   ],
   "source": [
    "for i in data.loc[8][['text_Normalisasi','text_Stopwords']]:\n",
    "    print(i,'\\n')"
   ]
  },
  {
   "cell_type": "code",
   "execution_count": 22,
   "metadata": {},
   "outputs": [],
   "source": [
    "#mengembalikan token menjadi string tunggal kembali untuk stemming\n",
    "def untokenize(text):\n",
    "    \n",
    "    text = ' '.join(text)\n",
    "    step1 = text.replace(\"`` \", '\"').replace(\" ''\", '\"').replace('. . .',  '...')\n",
    "    step2 = step1.replace(\" ( \", \" (\").replace(\" ) \", \") \")\n",
    "    step3 = re.sub(r' ([.,:;?!%]+)([ \\'\"`])', r\"\\1\\2\", step2)\n",
    "    step4 = re.sub(r' ([.,:;?!%]+)$', r\"\\1\", step3)\n",
    "    step5 = step4.replace(\" '\", \"'\").replace(\" n't\", \"n't\").replace(\n",
    "         \"can not\", \"cannot\")\n",
    "    step6 = step5.replace(\" ` \", \" '\")\n",
    "    return step6.strip()\n",
    "\n",
    "data['text_Untokenized'] = data['text_Stopwords'].apply(untokenize)"
   ]
  },
  {
   "cell_type": "code",
   "execution_count": 23,
   "metadata": {
    "scrolled": true
   },
   "outputs": [
    {
     "name": "stdout",
     "output_type": "stream",
     "text": [
      "['anggota', 'papua', 'ceroboh', 'perannya', 'pemasok', 'amunisi', 'terbongkar', 'gara', 'gara', 'bacok', 'warga', 'sipil', 'surya', 'gara', 'gara', 'kecerobohannya', 'anggota', 'papua', 'berhasil', 'ditangkap', 'aparat', 'polri', 'perannya', 'pemasok', 'amunisi', 'papua', 'terbongkar', 'penyebab', 'nekat', 'membacok', 'warga', 'sipil', 'intan', 'jaya', 'april', 'polisi', 'langsung', 'menangkapnya', 'terbongkar', 'perannya', 'anggota', 'papua', 'bertugas', 'memasok', 'amunisi', 'melansir', 'laman', 'tribratanews', 'polri', 'berdasarkan', 'informasi', 'keberadaan', 'tersangka', 'pembacokan', 'warga', 'intan', 'jaya', 'april', 'pertigaan', 'pasar', 'yokatapang', 'aparat', 'gabungan', 'damai', 'cartenz', 'pegecekan', 'penyelidikan', 'hasil', 'pengecekan', 'tersangka', 'kali', 'wabu', 'rabu', 'bergerak', 'berhasil', 'mengamankan', 'tersangka', 'berinisial', 'hasil', 'pemeriksaan', 'tersangka', 'anggota', 'papua', 'aktif', 'dibenarkan', 'kabid', 'hubungan', 'masyarakat', 'polda', 'papua', 'kombes', 'mustofa', 'kamal', 'dikonfirmasi', 'penangkanapan', 'penyeledikan', 'pembacokan', 'asep', 'saputra', 'april', 'informasi', 'berhasil', 'mengamankan', 'tersangka', 'lakukan', 'pengembangan', 'hasil', 'pengembangan', 'kasatgas', 'tersangka', 'jaringan', 'pengadaan', 'amunisi', 'papua', 'terbukti', 'mengamankan', 'tersangka', 'petugas', 'menemukan', 'butir', 'amunisi', 'terkait', 'pembacokan', 'tersangka', 'jaringan', 'pengadaan', 'amunisi', 'papua', 'lakukan', 'pengembangan', 'informasikan', 'pungkas', 'kabid', 'hubungan', 'masyarakat', 'polda', 'papua', 'terungkap', 'sosok', 'praka'] \n",
      "\n",
      "anggota papua ceroboh perannya pemasok amunisi terbongkar gara gara bacok warga sipil surya gara gara kecerobohannya anggota papua berhasil ditangkap aparat polri perannya pemasok amunisi papua terbongkar penyebab nekat membacok warga sipil intan jaya april polisi langsung menangkapnya terbongkar perannya anggota papua bertugas memasok amunisi melansir laman tribratanews polri berdasarkan informasi keberadaan tersangka pembacokan warga intan jaya april pertigaan pasar yokatapang aparat gabungan damai cartenz pegecekan penyelidikan hasil pengecekan tersangka kali wabu rabu bergerak berhasil mengamankan tersangka berinisial hasil pemeriksaan tersangka anggota papua aktif dibenarkan kabid hubungan masyarakat polda papua kombes mustofa kamal dikonfirmasi penangkanapan penyeledikan pembacokan asep saputra april informasi berhasil mengamankan tersangka lakukan pengembangan hasil pengembangan kasatgas tersangka jaringan pengadaan amunisi papua terbukti mengamankan tersangka petugas menemukan butir amunisi terkait pembacokan tersangka jaringan pengadaan amunisi papua lakukan pengembangan informasikan pungkas kabid hubungan masyarakat polda papua terungkap sosok praka \n",
      "\n"
     ]
    }
   ],
   "source": [
    "for i in data.loc[8][['text_Stopwords','text_Untokenized']]:\n",
    "    print(i,'\\n')"
   ]
  },
  {
   "cell_type": "code",
   "execution_count": 24,
   "metadata": {
    "scrolled": true
   },
   "outputs": [
    {
     "data": {
      "text/html": [
       "<div>\n",
       "<style scoped>\n",
       "    .dataframe tbody tr th:only-of-type {\n",
       "        vertical-align: middle;\n",
       "    }\n",
       "\n",
       "    .dataframe tbody tr th {\n",
       "        vertical-align: top;\n",
       "    }\n",
       "\n",
       "    .dataframe thead th {\n",
       "        text-align: right;\n",
       "    }\n",
       "</style>\n",
       "<table border=\"1\" class=\"dataframe\">\n",
       "  <thead>\n",
       "    <tr style=\"text-align: right;\">\n",
       "      <th></th>\n",
       "      <th>content</th>\n",
       "      <th>date</th>\n",
       "      <th>title</th>\n",
       "      <th>label</th>\n",
       "      <th>binary_label</th>\n",
       "      <th>Combined</th>\n",
       "      <th>text</th>\n",
       "      <th>text_case</th>\n",
       "      <th>text_tok</th>\n",
       "      <th>text_Normalisasi</th>\n",
       "      <th>text_Stopwords</th>\n",
       "      <th>text_Untokenized</th>\n",
       "    </tr>\n",
       "  </thead>\n",
       "  <tbody>\n",
       "    <tr>\n",
       "      <th>0</th>\n",
       "      <td>Berita SurabayaSURYA.co.id | SURABAYA - Pengem...</td>\n",
       "      <td>Jumat, 10 Juni 2022 01:08</td>\n",
       "      <td>PT Intiland Development Kembangkan Kawasan Ind...</td>\n",
       "      <td>noclickbait</td>\n",
       "      <td>0</td>\n",
       "      <td>PT Intiland Development Kembangkan Kawasan Ind...</td>\n",
       "      <td>Intiland Development Kembangkan Kawasan Indus...</td>\n",
       "      <td>intiland development kembangkan kawasan indus...</td>\n",
       "      <td>[pertumbuhan, ekonomi, masuknya, investasi, da...</td>\n",
       "      <td>[pertumbuhan, ekonomi, masuknya, investasi, da...</td>\n",
       "      <td>[pertumbuhan, ekonomi, masuknya, investasi, ne...</td>\n",
       "      <td>pertumbuhan ekonomi masuknya investasi negeri ...</td>\n",
       "    </tr>\n",
       "    <tr>\n",
       "      <th>1</th>\n",
       "      <td>Berita SurabayaSURYA.co.id | SURABAYA - Brand ...</td>\n",
       "      <td>Jumat, 10 Juni 2022 01:16</td>\n",
       "      <td>ANKER Menangkan Penghargaan Nobel Prize di Aja...</td>\n",
       "      <td>noclickbait</td>\n",
       "      <td>0</td>\n",
       "      <td>ANKER Menangkan Penghargaan Nobel Prize di Aja...</td>\n",
       "      <td>ANKER Menangkan Penghargaan Nobel Prize Ajang ...</td>\n",
       "      <td>anker menangkan penghargaan nobel prize ajang ...</td>\n",
       "      <td>[anker, menangkan, penghargaan, nobel, prize, ...</td>\n",
       "      <td>[anker, menangkan, penghargaan, nobel, prize, ...</td>\n",
       "      <td>[anker, menangkan, penghargaan, nobel, prize, ...</td>\n",
       "      <td>anker menangkan penghargaan nobel prize ajang ...</td>\n",
       "    </tr>\n",
       "    <tr>\n",
       "      <th>2</th>\n",
       "      <td>Berita SurabayaSURYA.co.id | SURABAYA - PT Har...</td>\n",
       "      <td>Jumat, 10 Juni 2022 01:27</td>\n",
       "      <td>Perluas Bisnis, Hartadinata Abadi Store Buka G...</td>\n",
       "      <td>noclickbait</td>\n",
       "      <td>0</td>\n",
       "      <td>Perluas Bisnis, Hartadinata Abadi Store Buka G...</td>\n",
       "      <td>Perluas Bisnis Hartadinata Abadi Store Buka Ge...</td>\n",
       "      <td>perluas bisnis hartadinata abadi store buka ge...</td>\n",
       "      <td>[perluas, bisnis, hartadinata, abadi, store, b...</td>\n",
       "      <td>[perluas, bisnis, hartadinata, abadi, store, b...</td>\n",
       "      <td>[perluas, bisnis, hartadinata, abadi, store, b...</td>\n",
       "      <td>perluas bisnis hartadinata abadi store buka ge...</td>\n",
       "    </tr>\n",
       "    <tr>\n",
       "      <th>3</th>\n",
       "      <td>Berita SurabayaSURYA.co.id | SURABAYA – Peneri...</td>\n",
       "      <td>Jumat, 10 Juni 2022 01:34</td>\n",
       "      <td>PPDB SMP Dibuka Hari Ini, Dindik Surabaya Mint...</td>\n",
       "      <td>clickbait</td>\n",
       "      <td>1</td>\n",
       "      <td>PPDB SMP Dibuka Hari Ini, Dindik Surabaya Mint...</td>\n",
       "      <td>PPDB Dibuka Hari Dindik Surabaya Minta Wali Mu...</td>\n",
       "      <td>ppdb dibuka hari dindik surabaya minta wali mu...</td>\n",
       "      <td>[ppdb, dibuka, hari, dindik, surabaya, minta, ...</td>\n",
       "      <td>[ppdb, dibuka, hari, dindik, surabaya, minta, ...</td>\n",
       "      <td>[ppdb, dibuka, dindik, surabaya, wali, murid, ...</td>\n",
       "      <td>ppdb dibuka dindik surabaya wali murid percaya...</td>\n",
       "    </tr>\n",
       "    <tr>\n",
       "      <th>4</th>\n",
       "      <td>SURYA.co.id I Masih ingat Ronaldo Nazario, san...</td>\n",
       "      <td>Jumat, 10 Juni 2022 01:51</td>\n",
       "      <td>Liga Spanyol, Ronaldo Legenda Real Madrid, Jad...</td>\n",
       "      <td>clickbait</td>\n",
       "      <td>1</td>\n",
       "      <td>Liga Spanyol, Ronaldo Legenda Real Madrid, Jad...</td>\n",
       "      <td>Liga Spanyol Ronaldo Legenda Real Madrid Jadi ...</td>\n",
       "      <td>liga spanyol ronaldo legenda real madrid jadi ...</td>\n",
       "      <td>[liga, spanyol, ronaldo, legenda, real, madrid...</td>\n",
       "      <td>[liga, spanyol, ronaldo, legenda, real, madrid...</td>\n",
       "      <td>[liga, spanyol, ronaldo, legenda, real, madrid...</td>\n",
       "      <td>liga spanyol ronaldo legenda real madrid presi...</td>\n",
       "    </tr>\n",
       "  </tbody>\n",
       "</table>\n",
       "</div>"
      ],
      "text/plain": [
       "                                             content  \\\n",
       "0  Berita SurabayaSURYA.co.id | SURABAYA - Pengem...   \n",
       "1  Berita SurabayaSURYA.co.id | SURABAYA - Brand ...   \n",
       "2  Berita SurabayaSURYA.co.id | SURABAYA - PT Har...   \n",
       "3  Berita SurabayaSURYA.co.id | SURABAYA – Peneri...   \n",
       "4  SURYA.co.id I Masih ingat Ronaldo Nazario, san...   \n",
       "\n",
       "                        date  \\\n",
       "0  Jumat, 10 Juni 2022 01:08   \n",
       "1  Jumat, 10 Juni 2022 01:16   \n",
       "2  Jumat, 10 Juni 2022 01:27   \n",
       "3  Jumat, 10 Juni 2022 01:34   \n",
       "4  Jumat, 10 Juni 2022 01:51   \n",
       "\n",
       "                                               title        label  \\\n",
       "0  PT Intiland Development Kembangkan Kawasan Ind...  noclickbait   \n",
       "1  ANKER Menangkan Penghargaan Nobel Prize di Aja...  noclickbait   \n",
       "2  Perluas Bisnis, Hartadinata Abadi Store Buka G...  noclickbait   \n",
       "3  PPDB SMP Dibuka Hari Ini, Dindik Surabaya Mint...    clickbait   \n",
       "4  Liga Spanyol, Ronaldo Legenda Real Madrid, Jad...    clickbait   \n",
       "\n",
       "   binary_label                                           Combined  \\\n",
       "0             0  PT Intiland Development Kembangkan Kawasan Ind...   \n",
       "1             0  ANKER Menangkan Penghargaan Nobel Prize di Aja...   \n",
       "2             0  Perluas Bisnis, Hartadinata Abadi Store Buka G...   \n",
       "3             1  PPDB SMP Dibuka Hari Ini, Dindik Surabaya Mint...   \n",
       "4             1  Liga Spanyol, Ronaldo Legenda Real Madrid, Jad...   \n",
       "\n",
       "                                                text  \\\n",
       "0   Intiland Development Kembangkan Kawasan Indus...   \n",
       "1  ANKER Menangkan Penghargaan Nobel Prize Ajang ...   \n",
       "2  Perluas Bisnis Hartadinata Abadi Store Buka Ge...   \n",
       "3  PPDB Dibuka Hari Dindik Surabaya Minta Wali Mu...   \n",
       "4  Liga Spanyol Ronaldo Legenda Real Madrid Jadi ...   \n",
       "\n",
       "                                           text_case  \\\n",
       "0   intiland development kembangkan kawasan indus...   \n",
       "1  anker menangkan penghargaan nobel prize ajang ...   \n",
       "2  perluas bisnis hartadinata abadi store buka ge...   \n",
       "3  ppdb dibuka hari dindik surabaya minta wali mu...   \n",
       "4  liga spanyol ronaldo legenda real madrid jadi ...   \n",
       "\n",
       "                                            text_tok  \\\n",
       "0  [pertumbuhan, ekonomi, masuknya, investasi, da...   \n",
       "1  [anker, menangkan, penghargaan, nobel, prize, ...   \n",
       "2  [perluas, bisnis, hartadinata, abadi, store, b...   \n",
       "3  [ppdb, dibuka, hari, dindik, surabaya, minta, ...   \n",
       "4  [liga, spanyol, ronaldo, legenda, real, madrid...   \n",
       "\n",
       "                                    text_Normalisasi  \\\n",
       "0  [pertumbuhan, ekonomi, masuknya, investasi, da...   \n",
       "1  [anker, menangkan, penghargaan, nobel, prize, ...   \n",
       "2  [perluas, bisnis, hartadinata, abadi, store, b...   \n",
       "3  [ppdb, dibuka, hari, dindik, surabaya, minta, ...   \n",
       "4  [liga, spanyol, ronaldo, legenda, real, madrid...   \n",
       "\n",
       "                                      text_Stopwords  \\\n",
       "0  [pertumbuhan, ekonomi, masuknya, investasi, ne...   \n",
       "1  [anker, menangkan, penghargaan, nobel, prize, ...   \n",
       "2  [perluas, bisnis, hartadinata, abadi, store, b...   \n",
       "3  [ppdb, dibuka, dindik, surabaya, wali, murid, ...   \n",
       "4  [liga, spanyol, ronaldo, legenda, real, madrid...   \n",
       "\n",
       "                                    text_Untokenized  \n",
       "0  pertumbuhan ekonomi masuknya investasi negeri ...  \n",
       "1  anker menangkan penghargaan nobel prize ajang ...  \n",
       "2  perluas bisnis hartadinata abadi store buka ge...  \n",
       "3  ppdb dibuka dindik surabaya wali murid percaya...  \n",
       "4  liga spanyol ronaldo legenda real madrid presi...  "
      ]
     },
     "execution_count": 24,
     "metadata": {},
     "output_type": "execute_result"
    }
   ],
   "source": [
    "data.head(5)"
   ]
  },
  {
   "cell_type": "code",
   "execution_count": 25,
   "metadata": {},
   "outputs": [],
   "source": [
    "# # Menyimpan data preprocessed\n",
    "# column_name = ['text','text_case', 'text_tok', 'text_Normalisasi', 'text_Stopwords Stopwords', 'text_Untokenized', 'binary_label']\n",
    "# df = data.reindex(columns=column_name)\n",
    "# df.to_csv('preprocessed_data_all.csv', index=False)\n",
    "# df.head(5)"
   ]
  },
  {
   "cell_type": "markdown",
   "metadata": {},
   "source": [
    "## Train-Test-Split"
   ]
  },
  {
   "cell_type": "code",
   "execution_count": 26,
   "metadata": {},
   "outputs": [],
   "source": [
    "x_train, x_test, y_train, y_test = train_test_split(data['text_Untokenized'], data['binary_label'], test_size=0.2, random_state=0)"
   ]
  },
  {
   "cell_type": "code",
   "execution_count": 27,
   "metadata": {},
   "outputs": [],
   "source": [
    "# Defining pre-processing parameters\n",
    "max_len = 100\n",
    "trunc_type = 'post'\n",
    "padding_type = 'post'\n",
    "oov_tok = '<OOV>' # out of vocabulary token\n",
    "vocab_size = 2000"
   ]
  },
  {
   "cell_type": "code",
   "execution_count": 28,
   "metadata": {
    "scrolled": true
   },
   "outputs": [],
   "source": [
    "tokenizer = Tokenizer(num_words = vocab_size, \n",
    "                      char_level = False,\n",
    "                      oov_token = oov_tok)\n",
    "tokenizer.fit_on_texts(x_train)"
   ]
  },
  {
   "cell_type": "code",
   "execution_count": 29,
   "metadata": {
    "scrolled": false
   },
   "outputs": [
    {
     "data": {
      "text/plain": [
       "21531"
      ]
     },
     "execution_count": 29,
     "metadata": {},
     "output_type": "execute_result"
    }
   ],
   "source": [
    "# Mendapatkan word_index tiap kata\n",
    "word_index = tokenizer.word_index\n",
    "total_words = len(word_index)\n",
    "total_words\n",
    "# dict(list(word_index.items())[142:145])"
   ]
  },
  {
   "cell_type": "code",
   "execution_count": 30,
   "metadata": {},
   "outputs": [],
   "source": [
    "# Sequences dan padding kata\n",
    "training_sequences = tokenizer.texts_to_sequences(x_train)\n",
    "training_padded = pad_sequences(training_sequences,\n",
    "                                maxlen = max_len,\n",
    "                                padding = padding_type,\n",
    "                                truncating = trunc_type)"
   ]
  },
  {
   "cell_type": "code",
   "execution_count": 31,
   "metadata": {},
   "outputs": [],
   "source": [
    "testing_sequences = tokenizer.texts_to_sequences(x_test)\n",
    "testing_padded = pad_sequences(testing_sequences,\n",
    "                               maxlen = max_len,\n",
    "                               padding = padding_type,\n",
    "                               truncating = trunc_type)"
   ]
  },
  {
   "cell_type": "code",
   "execution_count": 32,
   "metadata": {
    "scrolled": false
   },
   "outputs": [
    {
     "name": "stdout",
     "output_type": "stream",
     "text": [
      "Shape of training tensor:  (1280, 100)\n",
      "Shape of testing tensor:  (320, 100)\n"
     ]
    }
   ],
   "source": [
    "print('Shape of training tensor: ', training_padded.shape)\n",
    "print('Shape of testing tensor: ', testing_padded.shape)"
   ]
  },
  {
   "cell_type": "markdown",
   "metadata": {},
   "source": [
    "## DENSE"
   ]
  },
  {
   "cell_type": "code",
   "execution_count": 33,
   "metadata": {},
   "outputs": [],
   "source": [
    "METRICS = [\n",
    "      tf.keras.metrics.BinaryAccuracy(name='accuracy'),\n",
    "      tf.keras.metrics.Precision(name='precision'),\n",
    "      tf.keras.metrics.Recall(name='recall')\n",
    "]"
   ]
  },
  {
   "cell_type": "code",
   "execution_count": 34,
   "metadata": {},
   "outputs": [],
   "source": [
    "# Define parameter\n",
    "embedding_dim = 64\n",
    "drop_value = 0.2\n",
    "n_dense = 24\n",
    "\n",
    "# Define Dense Model Architecture\n",
    "model = Sequential()\n",
    "model.add(Embedding(input_dim=vocab_size,\n",
    "                    output_dim=embedding_dim,\n",
    "                    input_length = max_len))\n",
    "model.add(GlobalAveragePooling1D())\n",
    "model.add(Dense(24, activation='relu'))\n",
    "model.add(Dropout(drop_value))\n",
    "model.add(Dense(1, activation='sigmoid'))"
   ]
  },
  {
   "cell_type": "code",
   "execution_count": 35,
   "metadata": {},
   "outputs": [
    {
     "name": "stdout",
     "output_type": "stream",
     "text": [
      "Model: \"sequential\"\n",
      "_________________________________________________________________\n",
      " Layer (type)                Output Shape              Param #   \n",
      "=================================================================\n",
      " embedding (Embedding)       (None, 100, 64)           128000    \n",
      "                                                                 \n",
      " global_average_pooling1d (G  (None, 64)               0         \n",
      " lobalAveragePooling1D)                                          \n",
      "                                                                 \n",
      " dense (Dense)               (None, 24)                1560      \n",
      "                                                                 \n",
      " dropout (Dropout)           (None, 24)                0         \n",
      "                                                                 \n",
      " dense_1 (Dense)             (None, 1)                 25        \n",
      "                                                                 \n",
      "=================================================================\n",
      "Total params: 129,585\n",
      "Trainable params: 129,585\n",
      "Non-trainable params: 0\n",
      "_________________________________________________________________\n"
     ]
    }
   ],
   "source": [
    "model.summary()"
   ]
  },
  {
   "cell_type": "code",
   "execution_count": 36,
   "metadata": {},
   "outputs": [],
   "source": [
    "model.compile(loss = 'binary_crossentropy', optimizer = 'adam' , metrics = METRICS)"
   ]
  },
  {
   "cell_type": "code",
   "execution_count": 37,
   "metadata": {
    "scrolled": true
   },
   "outputs": [
    {
     "name": "stdout",
     "output_type": "stream",
     "text": [
      "Epoch 1/30\n",
      "40/40 - 2s - loss: 0.6870 - accuracy: 0.5938 - precision: 0.7489 - recall: 0.2686 - val_loss: 0.6765 - val_accuracy: 0.7719 - val_precision: 0.8983 - val_recall: 0.6347 - 2s/epoch - 47ms/step\n",
      "Epoch 2/30\n",
      "40/40 - 0s - loss: 0.6486 - accuracy: 0.7945 - precision: 0.8627 - recall: 0.6951 - val_loss: 0.6206 - val_accuracy: 0.8031 - val_precision: 0.8467 - val_recall: 0.7605 - 215ms/epoch - 5ms/step\n",
      "Epoch 3/30\n",
      "40/40 - 0s - loss: 0.5581 - accuracy: 0.8148 - precision: 0.8511 - recall: 0.7583 - val_loss: 0.5205 - val_accuracy: 0.8156 - val_precision: 0.8418 - val_recall: 0.7964 - 214ms/epoch - 5ms/step\n",
      "Epoch 4/30\n",
      "40/40 - 0s - loss: 0.4470 - accuracy: 0.8438 - precision: 0.8626 - recall: 0.8136 - val_loss: 0.4423 - val_accuracy: 0.8125 - val_precision: 0.8452 - val_recall: 0.7844 - 206ms/epoch - 5ms/step\n",
      "Epoch 5/30\n",
      "40/40 - 0s - loss: 0.3740 - accuracy: 0.8547 - precision: 0.8744 - recall: 0.8246 - val_loss: 0.4143 - val_accuracy: 0.8281 - val_precision: 0.8373 - val_recall: 0.8323 - 231ms/epoch - 6ms/step\n",
      "Epoch 6/30\n",
      "40/40 - 0s - loss: 0.3241 - accuracy: 0.8734 - precision: 0.8854 - recall: 0.8547 - val_loss: 0.4065 - val_accuracy: 0.8313 - val_precision: 0.8343 - val_recall: 0.8443 - 216ms/epoch - 5ms/step\n",
      "Epoch 7/30\n",
      "40/40 - 0s - loss: 0.2738 - accuracy: 0.9031 - precision: 0.8995 - recall: 0.9052 - val_loss: 0.4111 - val_accuracy: 0.8156 - val_precision: 0.8418 - val_recall: 0.7964 - 218ms/epoch - 5ms/step\n",
      "Epoch 8/30\n",
      "40/40 - 0s - loss: 0.2325 - accuracy: 0.9195 - precision: 0.9260 - recall: 0.9100 - val_loss: 0.4273 - val_accuracy: 0.8031 - val_precision: 0.8059 - val_recall: 0.8204 - 217ms/epoch - 5ms/step\n",
      "Epoch 9/30\n",
      "40/40 - 0s - loss: 0.1951 - accuracy: 0.9414 - precision: 0.9471 - recall: 0.9336 - val_loss: 0.4460 - val_accuracy: 0.8062 - val_precision: 0.8144 - val_recall: 0.8144 - 216ms/epoch - 5ms/step\n"
     ]
    }
   ],
   "source": [
    "num_epochs = 30\n",
    "early_stop = EarlyStopping(monitor='val_loss', patience=3)\n",
    "history = model.fit(training_padded,\n",
    "                    y_train,\n",
    "                    epochs=num_epochs, \n",
    "                    validation_data=(testing_padded, y_test),\n",
    "                    callbacks =[early_stop],\n",
    "                    verbose=2\n",
    "                   )"
   ]
  },
  {
   "cell_type": "code",
   "execution_count": 38,
   "metadata": {
    "scrolled": true
   },
   "outputs": [
    {
     "name": "stdout",
     "output_type": "stream",
     "text": [
      "10/10 [==============================] - 0s 4ms/step - loss: 0.4460 - accuracy: 0.8062 - precision: 0.8144 - recall: 0.8144\n"
     ]
    },
    {
     "data": {
      "text/plain": [
       "[0.44598954916000366,\n",
       " 0.8062499761581421,\n",
       " 0.8143712282180786,\n",
       " 0.8143712282180786]"
      ]
     },
     "execution_count": 38,
     "metadata": {},
     "output_type": "execute_result"
    }
   ],
   "source": [
    "model.evaluate(testing_padded, y_test)"
   ]
  },
  {
   "cell_type": "code",
   "execution_count": 39,
   "metadata": {},
   "outputs": [
    {
     "data": {
      "image/png": "[encoded data removed]",
      "text/plain": [
       "<Figure size 640x480 with 1 Axes>"
      ]
     },
     "metadata": {},
     "output_type": "display_data"
    },
    {
     "data": {
      "image/png": "[encoded data removed]",
      "text/plain": [
       "<Figure size 640x480 with 1 Axes>"
      ]
     },
     "metadata": {},
     "output_type": "display_data"
    }
   ],
   "source": [
    "train_loss=history.history['loss']\n",
    "val_loss=history.history['val_loss']\n",
    "train_acc=history.history['accuracy']\n",
    "val_acc=history.history['val_accuracy']\n",
    "\n",
    "plt.plot(train_acc)\n",
    "plt.plot(val_acc)\n",
    "plt.title('Perbandingan accuracy dari hasil training')\n",
    "plt.ylabel('acc')\n",
    "plt.xlabel('epoch')\n",
    "plt.legend(['train', 'test'], loc='upper left')\n",
    "plt.show()\n",
    "\n",
    "plt.plot(train_loss)\n",
    "plt.plot(val_loss)\n",
    "plt.title('Perbandingan loss dari hasil training')\n",
    "plt.ylabel('loss')\n",
    "plt.xlabel('epoch')\n",
    "plt.legend(['train', 'test'], loc='upper left')\n",
    "plt.show()"
   ]
  },
  {
   "cell_type": "code",
   "execution_count": 40,
   "metadata": {},
   "outputs": [
    {
     "name": "stdout",
     "output_type": "stream",
     "text": [
      "5/5 - 1s - loss: 0.1662 - accuracy: 0.9602 - precision: 0.9519 - recall: 0.9684 - 837ms/epoch - 167ms/step\n",
      "2/2 - 0s - loss: 0.4460 - accuracy: 0.8062 - precision: 0.8144 - recall: 0.8144 - 47ms/epoch - 23ms/step\n",
      "Train accuracy: 96.02\n",
      "Valid accuracy: 80.62\n"
     ]
    }
   ],
   "source": [
    "train_dense_results = model.evaluate(training_padded, np.asarray(y_train), verbose=2, batch_size=256)\n",
    "valid_dense_results = model.evaluate(testing_padded, np.asarray(y_test), verbose=2, batch_size=256)\n",
    "print(f'Train accuracy: {train_dense_results[1]*100:0.2f}')\n",
    "print(f'Valid accuracy: {valid_dense_results[1]*100:0.2f}')"
   ]
  },
  {
   "cell_type": "markdown",
   "metadata": {},
   "source": [
    "## LSTM"
   ]
  },
  {
   "cell_type": "code",
   "execution_count": 41,
   "metadata": {},
   "outputs": [],
   "source": [
    "# Define parameter\n",
    "# vocab_size = 2000\n",
    "embedding_dim = 64\n",
    "n_lstm = 128\n",
    "drop_lstm = 0.2\n",
    "\n",
    "# Define LSTM Model \n",
    "model1 = Sequential()\n",
    "model1.add(Embedding(input_dim=vocab_size,\n",
    "                    output_dim=embedding_dim,\n",
    "                    input_length=max_len))\n",
    "model1.add(SpatialDropout1D(drop_lstm))\n",
    "model1.add(LSTM(n_lstm, return_sequences=False))\n",
    "model1.add(Dropout(drop_lstm))\n",
    "model1.add(Dense(64, activation='relu'))\n",
    "model1.add(Dense(1, activation='sigmoid'))"
   ]
  },
  {
   "cell_type": "code",
   "execution_count": 42,
   "metadata": {
    "scrolled": false
   },
   "outputs": [
    {
     "name": "stdout",
     "output_type": "stream",
     "text": [
      "Model: \"sequential_1\"\n",
      "_________________________________________________________________\n",
      " Layer (type)                Output Shape              Param #   \n",
      "=================================================================\n",
      " embedding_1 (Embedding)     (None, 100, 64)           128000    \n",
      "                                                                 \n",
      " spatial_dropout1d (SpatialD  (None, 100, 64)          0         \n",
      " ropout1D)                                                       \n",
      "                                                                 \n",
      " lstm (LSTM)                 (None, 128)               98816     \n",
      "                                                                 \n",
      " dropout_1 (Dropout)         (None, 128)               0         \n",
      "                                                                 \n",
      " dense_2 (Dense)             (None, 64)                8256      \n",
      "                                                                 \n",
      " dense_3 (Dense)             (None, 1)                 65        \n",
      "                                                                 \n",
      "=================================================================\n",
      "Total params: 235,137\n",
      "Trainable params: 235,137\n",
      "Non-trainable params: 0\n",
      "_________________________________________________________________\n"
     ]
    }
   ],
   "source": [
    "model1.summary()"
   ]
  },
  {
   "cell_type": "code",
   "execution_count": 43,
   "metadata": {},
   "outputs": [],
   "source": [
    "model1.compile(loss = 'binary_crossentropy',\n",
    "               optimizer = 'adam',\n",
    "               metrics = METRICS)"
   ]
  },
  {
   "cell_type": "code",
   "execution_count": 44,
   "metadata": {},
   "outputs": [
    {
     "name": "stdout",
     "output_type": "stream",
     "text": [
      "Epoch 1/30\n",
      "40/40 - 8s - loss: 0.6927 - accuracy: 0.5781 - precision: 0.5479 - recall: 0.8938 - val_loss: 0.6850 - val_accuracy: 0.6469 - val_precision: 0.6500 - val_recall: 0.7006 - 8s/epoch - 204ms/step\n",
      "Epoch 2/30\n",
      "40/40 - 4s - loss: 0.6481 - accuracy: 0.6375 - precision: 0.6523 - recall: 0.5719 - val_loss: 0.6587 - val_accuracy: 0.6031 - val_precision: 0.9545 - val_recall: 0.2515 - 4s/epoch - 94ms/step\n",
      "Epoch 3/30\n",
      "40/40 - 4s - loss: 0.5788 - accuracy: 0.6992 - precision: 0.8351 - recall: 0.4882 - val_loss: 0.5364 - val_accuracy: 0.7812 - val_precision: 0.8345 - val_recall: 0.7246 - 4s/epoch - 94ms/step\n",
      "Epoch 4/30\n",
      "40/40 - 4s - loss: 0.4504 - accuracy: 0.8164 - precision: 0.8052 - recall: 0.8294 - val_loss: 0.4490 - val_accuracy: 0.8031 - val_precision: 0.7796 - val_recall: 0.8683 - 4s/epoch - 93ms/step\n",
      "Epoch 5/30\n",
      "40/40 - 4s - loss: 0.3334 - accuracy: 0.8797 - precision: 0.8517 - recall: 0.9163 - val_loss: 0.4683 - val_accuracy: 0.8062 - val_precision: 0.8344 - val_recall: 0.7844 - 4s/epoch - 93ms/step\n",
      "Epoch 6/30\n",
      "40/40 - 4s - loss: 0.2591 - accuracy: 0.9039 - precision: 0.9048 - recall: 0.9005 - val_loss: 0.5027 - val_accuracy: 0.7875 - val_precision: 0.7829 - val_recall: 0.8204 - 4s/epoch - 93ms/step\n"
     ]
    }
   ],
   "source": [
    "num_epochs = 30\n",
    "early_stop = EarlyStopping(monitor='val_loss', patience=2)\n",
    "history1 = model1.fit(training_padded,\n",
    "                     y_train,\n",
    "                     epochs=num_epochs, \n",
    "                     validation_data=(testing_padded, y_test),\n",
    "                     callbacks =[early_stop],\n",
    "                     verbose=2)"
   ]
  },
  {
   "cell_type": "code",
   "execution_count": 45,
   "metadata": {
    "scrolled": false
   },
   "outputs": [
    {
     "name": "stdout",
     "output_type": "stream",
     "text": [
      "10/10 [==============================] - 0s 41ms/step - loss: 0.5027 - accuracy: 0.7875 - precision: 0.7829 - recall: 0.8204\n"
     ]
    },
    {
     "data": {
      "text/plain": [
       "[0.5026618242263794,\n",
       " 0.7875000238418579,\n",
       " 0.7828571200370789,\n",
       " 0.8203592896461487]"
      ]
     },
     "execution_count": 45,
     "metadata": {},
     "output_type": "execute_result"
    }
   ],
   "source": [
    "model1.evaluate(testing_padded, y_test)"
   ]
  },
  {
   "cell_type": "code",
   "execution_count": 46,
   "metadata": {},
   "outputs": [
    {
     "data": {
      "image/png": "[encoded data removed]",
      "text/plain": [
       "<Figure size 640x480 with 1 Axes>"
      ]
     },
     "metadata": {},
     "output_type": "display_data"
    },
    {
     "data": {
      "image/png": "[encoded data removed]",
      "text/plain": [
       "<Figure size 640x480 with 1 Axes>"
      ]
     },
     "metadata": {},
     "output_type": "display_data"
    }
   ],
   "source": [
    "train_loss=history1.history['loss']\n",
    "val_loss=history1.history['val_loss']\n",
    "train_acc=history1.history['accuracy']\n",
    "val_acc=history1.history['val_accuracy']\n",
    "\n",
    "plt.plot(train_acc)\n",
    "plt.plot(val_acc)\n",
    "plt.title('Perbandingan accuracy dari hasil training')\n",
    "plt.ylabel('acc')\n",
    "plt.xlabel('epoch')\n",
    "plt.legend(['train', 'test'], loc='upper left')\n",
    "plt.show()\n",
    "\n",
    "plt.plot(train_loss)\n",
    "plt.plot(val_loss)\n",
    "plt.title('Perbandingan loss dari hasil training')\n",
    "plt.ylabel('loss')\n",
    "plt.xlabel('epoch')\n",
    "plt.legend(['train', 'test'], loc='upper left')\n",
    "plt.show()"
   ]
  },
  {
   "cell_type": "code",
   "execution_count": 47,
   "metadata": {
    "scrolled": false
   },
   "outputs": [
    {
     "name": "stdout",
     "output_type": "stream",
     "text": [
      "5/5 - 2s - loss: 0.1935 - accuracy: 0.9461 - precision: 0.9286 - recall: 0.9652 - 2s/epoch - 412ms/step\n",
      "2/2 - 0s - loss: 0.5027 - accuracy: 0.7875 - precision: 0.7829 - recall: 0.8204 - 234ms/epoch - 117ms/step\n",
      "Train accuracy: 94.61\n",
      "Valid accuracy: 78.75\n"
     ]
    }
   ],
   "source": [
    "train_dense_results = model1.evaluate(training_padded, np.asarray(y_train), verbose=2, batch_size=256)\n",
    "valid_dense_results = model1.evaluate(testing_padded, np.asarray(y_test), verbose=2, batch_size=256)\n",
    "print(f'Train accuracy: {train_dense_results[1]*100:0.2f}')\n",
    "print(f'Valid accuracy: {valid_dense_results[1]*100:0.2f}')"
   ]
  },
  {
   "cell_type": "markdown",
   "metadata": {},
   "source": [
    "## Bi - LSTM"
   ]
  },
  {
   "cell_type": "code",
   "execution_count": 48,
   "metadata": {},
   "outputs": [],
   "source": [
    "model2 = Sequential()\n",
    "model2.add(Embedding(input_dim=vocab_size,\n",
    "                    output_dim=embedding_dim,\n",
    "                     input_length = max_len))\n",
    "model2.add(Bidirectional(LSTM(n_lstm, return_sequences = False)))\n",
    "model2.add(Dropout(drop_lstm))\n",
    "model2.add(Dense(64, activation='relu'))\n",
    "model2.add(Dense(1, activation='sigmoid'))"
   ]
  },
  {
   "cell_type": "code",
   "execution_count": 49,
   "metadata": {},
   "outputs": [
    {
     "name": "stdout",
     "output_type": "stream",
     "text": [
      "Model: \"sequential_2\"\n",
      "_________________________________________________________________\n",
      " Layer (type)                Output Shape              Param #   \n",
      "=================================================================\n",
      " embedding_2 (Embedding)     (None, 100, 64)           128000    \n",
      "                                                                 \n",
      " bidirectional (Bidirectiona  (None, 256)              197632    \n",
      " l)                                                              \n",
      "                                                                 \n",
      " dropout_2 (Dropout)         (None, 256)               0         \n",
      "                                                                 \n",
      " dense_4 (Dense)             (None, 64)                16448     \n",
      "                                                                 \n",
      " dense_5 (Dense)             (None, 1)                 65        \n",
      "                                                                 \n",
      "=================================================================\n",
      "Total params: 342,145\n",
      "Trainable params: 342,145\n",
      "Non-trainable params: 0\n",
      "_________________________________________________________________\n"
     ]
    }
   ],
   "source": [
    "model2.summary()"
   ]
  },
  {
   "cell_type": "code",
   "execution_count": 50,
   "metadata": {},
   "outputs": [],
   "source": [
    "model2.compile(loss = 'binary_crossentropy',\n",
    "               optimizer = 'adam',\n",
    "               metrics=METRICS)"
   ]
  },
  {
   "cell_type": "code",
   "execution_count": 51,
   "metadata": {},
   "outputs": [
    {
     "name": "stdout",
     "output_type": "stream",
     "text": [
      "Epoch 1/30\n",
      "40/40 - 12s - loss: 0.6538 - accuracy: 0.6469 - precision: 0.6463 - recall: 0.6488 - val_loss: 0.5418 - val_accuracy: 0.7656 - val_precision: 0.8538 - val_recall: 0.6647 - 12s/epoch - 308ms/step\n",
      "Epoch 2/30\n",
      "40/40 - 7s - loss: 0.4203 - accuracy: 0.8242 - precision: 0.8377 - recall: 0.7994 - val_loss: 0.4235 - val_accuracy: 0.8375 - val_precision: 0.8528 - val_recall: 0.8323 - 7s/epoch - 167ms/step\n",
      "Epoch 3/30\n",
      "40/40 - 7s - loss: 0.2955 - accuracy: 0.8859 - precision: 0.8896 - recall: 0.8784 - val_loss: 0.4275 - val_accuracy: 0.8281 - val_precision: 0.8684 - val_recall: 0.7904 - 7s/epoch - 165ms/step\n",
      "Epoch 4/30\n",
      "40/40 - 7s - loss: 0.2297 - accuracy: 0.9203 - precision: 0.9194 - recall: 0.9194 - val_loss: 0.4529 - val_accuracy: 0.8250 - val_precision: 0.8323 - val_recall: 0.8323 - 7s/epoch - 166ms/step\n"
     ]
    }
   ],
   "source": [
    "num_epochs = 30\n",
    "early_stop = EarlyStopping(monitor = 'val_loss',\n",
    "                           patience = 2)\n",
    "history2 = model2.fit(training_padded,\n",
    "                     y_train,\n",
    "                     epochs = num_epochs,\n",
    "                     validation_data = (testing_padded, y_test),\n",
    "                     callbacks = [early_stop],\n",
    "                     verbose = 2)"
   ]
  },
  {
   "cell_type": "code",
   "execution_count": 52,
   "metadata": {
    "scrolled": false
   },
   "outputs": [
    {
     "name": "stdout",
     "output_type": "stream",
     "text": [
      "10/10 [==============================] - 1s 57ms/step - loss: 0.4529 - accuracy: 0.8250 - precision: 0.8323 - recall: 0.8323\n"
     ]
    },
    {
     "data": {
      "text/plain": [
       "[0.45287641882896423, 0.824999988079071, 0.832335352897644, 0.832335352897644]"
      ]
     },
     "execution_count": 52,
     "metadata": {},
     "output_type": "execute_result"
    }
   ],
   "source": [
    "model2.evaluate(testing_padded, y_test)"
   ]
  },
  {
   "cell_type": "code",
   "execution_count": 53,
   "metadata": {},
   "outputs": [
    {
     "data": {
      "image/png": "[encoded data removed]",
      "text/plain": [
       "<Figure size 640x480 with 1 Axes>"
      ]
     },
     "metadata": {},
     "output_type": "display_data"
    },
    {
     "data": {
      "image/png": "[encoded data removed]",
      "text/plain": [
       "<Figure size 640x480 with 1 Axes>"
      ]
     },
     "metadata": {},
     "output_type": "display_data"
    }
   ],
   "source": [
    "train_loss=history2.history['loss']\n",
    "val_loss=history2.history['val_loss']\n",
    "train_acc=history2.history['accuracy']\n",
    "val_acc=history2.history['val_accuracy']\n",
    "\n",
    "plt.plot(train_acc)\n",
    "plt.plot(val_acc)\n",
    "plt.title('Perbandingan accuracy dari hasil training')\n",
    "plt.ylabel('acc')\n",
    "plt.xlabel('epoch')\n",
    "plt.legend(['train', 'test'], loc='upper left')\n",
    "plt.show()\n",
    "\n",
    "plt.plot(train_loss)\n",
    "plt.plot(val_loss)\n",
    "plt.title('Perbandingan loss dari hasil training')\n",
    "plt.ylabel('loss')\n",
    "plt.xlabel('epoch')\n",
    "plt.legend(['train', 'test'], loc='upper left')\n",
    "plt.show()"
   ]
  },
  {
   "cell_type": "code",
   "execution_count": 54,
   "metadata": {
    "scrolled": false
   },
   "outputs": [
    {
     "name": "stdout",
     "output_type": "stream",
     "text": [
      "5/5 - 3s - loss: 0.1266 - accuracy: 0.9664 - precision: 0.9728 - recall: 0.9589 - 3s/epoch - 608ms/step\n",
      "2/2 - 0s - loss: 0.4529 - accuracy: 0.8250 - precision: 0.8323 - recall: 0.8323 - 392ms/epoch - 196ms/step\n",
      "Train accuracy: 96.64\n",
      "Valid accuracy: 82.50\n"
     ]
    }
   ],
   "source": [
    "train_dense_results = model2.evaluate(training_padded, np.asarray(y_train), verbose=2, batch_size=256)\n",
    "valid_dense_results = model2.evaluate(testing_padded, np.asarray(y_test), verbose=2, batch_size=256)\n",
    "print(f'Train accuracy: {train_dense_results[1]*100:0.2f}')\n",
    "print(f'Valid accuracy: {valid_dense_results[1]*100:0.2f}')"
   ]
  },
  {
   "cell_type": "markdown",
   "metadata": {},
   "source": [
    "## Comparing the four different models"
   ]
  },
  {
   "cell_type": "code",
   "execution_count": 55,
   "metadata": {
    "scrolled": true
   },
   "outputs": [
    {
     "name": "stdout",
     "output_type": "stream",
     "text": [
      "10/10 [==============================] - 0s 5ms/step - loss: 0.4460 - accuracy: 0.8062 - precision: 0.8144 - recall: 0.8144\n",
      "Dense model loss and accuracy: [0.44598954916000366, 0.8062499761581421, 0.8143712282180786, 0.8143712282180786] \n",
      "10/10 [==============================] - 0s 41ms/step - loss: 0.5027 - accuracy: 0.7875 - precision: 0.7829 - recall: 0.8204\n",
      "LSTM model loss and accuracy: [0.5026618242263794, 0.7875000238418579, 0.7828571200370789, 0.8203592896461487] \n",
      "10/10 [==============================] - 1s 57ms/step - loss: 0.4529 - accuracy: 0.8250 - precision: 0.8323 - recall: 0.8323\n",
      "Bi-LSTM model loss and accuracy: [0.45287641882896423, 0.824999988079071, 0.832335352897644, 0.832335352897644] \n"
     ]
    }
   ],
   "source": [
    "# perbandingan models\n",
    "print(f\"Dense model loss and accuracy: {model.evaluate(testing_padded, y_test)} \" )\n",
    "print(f\"LSTM model loss and accuracy: {model1.evaluate(testing_padded, y_test)} \" )\n",
    "print(f\"Bi-LSTM model loss and accuracy: {model2.evaluate(testing_padded, y_test)} \")"
   ]
  },
  {
   "cell_type": "code",
   "execution_count": 63,
   "metadata": {
    "scrolled": false
   },
   "outputs": [
    {
     "name": "stdout",
     "output_type": "stream",
     "text": [
      "10/10 [==============================] - 1s 53ms/step\n",
      "              precision    recall  f1-score   support\n",
      "\n",
      "           0       0.82      0.82      0.82       153\n",
      "           1       0.83      0.83      0.83       167\n",
      "\n",
      "    accuracy                           0.82       320\n",
      "   macro avg       0.82      0.82      0.82       320\n",
      "weighted avg       0.82      0.82      0.82       320\n",
      "\n"
     ]
    },
    {
     "data": {
      "image/png": "[encoded data removed]",
      "text/plain": [
       "<Figure size 640x480 with 2 Axes>"
      ]
     },
     "metadata": {},
     "output_type": "display_data"
    }
   ],
   "source": [
    "y_predicted = model2.predict(testing_padded)\n",
    "y_predicted = y_predicted.flatten()\n",
    "\n",
    "import numpy as np\n",
    "\n",
    "y_predicted = np.where(y_predicted > 0.5, 1, 0)\n",
    "y_predicted\n",
    "\n",
    "from sklearn.metrics import confusion_matrix, classification_report, accuracy_score, precision_score, recall_score, f1_score\n",
    "\n",
    "cm = confusion_matrix(y_test, y_predicted)\n",
    "cm \n",
    "\n",
    "from matplotlib import pyplot as plt\n",
    "import seaborn as sn\n",
    "sn.heatmap(cm, annot=True, fmt='d')\n",
    "plt.xlabel('Predicted')\n",
    "plt.ylabel('Truth')\n",
    "\n",
    "print(classification_report(y_test, y_predicted))"
   ]
  },
  {
   "cell_type": "code",
   "execution_count": 57,
   "metadata": {
    "scrolled": false
   },
   "outputs": [
    {
     "name": "stdout",
     "output_type": "stream",
     "text": [
      "1/1 [==============================] - 0s 78ms/step\n"
     ]
    },
    {
     "data": {
      "text/plain": [
       "array([[0.06917265],\n",
       "       [0.9813052 ],\n",
       "       [0.01977103],\n",
       "       [0.8969099 ],\n",
       "       [0.21766806],\n",
       "       [0.9846297 ]], dtype=float32)"
      ]
     },
     "execution_count": 57,
     "metadata": {},
     "output_type": "execute_result"
    }
   ],
   "source": [
    "predict_text = [\"atlet jatim sunoto terminator tempur international championship blood berita surabayasurya surabaya sunoto atlet jawa timur berlaga pertarungan kelas dunia championship blood pertarungan seni bela campuran martial kelas dunia hadir layar kaca jumat februari sunoto menghadapi juara myanmar tial thang tiket kelas bantam championship sunoto juara indonesia jawa timur diakui kemampuannya komunitas indonesia sunoto menjalani debut profesionalnya tampil championship julukan terminator mempertajam kemampuannya meraih kemenangan kariernya championship menjalani pemusatan latihan bali atlet tanah deddy sudarijanto hadirnya laga championship blood layar kaca indonesia upaya mengembangkan tontonan menarik menghibur mendorong potensi olahraga bela indonesia kemampuan atlet atlet kelas dunia inspirasi motivasi atlet olahraga bela indonesia kompetisi dunia championship blood kali indonesia memiliki wakilnya bertarung level deddy kamis kompetisi seni bela campuran martial championship dikenal nama fighting championship championship ajang pengembangan atlet beladiri berbasis singapura diluncurkan juli sunoto bertekad mengerahkan kemampuannya menghadapi tial thang ajang championship blood singapore indoor stadium atlet lawannya myanmar berlatih sanford amerika serikat bernaungnya petarung dunia aung sang brandon vera vitor belfort michael chandler beralih tial thang juara gulat myanmar berhasil mengoleksi ratusan kemenangan berkiprah negaranya sunoto gentar takut makan nasi makan nasi kecuali makan kemenyan sunoto\",\n",
    "                \"KRITERIA Calon Persebaya Surabaya Sempat Dibocorkan Azrul Ananda Petinggi PSIS Termasuk SURYA Azrul Ananda ternyata sempat membocorkan kriteria calon Persebaya Surabaya yang akan menggantikannya diungkapkan anak Dahlan Iskan dalam tayangan channel youtube Persebaya Surabaya Saat Azrul menyatakan mundur dari jabatan Persebaya Surabaya Jumat hadapan Bonek awak media Bocoran terkait kriteria calon Persebaya Surabaya terungkap saat Azrul mendapat pertanyaan bagaimana nasib Persebaya siapa yang memimpin nantinya Baca juga SOSOK Pengganti Azrul Ananda Persebaya Surabaya Terjawab Petinggi PSIS Semarang Diisukan MerapatAzrul menyatakan tidak akan meninggalkan Persebaya Surabaya begitu saja akan memastikan Persebaya Surabaya tetap Surabaya sebisa mungkin stakeholdernya adalah orang Surabaya Spiritnya akan sama bahwa harus tetap Surabaya tidak boleh kemana mana harus dikawal sebisa mungkin stakeholdernya harus orang Surabaya ujar Azrul tegas Berikut video selengkapnya Petinggi PSIS Termasuk Seperti diketahui Azrul Ananda telah memutuskan untuk mundur dari jabatan Persebaya Surabaya pada Jumat lalu Meski telah mundur tetapi anak dari Dahlan Iskan masih akan bertanggung jawab hingga Liga berakhir Sosok pengganti Azrul Ananda Persebaya Surabaya masih belum diketahui hingga saat Kabar beredar Petinggi PSIS Semarang Junianto dikaitkan sebagai sosok pengganti Azrul Ananda tersebut muncul usai putranya yaitu Fardhan Nandana menyebutkan bahwa Junianto telah ditunggu oleh para Bonek \",\n",
    "                \"pertumbuhan ekonomi masuknya investasi negeri terciptanya lapangan kerja permadi pengembangan kawasan industri salah segmen usaha utama perseroan proyek kawasan industri dimiliki intiland sukses mengembangan ngoro industrial park berlokasi mojokerto jawa timur kawasan industri terpadu pengembangannya terbagi tahapan pengembangan tahap meliputi area seluas hektare pengembangan direncanakan seluas hektare mengembangkan kawasan intiland menganut prinsip prinsip keberlanjutan desain pengoperasian pengembangan kawasan industri berupaya mematuhi kaidah kaidah bangunan hijau proses industribersih sistem pengelolaan ketat menjaga keseimbangan alam masyarakat lokasi strategis jalur trans jawa menjadikannya mudah dijangkau kota jakarta semarang surabaya kawasan industri berlokasi kilometer pintu kademan jalan raya pantura mudah dijangkau ditopang infrastruktur jalan\",\n",
    "                \"nonton piala dunia live streaming laptop digital surya simak nonton piala dunia lengkap laptop digital gelaran piala dunia qatar minggu pertandingan pembuka piala dunia kali mempertemukan tuan rumah qatar ekuador stadion bayt khor malam menonton piala dunia laptop digital baca download jadwal piala dunia jpeg lengkap pembagian grup babak final baca piala dunia lawan timnas brasil final impian cristiano ronaldoberikut surya merangkumnya nonton piala dunia penggemar sepak bola menyaksikan duel qatar ekuador pertandingan piala dunia aplikasi website vidio vidio opsi paket berlangganan penggemar sepak bola menyaksikan pertandingan piala dunia paket berlangganan vidio menonton jenis perangkat televisi paket langganan memungkinan penonton mengakses pertandingan piala dunia tablet langganan menonton piala dunia perangkat dihargai khusus tablet kebijakan berlangganan paket world vidio ditonton perangkat konten world tersedia desember\",\n",
    "                \"gudang penimbunan solar tuban digerebek polisi kembangkan jaringan pelaku surya tuban satreskrim polres tuban menggerebek gudang penimbunan solar desa minohorejo kecamatan widang kabupaten tuban penggerebekan polisi mengamankan kendaraan drum berisi solar bersubsidi liter kepala satuan reserse kriminal polres tuban gananta dikonfirmasi pembongkaran gudang solar membenarkan terkait penggerebekan solar kamis kemarin dikonfirmasi selasa perwira penemuan gudang penimbun jenis solar subsidi dasar laporan masyarakat diselidiki penyidik pengembangan mengungkap jaringannya disinggung sosok pelaku gananta proses penyelidikan kembangkan barang bukti amankan mobil nopol drum berisi solar drum drum pungkasnya berdasarkan data dihimpun modus pelaku penimbunan solar membawa surat desa keterangan kebutuhan pertanian stasiun pengisian bahan bakar spbu ambil solar spbu gesing kecamatan semanding spbu plumpang pelaku mengambil solar kali menyuruh orang membawa jeriken kapasitas liter solar dibeli ditampung gudang alasan dijual petani diduga dijual proyek pabrik membutuhkan\",\n",
    "                \"FERDY SAMBO Menangis Emosi Saat Perintahkan Tembak Brigadir Bripka Menolak Faktanya SURYA Terungkap sederet fakta tentang Bripka mengaku menolak perintah Ferdy Sambo untuk menembak Brigadir Menurut Bripka Ferdy Sambo menangis emosi saat melontarkan perintah tersebut Bripka juga menyebut Ferdy Sambo sempat dalam kondisi terguncang hingga menangis dibeberkan oleh Pengacara Bripka Ricky Rizal Erman Umar berdasarkan kesaksian kliennya Baca juga Alasan Brigadir Khianati Ferdy Sambo Peran Istri Terima Dijerat Pembunuhan BerencanaBerikut rangkuman fakta selengkapnya melansir dari Tribunnews dalam artikel Bripka Tolak Permintaan Ferdy Sambo untuk Tembak Brigadir Kini Balik Arah dari Skenario Ferdy Samo nangis emosiPengacara Bripka Ricky Rizal Erman Umar mengungkap kesaksian kliennya saat dipanggil Ferdy Sambo ketika berada rumah pribadi Irjen Ferdy Sambo Jalan Saguling Jakarta Saat Ferdy Sambo bertanya kepada kepada Bripka mengenai yang terjadi Magelang Saguling dipanggil Dipanggil Ferdy Sambo tanya kejadian kejadian Magelang Kamu tahu enggak Enggak tahu dilecehkan pelecehan terhadap sambil nangis emosi Saya enggak tahu kata Erman Lobi Bareskrim Polri Jakarta Kamis Menurut Erman ruangan juga Putri Istri Ferdy Sambo juga mengatakan bahwa Yosua melakukan pelecehan terhadap dirinya kuat mentalKemudian saat Ferdy Sambo menanyakan langsung kepada Bripka Ricky kesanggupannya menembak Brigadir \",\n",
    "                ]\n",
    "#0\n",
    "#1\n",
    "#0\n",
    "#1\n",
    "#0\n",
    "#1\n",
    "\n",
    "def predict_clickbait(predict_text):\n",
    "\n",
    "    new_seq = tokenizer.texts_to_sequences(predict_text)\n",
    "    padded = pad_sequences(new_seq,\n",
    "                           maxlen = max_len,\n",
    "                           padding = padding_type,truncating = trunc_type\n",
    "                        )\n",
    "    return(model.predict(padded))\n",
    "predict_clickbait(predict_text)"
   ]
  },
  {
   "cell_type": "code",
   "execution_count": 58,
   "metadata": {},
   "outputs": [],
   "source": [
    "# # Save model\n",
    "# pickle.dump(model, open(\"modelDense.pkl\", \"wb\"))\n",
    "# pickle.dump(model1, open(\"modelLSTM.pkl\", \"wb\"))\n",
    "# pickle.dump(model2, open(\"modelBiLSTM.pkl\", \"wb\"))"
   ]
  }
 ],
 "metadata": {
  "accelerator": "GPU",
  "colab": {
   "provenance": [
    {
     "file_id": "1fz7RIAb38kwm4ZWqwSpnRWHsUoU3gkAB",
     "timestamp": 1675394958319
    }
   ]
  },
  "gpuClass": "standard",
  "kernelspec": {
   "display_name": "Python 3 (ipykernel)",
   "language": "python",
   "name": "python3"
  },
  "language_info": {
   "codemirror_mode": {
    "name": "ipython",
    "version": 3
   },
   "file_extension": ".py",
   "mimetype": "text/x-python",
   "name": "python",
   "nbconvert_exporter": "python",
   "pygments_lexer": "ipython3",
   "version": "3.9.13"
  },
  "vscode": {
   "interpreter": {
    "hash": "60fae01829a9859f1b9b09bbf3da260fc282412cb9455bd181655220e510588f"
   }
  }
 },
 "nbformat": 4,
 "nbformat_minor": 1
}
